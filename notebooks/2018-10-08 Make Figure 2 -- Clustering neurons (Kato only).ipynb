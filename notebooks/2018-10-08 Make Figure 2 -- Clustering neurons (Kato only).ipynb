{
 "cells": [
  {
   "cell_type": "code",
   "execution_count": 1,
   "metadata": {},
   "outputs": [],
   "source": [
    "import os\n",
    "os.chdir(os.path.expanduser(\"~/Projects/zimmer\"))\n",
    "import copy\n",
    "import pickle\n",
    "\n",
    "import numpy as np\n",
    "np.random.seed(1234)\n",
    "\n",
    "from scipy.stats import multivariate_normal\n",
    "\n",
    "import matplotlib.pyplot as plt\n",
    "import matplotlib.cm\n",
    "from matplotlib.gridspec import GridSpec\n",
    "from mpl_toolkits.axes_grid1 import make_axes_locatable\n",
    "\n",
    "import seaborn\n",
    "seaborn.set_style(\"white\")\n",
    "seaborn.set_context(\"paper\")\n",
    "\n",
    "from hips.plotting.layout import create_axis_at_location\n",
    "\n",
    "plt.ion()\n",
    "\n",
    "from tqdm import tqdm\n",
    "from functools import partial\n",
    "\n",
    "from zimmer.io import load_nichols_data, load_kato_data\n",
    "import zimmer.plotting as zplt\n",
    "from zimmer.util import cached\n",
    "\n",
    "from ssm.util import find_permutation, compute_state_overlap\n",
    "from ssm.preprocessing import pca_with_imputation, trend_filter, standardize"
   ]
  },
  {
   "cell_type": "code",
   "execution_count": 2,
   "metadata": {},
   "outputs": [],
   "source": [
    "# Specify hyperparameters\n",
    "results_dir = \"results/kato/2018-10-10/\"\n",
    "figures_dir = os.path.join(results_dir, \"figures\")"
   ]
  },
  {
   "cell_type": "code",
   "execution_count": 3,
   "metadata": {},
   "outputs": [
    {
     "name": "stdout",
     "output_type": "stream",
     "text": [
      "Only including named neurons.\n",
      "59 neurons across all 5 worms\n"
     ]
    }
   ],
   "source": [
    "ys, ms, z_trues, z_true_key, neuron_names = \\\n",
    "    load_kato_data(include_unnamed=False, signal=\"dff\")"
   ]
  },
  {
   "cell_type": "code",
   "execution_count": 4,
   "metadata": {},
   "outputs": [],
   "source": [
    "ys = [trend_filter(y, npoly=1, nexp=0) for y in ys]\n",
    "# ys = [standardize(y, m) for y, m in zip(ys, ms)]\n",
    "# K_true = len(z_true_key)\n",
    "K_true = 8\n",
    "N = ys[0].shape[1]\n",
    "W = len(ys)\n",
    "Ts = [y.shape[0] for y in ys]"
   ]
  },
  {
   "cell_type": "markdown",
   "metadata": {},
   "source": [
    "# Empirical correlation"
   ]
  },
  {
   "cell_type": "code",
   "execution_count": 5,
   "metadata": {},
   "outputs": [],
   "source": [
    "def compute_correlation():\n",
    "    C = np.nan * np.ones((N, N))\n",
    "    \n",
    "    for i in range(N):\n",
    "        for j in range(N):\n",
    "            Ei, Ej, Eii, Ejj, Eij = 0, 0, 0, 0, 0\n",
    "            n = 0\n",
    "            for y, m in zip(ys, ms):\n",
    "                if not np.any(m[:,i] & m[:, j]):\n",
    "                    continue\n",
    "                inds = m[:, i] & m[:, j]\n",
    "                Ei += np.sum(y[inds, i])\n",
    "                Ej += np.sum(y[inds, j])\n",
    "                Eii += np.sum(y[inds, i] * y[inds, i])\n",
    "                Ejj += np.sum(y[inds, j] * y[inds, j])\n",
    "                Eij += np.sum(y[inds, i] * y[inds, j])\n",
    "                n += np.sum(inds.astype(int))\n",
    "            \n",
    "            if n > 0:\n",
    "                Ei /= n\n",
    "                Ej /= n\n",
    "                Eii /= n\n",
    "                Ejj /= n\n",
    "                Eij /= n\n",
    "                C[i, j] = (Eij - Ei * Ej) / np.sqrt(Eii - Ei**2) / np.sqrt(Ejj - Ej**2)\n",
    "    \n",
    "    return C\n",
    "\n",
    "_corr = cached(results_dir, \"corr\")(compute_correlation)\n",
    "emp_corr = _corr()\n",
    "                "
   ]
  },
  {
   "cell_type": "markdown",
   "metadata": {},
   "source": [
    "# PCA "
   ]
  },
  {
   "cell_type": "code",
   "execution_count": 6,
   "metadata": {},
   "outputs": [
    {
     "name": "stderr",
     "output_type": "stream",
     "text": [
      "/Users/scott/anaconda3/lib/python3.6/site-packages/sklearn/base.py:251: UserWarning: Trying to unpickle estimator PCA from version 0.20.0 when using version 0.20.1. This might lead to breaking code or invalid results. Use at your own risk.\n",
      "  UserWarning)\n"
     ]
    }
   ],
   "source": [
    "with open(\"results/kato/2018-10-09/D10/pca.pkl\", \"rb\") as f:\n",
    "    pca, x_fulls = pickle.load(f)"
   ]
  },
  {
   "cell_type": "code",
   "execution_count": 7,
   "metadata": {},
   "outputs": [],
   "source": [
    "# # Run PCA to get a 3d projection of the data\n",
    "# from ssm.preprocessing import pca_with_imputation\n",
    "# # _pca = cached(results_dir, \"pca_D{}\".format(20))(pca_with_imputation)\n",
    "# _pca = pca_with_imputation\n",
    "# pca, x_fulls = _pca(20, ys, ms, num_iters=100)"
   ]
  },
  {
   "cell_type": "code",
   "execution_count": 8,
   "metadata": {},
   "outputs": [
    {
     "data": {
      "text/plain": [
       "(1, 10)"
      ]
     },
     "execution_count": 8,
     "metadata": {},
     "output_type": "execute_result"
    },
    {
     "data": {
      "image/png": "[encoded data removed]",
      "text/plain": [
       "<Figure size 432x288 with 1 Axes>"
      ]
     },
     "metadata": {
      "needs_background": "light"
     },
     "output_type": "display_data"
    }
   ],
   "source": [
    "# Determine number of PCs to use\n",
    "plt.plot(np.arange(1, pca.n_components+1), np.cumsum(pca.explained_variance_ratio_), '-o')\n",
    "plt.plot(np.arange(1, pca.n_components+1), 0.9 * np.ones(pca.n_components), ':k')\n",
    "plt.xlabel(\"D\")\n",
    "plt.ylabel(\"% var. explained\")\n",
    "plt.ylim(0,1)\n",
    "plt.xticks(np.arange(pca.n_components))\n",
    "plt.xlim(1, pca.n_components)"
   ]
  },
  {
   "cell_type": "code",
   "execution_count": 9,
   "metadata": {},
   "outputs": [],
   "source": [
    "D = 10\n",
    "xs = [x[:,:D] for x in x_fulls]"
   ]
  },
  {
   "cell_type": "code",
   "execution_count": 10,
   "metadata": {},
   "outputs": [],
   "source": [
    "# To compute the correlation under the PCA model, we need the covariance of the PCA embeddings\n",
    "C_pca = pca.components_.T[:, :D]\n",
    "L_x = np.linalg.cholesky(np.cov(np.vstack(xs).T))\n",
    "C_pca = C_pca.dot(L_x)\n",
    "Cn_pca = C_pca / np.linalg.norm(C_pca, ord=2, axis=1, keepdims=True)\n",
    "pca_corr = Cn_pca.dot(Cn_pca.T)"
   ]
  },
  {
   "cell_type": "markdown",
   "metadata": {},
   "source": [
    "# Factor Analysis"
   ]
  },
  {
   "cell_type": "code",
   "execution_count": 11,
   "metadata": {},
   "outputs": [],
   "source": [
    "# # Fit a test model\n",
    "# def fit_factor_analysis(D, num_gibbs_iters=20, num_em_iters=100):\n",
    "    \n",
    "#     # Special case D == 0\n",
    "#     if D == 0:\n",
    "#         mu = np.zeros(N)\n",
    "#         Sigma = np.diag(np.nanvar(np.vstack(train_ys), axis=0))\n",
    "        \n",
    "#         lp = 0\n",
    "#         for y, m in zip(train_ys, train_ms):\n",
    "#             mu_i = mu[m[0]]\n",
    "#             Sigma_i = Sigma[np.ix_(m[0], m[0])]\n",
    "#             lp += np.sum(multivariate_normal.logpdf(y[:, m[0]], mu_i, Sigma_i))\n",
    "        \n",
    "#         val_ll = 0\n",
    "#         for y, m in zip(val_ys, val_ms):\n",
    "#             mu_i = mu[m[0]]\n",
    "#             Sigma_i = Sigma[np.ix_(m[0], m[0])]\n",
    "#             val_ll += np.sum(multivariate_normal.logpdf(y[:, m[0]], mu_i, Sigma_i))\n",
    "        \n",
    "#         return Sigma, np.array([lp]), val_ll\n",
    "        \n",
    "#     # For D > 1, fit a factor analysis model\n",
    "#     from pybasicbayes.models import FactorAnalysis\n",
    "#     fa = FactorAnalysis(N, D)\n",
    "#     for y, m in zip(train_ys, train_ms):\n",
    "#         fa.add_data(y, mask=m.astype(bool))\n",
    "\n",
    "#     lps = []\n",
    "#     for _ in tqdm(range((num_gibbs_iters))):\n",
    "#         fa.resample_model()\n",
    "#         lps.append(fa.log_likelihood())\n",
    "\n",
    "#     for _ in tqdm(range((num_em_iters))):\n",
    "#         fa.EM_step()\n",
    "#         lps.append(fa.log_likelihood())\n",
    "\n",
    "#     # Compute marginal likelihood of validation data\n",
    "#     mu = np.zeros(N)\n",
    "#     Sigma = fa.W.dot(fa.W.T) + np.diag(fa.sigmasq)\n",
    "    \n",
    "#     val_ll = 0\n",
    "#     for y, m in zip(val_ys, val_ms):\n",
    "#         m0 = m[0]\n",
    "#         mu_i = mu[m0]\n",
    "#         Sigma_i = Sigma[np.ix_(m0, m0)]\n",
    "#         vll = multivariate_normal.logpdf(y[:, m0], mu_i, Sigma_i)\n",
    "#         assert vll.shape == (y.shape[0],)\n",
    "#         val_ll += np.sum(vll)\n",
    "    \n",
    "#     return fa, lps, val_ll\n",
    "\n",
    "# Ds = [10]\n",
    "# fas = []\n",
    "# lpss = []\n",
    "# val_lls = []\n",
    "# for D in Ds:\n",
    "#     print(\"Fitting FA with D=\", D)\n",
    "#     _fa = cached(results_dir, \"fa_D{}\".format(D))(fit_factor_analysis)\n",
    "#     fa, lps, val_ll = _fa(D)\n",
    "#     fas.append(fa)\n",
    "#     lpss.append(lps)\n",
    "#     val_lls.append(val_ll)"
   ]
  },
  {
   "cell_type": "code",
   "execution_count": 12,
   "metadata": {},
   "outputs": [],
   "source": [
    "# for D, lps in zip(Ds, lpss):\n",
    "#     plt.plot(lps, label=\"D={}\".format(D))\n",
    "# #     plt.xlim(21, 120)\n",
    "# plt.legend()\n",
    "\n",
    "# plt.figure()\n",
    "# plt.plot(Ds, val_lls)\n",
    "# ll_95 = np.min(val_lls[1:]) + 0.95 * (np.max(val_lls) - np.min(val_lls[1:]))\n",
    "# plt.plot(Ds, ll_95 * np.ones_like(Ds), ':k')\n",
    "# plt.legend()"
   ]
  },
  {
   "cell_type": "code",
   "execution_count": 13,
   "metadata": {},
   "outputs": [],
   "source": [
    "# # Find an orthogonal emission matrix from the factor analysis loadings\n",
    "# C_fa = fa.W\n",
    "# Sigma = np.dot(C_fa, C_fa.T) + np.diag(fa.sigmasq)\n",
    "# evals, evecs = np.linalg.eigh(Sigma, )\n",
    "# inds = np.argsort(evals)[::-1][:D]\n",
    "# Cstar_fa = evecs[:, inds]\n",
    "\n",
    "# # Find the linear transformation that maps C to Cstar\n",
    "# #    Cstar = C \\dot R\n",
    "# #    Cstar R^{-1} = C\n",
    "# #    y = Cx = Cstar R^{-1} x\n",
    "# R, _, _, _ = np.linalg.lstsq(C_fa, Cstar_fa)\n",
    "# Ri = np.linalg.inv(R)\n",
    "\n",
    "# # Counter rotate the continuous latent states\n",
    "# xs_fa = [d.Z.dot(Ri.T) for d in fa.data_list]\n",
    "\n",
    "# # Compute the correlation under the FA model\n",
    "# Cn_fa = C_fa / np.linalg.norm(C_fa, ord=2, axis=1, keepdims=True)\n",
    "# fa_corr = Cn_fa.dot(Cn_fa.T)"
   ]
  },
  {
   "cell_type": "code",
   "execution_count": 14,
   "metadata": {},
   "outputs": [],
   "source": [
    "# plt.plot(xs_fa[28] + np.arange(10))"
   ]
  },
  {
   "cell_type": "code",
   "execution_count": 15,
   "metadata": {},
   "outputs": [],
   "source": [
    "# for w in range(5, W):\n",
    "#     yw = ys[w].copy()\n",
    "#     yw[~ms[w]] = np.nan\n",
    "#     plt.plot(np.nanmean(yw, axis=1), alpha=.25, c='k')"
   ]
  },
  {
   "cell_type": "code",
   "execution_count": 16,
   "metadata": {},
   "outputs": [],
   "source": [
    "# w_to_plot = np.concatenate((np.arange(5), 5 + 3 + np.array([0, 11, 23, 33])))\n",
    "# plt.figure(figsize=(12, 4))\n",
    "# for i, w in enumerate(w_to_plot): \n",
    "#     ax = plt.subplot(2, len(w_to_plot), i+1)\n",
    "#     zplt.plot_2d_continuous_states(xs_fa[w], z_trues[w], xlims=(-2, 2), ylims=(-2, 2), inds=(0, 1), ax=ax)\n",
    "#     plt.xticks([])\n",
    "#     plt.yticks([])\n",
    "    \n",
    "#     ax = plt.subplot(2, len(w_to_plot), len(w_to_plot) + i+1)\n",
    "#     zplt.plot_2d_continuous_states(xs_fa[w], z_trues[w], xlims=(-2, 2), ylims=(-2, 2), inds=(0, 2), ax=ax)\n",
    "#     plt.xticks([])\n",
    "#     plt.yticks([])"
   ]
  },
  {
   "cell_type": "markdown",
   "metadata": {},
   "source": [
    "# Cluster the neurons on the basis of their latent state tuning"
   ]
  },
  {
   "cell_type": "code",
   "execution_count": 17,
   "metadata": {},
   "outputs": [],
   "source": [
    "def cluster_neurons(C_norm, N_clusters, seed):\n",
    "    from sklearn.cluster import KMeans\n",
    "    from sklearn.metrics import silhouette_score, calinski_harabaz_score\n",
    "    from sklearn.metrics import davies_bouldin_score\n",
    "    from sklearn.decomposition import PCA\n",
    "    from pyhsmm.util.general import relabel_by_permutation\n",
    "    \n",
    "    # Perform the clustering\n",
    "    np.random.seed(seed)    \n",
    "    cluster = KMeans(n_clusters=N_clusters)\n",
    "    cluster.fit(C_norm)\n",
    "    neuron_clusters = cluster.labels_\n",
    "\n",
    "    # Compute some clustering metrics\n",
    "    sil_score = silhouette_score(C_norm, neuron_clusters, metric='cosine')\n",
    "    ch_score = calinski_harabaz_score(C_norm, neuron_clusters)    \n",
    "    db_score = np.nan\n",
    "    \n",
    "    # Reorder the clusters according to average tuning within cluster\n",
    "    avg_C = np.zeros((N_clusters, D))\n",
    "    for c in range(N_clusters):\n",
    "        if not np.any(neuron_clusters == c):\n",
    "            continue\n",
    "        avg_C[c] = np.mean(C_norm[neuron_clusters == c], axis=0)\n",
    "\n",
    "    # Sort the clusters by their projection onto the first principal component\n",
    "    pca = PCA(n_components=1, random_state=0, svd_solver=\"full\")\n",
    "    pca.fit(avg_C)\n",
    "    weights = pca.transform(avg_C)[:, 0]\n",
    "    weights *= np.sign(weights[0])\n",
    "\n",
    "    labels_perm = np.argsort(weights)\n",
    "    neuron_clusters = relabel_by_permutation(neuron_clusters, np.argsort(labels_perm))\n",
    "\n",
    "    # Lex sort by label then by emission vector\n",
    "    # perm = np.lexsort(np.row_stack((C_true.T, labels)))\n",
    "    neuron_perm = np.lexsort((neuron_names, neuron_clusters))\n",
    "    \n",
    "    return neuron_perm, neuron_clusters, sil_score, ch_score, db_score"
   ]
  },
  {
   "cell_type": "code",
   "execution_count": 18,
   "metadata": {},
   "outputs": [
    {
     "name": "stdout",
     "output_type": "stream",
     "text": [
      "K =  2\n",
      "K =  3\n",
      "K =  4\n",
      "K =  5\n",
      "K =  6\n",
      "K =  7\n",
      "K =  8\n",
      "K =  9\n",
      "K =  10\n",
      "K =  11\n",
      "K =  12\n",
      "K =  13\n",
      "K =  14\n",
      "K =  15\n",
      "K =  16\n",
      "K =  17\n",
      "K =  18\n",
      "K =  19\n",
      "K =  20\n"
     ]
    }
   ],
   "source": [
    "sil_scores = []\n",
    "ch_scores = []\n",
    "db_scores = []\n",
    "Ks = np.arange(2, 21)\n",
    "N_repeats = 50\n",
    "for K in Ks:\n",
    "    print(\"K = \", K)\n",
    "    sil_scores_K = []\n",
    "    ch_scores_K = []\n",
    "    db_scores_K = []\n",
    "    for rpt in range(N_repeats):\n",
    "        _cluster = cached(os.path.join(results_dir, \"kmeans\"), \"kmeans_K{}_rpt{}\".format(K, rpt))(cluster_neurons)\n",
    "        _, _, sil_score, ch_score, db_score = _cluster(Cn_pca, K, seed=rpt)\n",
    "        sil_scores_K.append(sil_score)\n",
    "        ch_scores_K.append(ch_score)\n",
    "        db_scores_K.append(db_score)\n",
    "    \n",
    "    sil_scores.append(sil_scores_K)\n",
    "    ch_scores.append(ch_scores_K)\n",
    "    db_scores.append(db_scores_K)\n",
    "    \n",
    "# Compute mean and variance\n",
    "mean_sil_scores = [np.mean(ss) for ss in sil_scores]\n",
    "std_sil_scores = [np.std(ss) for ss in sil_scores]\n",
    "mean_ch_scores = [np.mean(chs) for chs in ch_scores]\n",
    "std_ch_scores = [np.std(chs) for chs in ch_scores]\n",
    "mean_db_scores = [np.mean(dbs) for dbs in db_scores]\n",
    "std_db_scores = [np.std(dbs) for dbs in db_scores]"
   ]
  },
  {
   "cell_type": "code",
   "execution_count": 19,
   "metadata": {},
   "outputs": [
    {
     "data": {
      "text/plain": [
       "Text(0.5,1,'Calinski-Harabaz Score (higher = better)')"
      ]
     },
     "execution_count": 19,
     "metadata": {},
     "output_type": "execute_result"
    },
    {
     "data": {
      "image/png": "[encoded data removed]",
      "text/plain": [
       "<Figure size 432x288 with 1 Axes>"
      ]
     },
     "metadata": {
      "needs_background": "light"
     },
     "output_type": "display_data"
    },
    {
     "data": {
      "image/png": "[encoded data removed]",
      "text/plain": [
       "<Figure size 432x288 with 1 Axes>"
      ]
     },
     "metadata": {
      "needs_background": "light"
     },
     "output_type": "display_data"
    }
   ],
   "source": [
    "plt.figure()\n",
    "plt.errorbar(Ks, mean_sil_scores, yerr=std_sil_scores)\n",
    "plt.xlabel(\"K\")\n",
    "# plt.xticks(Ks)\n",
    "plt.ylabel(\"score\")\n",
    "plt.title(\"Silhouette Score (higher = better)\")\n",
    "\n",
    "plt.figure()\n",
    "plt.errorbar(Ks, mean_ch_scores, yerr=std_ch_scores)\n",
    "plt.xlabel(\"K\")\n",
    "# plt.xticks(Ks)\n",
    "plt.ylabel(\"score\")\n",
    "plt.title(\"Calinski-Harabaz Score (higher = better)\")"
   ]
  },
  {
   "cell_type": "code",
   "execution_count": 20,
   "metadata": {
    "scrolled": true
   },
   "outputs": [
    {
     "name": "stdout",
     "output_type": "stream",
     "text": [
      "Best K:  2\n"
     ]
    }
   ],
   "source": [
    "print(\"Best K: \", Ks[np.argmax(mean_sil_scores)])"
   ]
  },
  {
   "cell_type": "code",
   "execution_count": 21,
   "metadata": {},
   "outputs": [],
   "source": [
    "best_K = 10\n",
    "rpt = 0\n",
    "_cluster = cached(os.path.join(results_dir, \"kmeans\"), \"kmeans_K{}_rpt{}\".format(best_K, rpt))(cluster_neurons)\n",
    "perm, clusters, _, _, _ = _cluster(Cn_pca, best_K, seed=rpt)\n",
    "divs = np.cumsum(np.bincount(clusters, minlength=best_K))"
   ]
  },
  {
   "cell_type": "markdown",
   "metadata": {},
   "source": [
    "# Load per neuron location, type, functional type dat"
   ]
  },
  {
   "cell_type": "code",
   "execution_count": 22,
   "metadata": {},
   "outputs": [],
   "source": [
    "import pandas as pd\n",
    "\n",
    "neuron_locations_csv = pd.read_csv(\"~/Projects/zimmer/wormatlas_locations.csv\")\n",
    "neuron_locations = [np.array(neuron_locations_csv[neuron_locations_csv.name == name].location)[0] \n",
    "                    for name in neuron_names]\n",
    "neuron_locations = np.array(neuron_locations)"
   ]
  },
  {
   "cell_type": "code",
   "execution_count": 23,
   "metadata": {},
   "outputs": [],
   "source": [
    "neuron_celltypes_csv = pd.read_csv(\"~/Projects/zimmer/wormatlas_celltypes.csv\")\n",
    "celltypes = ['S', 'I', 'M', 'P', 'U']\n",
    "neuron_celltypes = []\n",
    "for name in neuron_names:\n",
    "    neuron_celltypes.append(np.array(neuron_celltypes_csv[neuron_celltypes_csv.name == name].type)[0])\n",
    "neuron_celltypes = np.array(neuron_celltypes)"
   ]
  },
  {
   "cell_type": "code",
   "execution_count": 24,
   "metadata": {},
   "outputs": [],
   "source": [
    "neuron_functions_csv = pd.read_csv(\"~/Projects/zimmer/neuron_functions.csv\")\n",
    "functions = ['Fwd', 'Rev', 'FwdRev', 'DT', 'VT', 'Other', 'Quiescence', 'FwdQui', 'Sensory']\n",
    "neuron_functions = []\n",
    "for name in neuron_names:\n",
    "    row = neuron_functions_csv[neuron_functions_csv.Name == name]\n",
    "    assert len(row) == 1\n",
    "    for f in functions:\n",
    "        if np.array(row[f])[0] == 1:\n",
    "            neuron_functions.append(f)\n",
    "neuron_functions = np.array(neuron_functions)"
   ]
  },
  {
   "cell_type": "markdown",
   "metadata": {},
   "source": [
    "# Make Figure 2: C matrix, Raw Correlation, Estimated Correlation"
   ]
  },
  {
   "cell_type": "code",
   "execution_count": 25,
   "metadata": {},
   "outputs": [],
   "source": [
    "def _plot_corr(ax, corr, cmap):\n",
    "    im = plt.imshow(corr[np.ix_(perm, perm)], cmap=cmap, vmin=-1, vmax=1, extent=(0, N, N, 0), aspect=\"auto\")\n",
    "    for div in divs:\n",
    "        plt.plot([0, N], [div, div], '-k', lw=.5)\n",
    "        plt.plot([div, div], [0, N], '-k', lw=.5)\n",
    "    plt.xlim(0, N)\n",
    "    plt.ylim(N, 0)\n",
    "    return im"
   ]
  },
  {
   "cell_type": "code",
   "execution_count": 26,
   "metadata": {},
   "outputs": [],
   "source": [
    "# Set colors for each function\n",
    "functions = ['Fwd', 'Rev', 'FwdRev', 'DT', 'VT', 'Quiescence', 'FwdQui', 'Sensory', 'Other']\n",
    "short_functions = ['Fwd', 'Rev', 'FR', 'DT', 'VT', 'Q', 'FQ', 'O$_2$', 'Unk']\n",
    "func_colors = [zplt.default_colors[1], # fwd = red\n",
    "          zplt.default_colors[0], # rev = blue\n",
    "          \"navy\",                 # fwd/rev = navy\n",
    "          zplt.default_colors[3], # dt = yellow\n",
    "          zplt.default_colors[2], # vt = Green\n",
    "          zplt.default_colors[4], # quiescence = purple\n",
    "          'maroon',                 # fwdqui = maroon\n",
    "          zplt.default_colors[7], # sensory = pink\n",
    "          zplt.default_colors[8], # other = Grey\n",
    "         ]\n",
    "\n",
    "func_color_dict = dict(zip(functions, func_colors))"
   ]
  },
  {
   "cell_type": "code",
   "execution_count": 34,
   "metadata": {},
   "outputs": [
    {
     "data": {
      "image/png": "[encoded data removed]",
      "text/plain": [
       "<Figure size 468x342 with 7 Axes>"
      ]
     },
     "metadata": {},
     "output_type": "display_data"
    }
   ],
   "source": [
    "cmap = matplotlib.cm.RdBu_r\n",
    "cmap.set_bad(.1 * np.ones(3), 1.)\n",
    "\n",
    "# Make plot\n",
    "fig = plt.figure(figsize=(6.5, 4.75))\n",
    "fig.patch.set_alpha(0)\n",
    "\n",
    "# Plot C\n",
    "lim = abs(Cn_pca).max()\n",
    "ax = create_axis_at_location(fig, .275, 1.8, .625, 2.5)\n",
    "plt.imshow(Cn_pca[perm], vmin=-lim, vmax=lim, cmap=\"RdBu_r\", extent=(0, D, N, 0), aspect=\"auto\")\n",
    "for div in divs:\n",
    "    plt.plot([0, D], [div, div], '-k', lw=1)\n",
    "plt.xlim(0, D)\n",
    "plt.xticks([])\n",
    "plt.ylim(N, 0)\n",
    "ax.tick_params(pad=-4)\n",
    "\n",
    "# Only put ticks at the locations of neurons with known functions\n",
    "perm_names = neuron_names[perm]\n",
    "perm_functions = neuron_functions[perm]\n",
    "# known_inds = np.where(perm_functions != 'Other')[0]\n",
    "known_inds = np.arange(N)\n",
    "known_neurons = perm_names[known_inds]\n",
    "known_functions = perm_functions[known_inds]\n",
    "plt.yticks(known_inds + .5, known_neurons, fontsize=4)\n",
    "assert len(ax.yaxis.get_ticklabels()) == len(known_neurons)\n",
    "for tl, fn in zip(ax.yaxis.get_ticklabels(), known_functions):\n",
    "    tl.set_color(func_color_dict[fn])\n",
    "#plt.yticks(np.arange(N)+.5, neuron_names[perm], fontsize=3)\n",
    "plt.xlabel(\"latent dim.\")\n",
    "plt.title(\"Neuron\\nEmbedding\")\n",
    "\n",
    "# Plot empirical correlation\n",
    "ax = create_axis_at_location(fig, 1, 1.8, 2.5, 2.5)\n",
    "im = _plot_corr(ax, pca_corr, cmap)\n",
    "ax.set_xticks([])\n",
    "ax.set_yticks([])\n",
    "plt.xticks(known_inds + .5, known_neurons, fontsize=4, rotation=45)\n",
    "ax.tick_params(axis='x', which='major', pad=1)\n",
    "for tl, fn in zip(ax.xaxis.get_ticklabels(), known_functions):\n",
    "    tl.set_color(func_color_dict[fn])\n",
    "plt.title(\"Embedding Cosine Similarity\")\n",
    "\n",
    "# Plot model correlation\n",
    "ax = create_axis_at_location(fig, 3.6, 1.8, 2.5, 2.5)\n",
    "im = _plot_corr(ax, emp_corr, cmap)\n",
    "ax.set_yticks([])\n",
    "plt.xticks(known_inds + .5, known_neurons, fontsize=4, rotation=45)\n",
    "ax.tick_params(axis='x', which='major', pad=1)\n",
    "for tl, fn in zip(ax.xaxis.get_ticklabels(), known_functions):\n",
    "    tl.set_color(func_color_dict[fn])\n",
    "plt.title(\"Empirical Correlation\")\n",
    "\n",
    "# Colorbar\n",
    "cbax = create_axis_at_location(fig, 6.15, 1.8, .1, 2.5)\n",
    "plt.colorbar(im, cbax, ticks=[-1, -.5, 0, .5, 1])\n",
    "cbax.tick_params(labelsize=6, pad=2)\n",
    "\n",
    "# Cluster locations\n",
    "# xticks = np.concatenate(([0], np.arange(4, best_K+1, step=5)))\n",
    "xticks = np.arange(best_K)\n",
    "xticklabels = xticks + 1\n",
    "ax = create_axis_at_location(fig, .275, .4, 1.7, .95)\n",
    "location_bins = np.arange(neuron_locations.min(), neuron_locations.max()+.01, .01)\n",
    "for k in range(best_K):\n",
    "    locs_k, _ = np.histogram([l for l, c in zip(neuron_locations, clusters) if c == k], location_bins)\n",
    "    \n",
    "    for b, count in zip(location_bins, locs_k):\n",
    "        if count > 0:\n",
    "            plt.plot(k, b, 'ko', markersize=2 + 2 * count)\n",
    "\n",
    "# Make dummy legend\n",
    "plt.plot(-1, -1, 'ko', ms=4, mfc='w', mec='k', mew=1, label=\"1 neuron\")\n",
    "plt.plot(-1, -1, 'ko', ms=2 + 2 * 5, mfc='w', mec='k', mew=1, label=\"5 neurons\")\n",
    "plt.legend(ncol=5, loc=\"lower left\", handlelength=1, handletextpad=1, columnspacing=1, fontsize=6, \n",
    "           borderaxespad=.25, frameon=False)\n",
    "\n",
    "        \n",
    "plt.xticks(xticks, xticklabels, fontsize=6)\n",
    "plt.xlabel(\"cluster\")\n",
    "plt.xlim(-1, best_K)\n",
    "# plt.yticks(np.arange(0.05, 0.31, 0.05), fontsize=6)\n",
    "plt.yticks([.225, .06], [\"caudal\", \"rostral\"], rotation=90, fontsize=6)\n",
    "ax.tick_params(pad=-3)\n",
    "plt.ylim(.30, .05)\n",
    "plt.ylabel(\"location\")\n",
    "plt.title(\"Cluster Locations\", y=.95)\n",
    "\n",
    "# Cluster cell types\n",
    "type_colors = [zplt.default_colors[7], zplt.default_colors[1], zplt.default_colors[4], zplt.default_colors[6], zplt.default_colors[8]]\n",
    "ax = create_axis_at_location(fig, 2.4, .4, 1.7, .95)\n",
    "for k in range(best_K):\n",
    "    offset = 0\n",
    "    for i, t in enumerate(celltypes):\n",
    "        count = np.sum(neuron_celltypes[clusters == k] == t)\n",
    "        plt.bar(k, count, width=.8, bottom=offset, color=type_colors[i], edgecolor='k', linewidth=.5)\n",
    "        offset += count\n",
    "        \n",
    "# Make dummy legend\n",
    "for i, t in enumerate(celltypes):\n",
    "    plt.bar(-1, 0, width=0, color=type_colors[i], label=t)\n",
    "plt.legend(ncol=5, loc=\"upper left\", handlelength=1, handletextpad=.5, columnspacing=1, \n",
    "           fontsize=6, borderaxespad=.1, frameon=False)\n",
    "        \n",
    "plt.xticks(xticks, xticklabels, fontsize=6)\n",
    "plt.xlabel(\"cluster\")\n",
    "plt.xlim(-1, best_K)\n",
    "plt.yticks(np.arange(0, 21, 5), fontsize=6)\n",
    "plt.ylabel(\"count\", labelpad=-1)\n",
    "plt.ylim(0, 20)\n",
    "plt.title(\"Cluster Cell Types\", y=.95)\n",
    "ax.tick_params(pad=-3)\n",
    "\n",
    "# Cluster functional types\n",
    "ax = create_axis_at_location(fig, 4.55, .4, 1.7, .95)\n",
    "for k in range(best_K):\n",
    "    offset = 0\n",
    "    for i, t in enumerate(functions):\n",
    "        count = np.sum(neuron_functions[clusters == k] == t)\n",
    "        plt.bar(k, count, width=.8, bottom=offset, color=func_colors[i], edgecolor='k', linewidth=.5)\n",
    "        offset += count\n",
    "\n",
    "# Make dummy legend\n",
    "for i, t in enumerate(short_functions):\n",
    "    plt.bar(-1, 0, width=0, color=func_colors[i], label=t)\n",
    "plt.legend(ncol=5, loc=\"upper left\", handlelength=1, handletextpad=.5, columnspacing=1, \n",
    "           fontsize=6, borderaxespad=.1, frameon=False)\n",
    "        \n",
    "plt.xticks(xticks, xticklabels, fontsize=6)\n",
    "plt.xlabel(\"cluster\")\n",
    "plt.xlim(-1, best_K)\n",
    "plt.yticks(np.arange(0, 21, 5), fontsize=6)\n",
    "plt.ylabel(\"count\", labelpad=-1)\n",
    "plt.ylim(0, 20)\n",
    "plt.title(\"Cluster Functional Types\", y=.95)\n",
    "ax.tick_params(pad=-3)\n",
    "\n",
    "figname = \"2_clustering\"\n",
    "plt.savefig(os.path.join(figures_dir, figname + \".png\"), dpi=300)\n",
    "plt.savefig(os.path.join(figures_dir, figname + \".pdf\"))"
   ]
  },
  {
   "cell_type": "markdown",
   "metadata": {},
   "source": [
    "# Supplementary Figure"
   ]
  },
  {
   "cell_type": "code",
   "execution_count": 28,
   "metadata": {},
   "outputs": [
    {
     "data": {
      "image/png": "[encoded data removed]",
      "text/plain": [
       "<Figure size 468x180 with 2 Axes>"
      ]
     },
     "metadata": {
      "needs_background": "light"
     },
     "output_type": "display_data"
    }
   ],
   "source": [
    "# Determine number of PCs to use\n",
    "plt.figure(figsize=(6.5, 2.5))\n",
    "plt.subplot(121)\n",
    "plt.plot(np.arange(1, pca.n_components+1), np.cumsum(pca.explained_variance_ratio_), '-ko')\n",
    "plt.plot(np.arange(1, pca.n_components+1), 0.9 * np.ones(pca.n_components), ':k')\n",
    "plt.xlabel(\"continuous state dimension\")\n",
    "plt.ylim(0,1)\n",
    "plt.ylabel(\"% variance\")\n",
    "plt.xticks(np.arange(pca.n_components))\n",
    "plt.xlim(1, pca.n_components)\n",
    "plt.title(\"Percent Variance Explained\")\n",
    "\n",
    "plt.subplot(122)\n",
    "plt.errorbar(Ks, mean_sil_scores, yerr=std_sil_scores, color='k', ecolor='k')\n",
    "plt.xlabel(\"number of clusters\")\n",
    "plt.xticks(Ks)\n",
    "plt.ylabel(\"score\")\n",
    "plt.title(\"Silhouette Score (higher = better)\")\n",
    "\n",
    "plt.tight_layout()\n",
    "\n",
    "plt.savefig(os.path.join(figures_dir, \"s2_dim_reduction.pdf\"))\n",
    "plt.savefig(os.path.join(figures_dir, \"s2_dim_reduction.png\"), dpi=300)"
   ]
  },
  {
   "cell_type": "markdown",
   "metadata": {},
   "source": [
    "# Save the results"
   ]
  },
  {
   "cell_type": "code",
   "execution_count": 228,
   "metadata": {
    "collapsed": true
   },
   "outputs": [],
   "source": [
    "results = dict(\n",
    "    perm=perm,\n",
    "    neuron_clusters=clusters,\n",
    "    neuron_names=neuron_names,\n",
    "    neuron_locations=neuron_locations,\n",
    "    celltypes=celltypes,\n",
    "    neuron_celltypes=neuron_celltypes,\n",
    "    functions=functions,\n",
    "    short_functions=short_functions,\n",
    "    func_color_dict=func_color_dict,\n",
    "    neuron_functions=neuron_functions,\n",
    "    C=pca.components_.T,\n",
    "    d=pca.mean_\n",
    ")\n",
    "\n",
    "with open(os.path.join(results_dir, \"summary.pkl\"), \"wb\") as f:\n",
    "    pickle.dump(results, f)"
   ]
  }
 ],
 "metadata": {
  "kernelspec": {
   "display_name": "Python 3",
   "language": "python",
   "name": "python3"
  },
  "language_info": {
   "codemirror_mode": {
    "name": "ipython",
    "version": 3
   },
   "file_extension": ".py",
   "mimetype": "text/x-python",
   "name": "python",
   "nbconvert_exporter": "python",
   "pygments_lexer": "ipython3",
   "version": "3.6.3"
  }
 },
 "nbformat": 4,
 "nbformat_minor": 2
}
