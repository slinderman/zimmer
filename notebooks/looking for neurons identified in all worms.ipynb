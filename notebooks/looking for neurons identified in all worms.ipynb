{
 "cells": [
  {
   "cell_type": "code",
   "execution_count": 1,
   "metadata": {
    "collapsed": true
   },
   "outputs": [],
   "source": [
    "import os, cPickle\n",
    "import numpy as np\n",
    "import matplotlib.pyplot as plt\n",
    "from mpl_toolkits.mplot3d import Axes3D\n",
    "\n",
    "from scipy.io import loadmat\n",
    "\n",
    "from sklearn.decomposition import PCA\n",
    "\n",
    "from palettable.colorbrewer.qualitative import Set1_9\n",
    "colors = Set1_9.mpl_colors\n",
    "cmap = Set1_9.mpl_colormap\n",
    "\n",
    "%matplotlib inline"
   ]
  },
  {
   "cell_type": "code",
   "execution_count": 2,
   "metadata": {
    "collapsed": true
   },
   "outputs": [],
   "source": [
    "data_dir = \"whole brain data Kato et al 2015\"\n",
    "zimmer_state_labels = \\\n",
    "    loadmat(os.path.join(\n",
    "            data_dir, \n",
    "            \"sevenStateColoring.mat\"))\n",
    "    \n",
    "worm_files = [\"TS20140715e_lite-1_punc-31_NLS3_2eggs_56um_1mMTet_basal_1080s.mat\",\n",
    "              \"TS20140715f_lite-1_punc-31_NLS3_3eggs_56um_1mMTet_basal_1080s.mat\",\n",
    "              \"TS20140905c_lite-1_punc-31_NLS3_AVHJ_0eggs_1mMTet_basal_1080s.mat\",\n",
    "              \"TS20140926d_lite-1_punc-31_NLS3_RIV_2eggs_1mMTet_basal_1080s.mat\",\n",
    "              \"TS20141221b_THK178_lite-1_punc-31_NLS3_6eggs_1mMTet_basal_1080s.mat\"\n",
    "             ]\n"
   ]
  },
  {
   "cell_type": "code",
   "execution_count": 40,
   "metadata": {
    "collapsed": false
   },
   "outputs": [],
   "source": [
    "all_first_neuron_ids = []\n",
    "all_second_neuron_ids = []\n",
    "all_neuron_ids = []\n",
    "for worm_index in range(5):\n",
    "    zimmer_data = loadmat(os.path.join(data_dir, \"wbdata\", worm_files[worm_index]))\n",
    "    \n",
    "    # Get the state sequence as labeled in Kato et al\n",
    "    zimmer_key = map(lambda x: str(x[0]), zimmer_state_labels[\"sevenStateColoring\"][\"key\"][0,0][0])\n",
    "    zimmer_states = zimmer_state_labels[\"sevenStateColoring\"][\"dataset\"][0,0]['stateTimeSeries'][0,worm_index].ravel() - 1\n",
    "    zimmer_cps = np.concatenate(([0], 1+np.where(np.diff(zimmer_states))[0], [zimmer_states.size-1]))\n",
    "    N_zimmer = zimmer_states.max() + 1\n",
    "\n",
    "    # Get the calcium trace (corrected for bleaching)\n",
    "    tt = zimmer_data[\"wbData\"]['tv'][0,0]\n",
    "    dff = zimmer_data[\"wbData\"]['deltaFOverF'][0,0]\n",
    "    dff_bc = zimmer_data[\"wbData\"]['deltaFOverF_bc'][0,0]\n",
    "    dff_deriv = zimmer_data[\"wbData\"]['deltaFOverF_deriv'][0,0]\n",
    "\n",
    "    neuron_ids_array = zimmer_data[\"wbData\"]['NeuronIds'][0,0][0]\n",
    "    first_neuron_ids_array = np.array(map(lambda x: None if len(x[0])==0 \n",
    "                                          else str(x[0][0][0]) , \n",
    "                                          neuron_ids_array))\n",
    "    second_neuron_ids_array = np.array(map(lambda x: None if x.size<2 or x[0,1].size == 0 \n",
    "                                          else str(x[0,1][0]) , \n",
    "                                          neuron_ids_array))\n",
    "    \n",
    "    # Store\n",
    "    all_first_neuron_ids.append(first_neuron_ids_array)\n",
    "    all_second_neuron_ids.append(second_neuron_ids_array)\n",
    "    all_neuron_ids.append(np.column_stack((first_neuron_ids_array, \n",
    "                                           second_neuron_ids_array)))\n"
   ]
  },
  {
   "cell_type": "code",
   "execution_count": 47,
   "metadata": {
    "collapsed": false
   },
   "outputs": [
    {
     "name": "stdout",
     "output_type": "stream",
     "text": [
      "[None 'AIBL' 'AIBR' 'ALA' 'AVAL' 'AVAR' 'AVBL' 'AVBR' 'AVER' 'RIBL' 'RID'\n",
      " 'RIML' 'RIMR' 'RIVL' 'RIVR' 'RMED' 'RMEL' 'RMER' 'SMDVR' 'VB01' 'VB02']\n"
     ]
    },
    {
     "data": {
      "text/plain": [
       "(21,)"
      ]
     },
     "execution_count": 47,
     "metadata": {},
     "output_type": "execute_result"
    }
   ],
   "source": [
    "from functools import reduce\n",
    "common_neurons = reduce(np.intersect1d, all_first_neuron_ids)\n",
    "print(common_neurons)\n",
    "common_neurons.shape\n",
    "# map(np.unique, all_first_neuron_ids)"
   ]
  },
  {
   "cell_type": "code",
   "execution_count": 30,
   "metadata": {
    "collapsed": false
   },
   "outputs": [
    {
     "data": {
      "text/plain": [
       "array([0, 0, 0, 0, 0, 0, 0, 0, 0, 0, 0, 0, 0, 0, 0, 0, 1, 1, 0, 1, 0, 1, 0,\n",
       "       1, 1, 1, 0, 1, 0, 1, 0, 0, 0, 1, 0, 0, 1, 1, 0, 0, 0, 1, 1, 1, 1, 1,\n",
       "       0, 0, 0, 0, 1, 0, 0, 0, 1, 1, 1, 0, 1, 1, 0, 0, 0, 0, 0, 0, 0, 1, 0,\n",
       "       0, 1, 1, 0, 1, 0, 1, 1, 0, 1, 0, 0, 0, 1, 1, 0, 0, 1, 0, 0, 1, 0, 0,\n",
       "       1, 0, 0, 0, 0, 0, 0, 0, 1, 0, 0, 0, 0, 0, 0, 0, 0, 0, 0, 0, 1, 1, 0,\n",
       "       1, 1, 0, 1, 1, 2, 1, 1, 1, 0, 1, 1, 1, 0])"
      ]
     },
     "execution_count": 30,
     "metadata": {},
     "output_type": "execute_result"
    }
   ],
   "source": [
    "np.array(map(lambda x: x.size, neuron_ids_array))"
   ]
  }
 ],
 "metadata": {
  "kernelspec": {
   "display_name": "Python 2",
   "language": "python",
   "name": "python2"
  },
  "language_info": {
   "codemirror_mode": {
    "name": "ipython",
    "version": 2
   },
   "file_extension": ".py",
   "mimetype": "text/x-python",
   "name": "python",
   "nbconvert_exporter": "python",
   "pygments_lexer": "ipython2",
   "version": "2.7.12"
  }
 },
 "nbformat": 4,
 "nbformat_minor": 0
}
