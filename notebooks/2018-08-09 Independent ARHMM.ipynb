{
 "cells": [
  {
   "cell_type": "code",
   "execution_count": 1,
   "metadata": {},
   "outputs": [],
   "source": [
    "import os\n",
    "os.chdir(os.path.expanduser(\"~/Projects/zimmer\"))\n",
    "import copy\n",
    "import pickle\n",
    "\n",
    "import numpy as np\n",
    "np.random.seed(1234)\n",
    "\n",
    "import matplotlib.pyplot as plt\n",
    "from matplotlib.gridspec import GridSpec\n",
    "plt.ion()\n",
    "%matplotlib inline\n",
    "\n",
    "from tqdm import tqdm\n",
    "from functools import partial\n",
    "\n",
    "from zimmer.io import load_kato_data\n",
    "import zimmer.plotting as zplt\n",
    "from zimmer.observations import HierarchicalIndependentAutoRegressiveObservations\n",
    "\n",
    "from ssm.models import HMM\n",
    "from ssm.core import _HMM\n",
    "from ssm.init_state_distns import InitialStateDistribution\n",
    "from ssm.transitions import RecurrentTransitions, StationaryTransitions\n",
    "from ssm.util import find_permutation, compute_state_overlap\n",
    "from ssm.preprocessing import pca_with_imputation, trend_filter, standardize"
   ]
  },
  {
   "cell_type": "code",
   "execution_count": 2,
   "metadata": {},
   "outputs": [
    {
     "name": "stdout",
     "output_type": "stream",
     "text": [
      "Only including named neurons.\n",
      "59 neurons across all 5 worms\n"
     ]
    }
   ],
   "source": [
    "# Load the data\n",
    "ys, ms, z_trues, z_true_key, neuron_names = load_kato_data(include_unnamed=False, signal=\"dff\")\n",
    "ys = [trend_filter(y) for y in ys]\n",
    "\n",
    "K_true = len(z_true_key)\n",
    "N = ys[0].shape[1]\n",
    "W = len(ys)\n",
    "Ts = [y.shape[0] for y in ys]"
   ]
  },
  {
   "cell_type": "code",
   "execution_count": 3,
   "metadata": {
    "collapsed": true
   },
   "outputs": [],
   "source": [
    "# Run PCA to get a 3d projection of the data\n",
    "from scipy.ndimage import gaussian_filter1d\n",
    "from ssm.preprocessing import pca_with_imputation\n",
    "pca, xs = pca_with_imputation(4, ys, ms)\n",
    "xs = [gaussian_filter1d(x, 1, axis=0) for x in xs]\n",
    "lim = 1.1 * abs(np.vstack(xs)).max()"
   ]
  },
  {
   "cell_type": "markdown",
   "metadata": {},
   "source": [
    "# Split the data into chunks, some train and some test"
   ]
  },
  {
   "cell_type": "code",
   "execution_count": 4,
   "metadata": {
    "collapsed": true
   },
   "outputs": [],
   "source": [
    "chunk = 250\n",
    "train_frac = 0.7\n",
    "val_frac = 0.15\n",
    "all_ys = []\n",
    "all_ms = []\n",
    "all_tags = []\n",
    "all_z_trues = []\n",
    "all_choices = []\n",
    "for tag, (y, m, ztr) in enumerate(zip(ys, ms, z_trues)):\n",
    "    T = y.shape[0]\n",
    "    C = 0\n",
    "    for start in range(0, T, chunk):\n",
    "        stop = min(start+chunk, T)\n",
    "        all_ys.append(y[start:stop])\n",
    "        all_ms.append(m[start:stop])\n",
    "        all_z_trues.append(ztr[start:stop])\n",
    "        all_tags.append(tag)\n",
    "        C += 1\n",
    "        \n",
    "    # assign some of the data to train, val, and test\n",
    "    choices = -1 * np.ones(C)\n",
    "    choices[:int(train_frac * C)] = 0\n",
    "    choices[int(train_frac * C):int((train_frac + val_frac) * C)] = 1\n",
    "    choices[int((train_frac + val_frac) * C):] = 2\n",
    "    choices = choices[np.random.permutation(C)]\n",
    "    all_choices.append(choices)\n",
    "\n",
    "all_choices = np.concatenate(all_choices)\n",
    "get = lambda arr, chc: [x for x, c in zip(arr, all_choices) if c == chc]\n",
    "\n",
    "train_ys = get(all_ys, 0)\n",
    "train_ms = get(all_ms, 0)\n",
    "train_zs = get(all_z_trues, 0)\n",
    "train_tags = get(all_tags, 0)\n",
    "\n",
    "val_ys = get(all_ys, 1)\n",
    "val_ms = get(all_ms, 1)\n",
    "val_zs = get(all_z_trues, 1)\n",
    "val_tags = get(all_tags, 1)\n",
    "\n",
    "test_ys = get(all_ys, 2)\n",
    "test_ms = get(all_ms, 2)\n",
    "test_zs = get(all_z_trues, 2)\n",
    "test_tags = get(all_tags, 2)"
   ]
  },
  {
   "cell_type": "code",
   "execution_count": 5,
   "metadata": {},
   "outputs": [
    {
     "name": "stdout",
     "output_type": "stream",
     "text": [
      "[0, 0, 0, 0, 0, 0, 0, 0, 0, 1, 1, 1, 1, 1, 1, 1, 1, 1, 2, 2, 2, 2, 2, 2, 2, 2, 2, 3, 3, 3, 3, 3, 3, 3, 3, 3, 4, 4, 4, 4, 4, 4, 4, 4, 4]\n",
      "[0, 0, 1, 1, 2, 2, 3, 3, 4, 4]\n",
      "[0, 0, 1, 1, 2, 2, 3, 3, 4, 4]\n"
     ]
    }
   ],
   "source": [
    "print(train_tags)\n",
    "print(val_tags)\n",
    "print(test_tags)"
   ]
  },
  {
   "cell_type": "code",
   "execution_count": 6,
   "metadata": {
    "collapsed": true
   },
   "outputs": [],
   "source": [
    "Ks = np.arange(2, 20+1, 2, dtype=int)\n",
    "M = 0\n",
    "eta = 1e-4"
   ]
  },
  {
   "cell_type": "markdown",
   "metadata": {},
   "source": [
    "# Fit standard AR models to the training data"
   ]
  },
  {
   "cell_type": "code",
   "execution_count": 7,
   "metadata": {
    "scrolled": true
   },
   "outputs": [
    {
     "name": "stdout",
     "output_type": "stream",
     "text": [
      "Fitting model with 2 states\n",
      "Iteration 0.  LL: 884979.7\n",
      "Iteration 1.  LL: 891258.0\n",
      "Iteration 2.  LL: 892653.9\n",
      "Iteration 3.  LL: 893595.6\n",
      "Iteration 4.  LL: 894051.6\n",
      "Iteration 5.  LL: 894252.2\n",
      "Iteration 6.  LL: 894352.4\n",
      "Iteration 7.  LL: 894399.6\n",
      "Iteration 8.  LL: 894421.4\n",
      "Iteration 9.  LL: 894431.1\n",
      "Iteration 10.  LL: 894434.7\n",
      "Iteration 11.  LL: 894435.9\n",
      "Iteration 12.  LL: 894436.2\n",
      "Iteration 13.  LL: 894436.4\n",
      "Iteration 14.  LL: 894436.4\n",
      "Iteration 15.  LL: 894436.4\n",
      "Iteration 16.  LL: 894436.4\n",
      "Iteration 17.  LL: 894436.4\n",
      "Iteration 18.  LL: 894436.4\n",
      "Iteration 19.  LL: 894436.4\n",
      "Iteration 20.  LL: 894436.4\n",
      "Iteration 21.  LL: 894436.4\n",
      "Iteration 22.  LL: 894436.4\n",
      "Iteration 23.  LL: 894436.4\n",
      "Iteration 24.  LL: 894436.4\n",
      "Iteration 25.  LL: 894436.4\n",
      "Iteration 26.  LL: 894436.4\n",
      "Iteration 27.  LL: 894436.4\n",
      "Iteration 28.  LL: 894436.4\n",
      "Iteration 29.  LL: 894436.4\n",
      "Iteration 30.  LL: 894436.4\n",
      "Iteration 31.  LL: 894436.4\n",
      "Iteration 32.  LL: 894436.4\n",
      "Iteration 33.  LL: 894436.4\n",
      "Iteration 34.  LL: 894436.4\n",
      "Iteration 35.  LL: 894436.4\n",
      "Iteration 36.  LL: 894436.4\n",
      "Iteration 37.  LL: 894436.4\n",
      "Iteration 38.  LL: 894436.4\n",
      "Iteration 39.  LL: 894436.4\n",
      "Iteration 40.  LL: 894436.4\n",
      "Iteration 41.  LL: 894436.4\n",
      "Iteration 42.  LL: 894436.4\n",
      "Iteration 43.  LL: 894436.4\n",
      "Iteration 44.  LL: 894436.4\n",
      "Iteration 45.  LL: 894436.4\n",
      "Iteration 46.  LL: 894436.4\n",
      "Iteration 47.  LL: 894436.4\n",
      "Iteration 48.  LL: 894436.4\n",
      "Iteration 49.  LL: 894436.4\n",
      "Fitting model with 4 states\n",
      "Iteration 0.  LL: 891265.3\n",
      "Iteration 1.  LL: 906572.2\n",
      "Iteration 2.  LL: 914357.2\n",
      "Iteration 3.  LL: 917946.5\n",
      "Iteration 4.  LL: 919244.5\n",
      "Iteration 5.  LL: 919624.8\n",
      "Iteration 6.  LL: 919751.0\n",
      "Iteration 7.  LL: 919836.8\n",
      "Iteration 8.  LL: 919917.7\n",
      "Iteration 9.  LL: 919967.7\n",
      "Iteration 10.  LL: 919996.1\n",
      "Iteration 11.  LL: 920012.6\n",
      "Iteration 12.  LL: 920023.1\n",
      "Iteration 13.  LL: 920030.9\n",
      "Iteration 14.  LL: 920035.9\n",
      "Iteration 15.  LL: 920039.2\n",
      "Iteration 16.  LL: 920042.1\n",
      "Iteration 17.  LL: 920044.5\n",
      "Iteration 18.  LL: 920046.4\n",
      "Iteration 19.  LL: 920047.5\n",
      "Iteration 20.  LL: 920048.2\n",
      "Iteration 21.  LL: 920048.6\n",
      "Iteration 22.  LL: 920048.9\n",
      "Iteration 23.  LL: 920049.1\n",
      "Iteration 24.  LL: 920049.3\n",
      "Iteration 25.  LL: 920049.4\n",
      "Iteration 26.  LL: 920049.5\n",
      "Iteration 27.  LL: 920049.6\n",
      "Iteration 28.  LL: 920049.7\n",
      "Iteration 29.  LL: 920049.8\n"
     ]
    },
    {
     "ename": "KeyboardInterrupt",
     "evalue": "",
     "output_type": "error",
     "traceback": [
      "\u001b[0;31m---------------------------------------------------------------------------\u001b[0m",
      "\u001b[0;31mKeyboardInterrupt\u001b[0m                         Traceback (most recent call last)",
      "\u001b[0;32m<ipython-input-7-8a49ffc22b2b>\u001b[0m in \u001b[0;36m<module>\u001b[0;34m()\u001b[0m\n\u001b[1;32m      6\u001b[0m     \u001b[0mprint\u001b[0m\u001b[0;34m(\u001b[0m\u001b[0;34m\"Fitting model with {} states\"\u001b[0m\u001b[0;34m.\u001b[0m\u001b[0mformat\u001b[0m\u001b[0;34m(\u001b[0m\u001b[0mK\u001b[0m\u001b[0;34m)\u001b[0m\u001b[0;34m)\u001b[0m\u001b[0;34m\u001b[0m\u001b[0m\n\u001b[1;32m      7\u001b[0m     \u001b[0mstandard_hmm\u001b[0m \u001b[0;34m=\u001b[0m \u001b[0mHMM\u001b[0m\u001b[0;34m(\u001b[0m\u001b[0mK\u001b[0m\u001b[0;34m,\u001b[0m \u001b[0mN\u001b[0m\u001b[0;34m,\u001b[0m \u001b[0mM\u001b[0m\u001b[0;34m,\u001b[0m \u001b[0mtransitions\u001b[0m\u001b[0;34m=\u001b[0m\u001b[0;34m\"standard\"\u001b[0m\u001b[0;34m,\u001b[0m \u001b[0mobservations\u001b[0m\u001b[0;34m=\u001b[0m\u001b[0;34m\"independent_ar\"\u001b[0m\u001b[0;34m)\u001b[0m\u001b[0;34m\u001b[0m\u001b[0m\n\u001b[0;32m----> 8\u001b[0;31m     \u001b[0mlls\u001b[0m \u001b[0;34m=\u001b[0m \u001b[0mstandard_hmm\u001b[0m\u001b[0;34m.\u001b[0m\u001b[0mfit\u001b[0m\u001b[0;34m(\u001b[0m\u001b[0mtrain_ys\u001b[0m\u001b[0;34m,\u001b[0m \u001b[0mmasks\u001b[0m\u001b[0;34m=\u001b[0m\u001b[0mtrain_ms\u001b[0m\u001b[0;34m,\u001b[0m \u001b[0mmethod\u001b[0m\u001b[0;34m=\u001b[0m\u001b[0;34m\"em\"\u001b[0m\u001b[0;34m,\u001b[0m \u001b[0mnum_em_iters\u001b[0m\u001b[0;34m=\u001b[0m\u001b[0;36m50\u001b[0m\u001b[0;34m)\u001b[0m\u001b[0;34m\u001b[0m\u001b[0m\n\u001b[0m\u001b[1;32m      9\u001b[0m \u001b[0;34m\u001b[0m\u001b[0m\n\u001b[1;32m     10\u001b[0m     \u001b[0mstandard_hmms\u001b[0m\u001b[0;34m.\u001b[0m\u001b[0mappend\u001b[0m\u001b[0;34m(\u001b[0m\u001b[0mstandard_hmm\u001b[0m\u001b[0;34m)\u001b[0m\u001b[0;34m\u001b[0m\u001b[0m\n",
      "\u001b[0;32m~/Projects/ssm/ssm/util.py\u001b[0m in \u001b[0;36mwrapper\u001b[0;34m(self, datas, inputs, masks, tags, **kwargs)\u001b[0m\n\u001b[1;32m    102\u001b[0m             \u001b[0mtags\u001b[0m \u001b[0;34m=\u001b[0m \u001b[0;34m[\u001b[0m\u001b[0mtags\u001b[0m\u001b[0;34m]\u001b[0m\u001b[0;34m\u001b[0m\u001b[0m\n\u001b[1;32m    103\u001b[0m \u001b[0;34m\u001b[0m\u001b[0m\n\u001b[0;32m--> 104\u001b[0;31m         \u001b[0;32mreturn\u001b[0m \u001b[0mf\u001b[0m\u001b[0;34m(\u001b[0m\u001b[0mself\u001b[0m\u001b[0;34m,\u001b[0m \u001b[0mdatas\u001b[0m\u001b[0;34m,\u001b[0m \u001b[0minputs\u001b[0m\u001b[0;34m=\u001b[0m\u001b[0minputs\u001b[0m\u001b[0;34m,\u001b[0m \u001b[0mmasks\u001b[0m\u001b[0;34m=\u001b[0m\u001b[0mmasks\u001b[0m\u001b[0;34m,\u001b[0m \u001b[0mtags\u001b[0m\u001b[0;34m=\u001b[0m\u001b[0mtags\u001b[0m\u001b[0;34m,\u001b[0m \u001b[0;34m**\u001b[0m\u001b[0mkwargs\u001b[0m\u001b[0;34m)\u001b[0m\u001b[0;34m\u001b[0m\u001b[0m\n\u001b[0m\u001b[1;32m    105\u001b[0m \u001b[0;34m\u001b[0m\u001b[0m\n\u001b[1;32m    106\u001b[0m     \u001b[0;32mreturn\u001b[0m \u001b[0mwrapper\u001b[0m\u001b[0;34m\u001b[0m\u001b[0m\n",
      "\u001b[0;32m~/Projects/ssm/ssm/core.py\u001b[0m in \u001b[0;36mfit\u001b[0;34m(self, datas, inputs, masks, tags, method, initialize, **kwargs)\u001b[0m\n\u001b[1;32m    246\u001b[0m             \u001b[0mself\u001b[0m\u001b[0;34m.\u001b[0m\u001b[0minitialize\u001b[0m\u001b[0;34m(\u001b[0m\u001b[0mdatas\u001b[0m\u001b[0;34m,\u001b[0m \u001b[0minputs\u001b[0m\u001b[0;34m=\u001b[0m\u001b[0minputs\u001b[0m\u001b[0;34m,\u001b[0m \u001b[0mmasks\u001b[0m\u001b[0;34m=\u001b[0m\u001b[0mmasks\u001b[0m\u001b[0;34m,\u001b[0m \u001b[0mtags\u001b[0m\u001b[0;34m=\u001b[0m\u001b[0mtags\u001b[0m\u001b[0;34m)\u001b[0m\u001b[0;34m\u001b[0m\u001b[0m\n\u001b[1;32m    247\u001b[0m \u001b[0;34m\u001b[0m\u001b[0m\n\u001b[0;32m--> 248\u001b[0;31m         \u001b[0;32mreturn\u001b[0m \u001b[0mself\u001b[0m\u001b[0;34m.\u001b[0m\u001b[0m_fitting_methods\u001b[0m\u001b[0;34m[\u001b[0m\u001b[0mmethod\u001b[0m\u001b[0;34m]\u001b[0m\u001b[0;34m(\u001b[0m\u001b[0mdatas\u001b[0m\u001b[0;34m,\u001b[0m \u001b[0minputs\u001b[0m\u001b[0;34m=\u001b[0m\u001b[0minputs\u001b[0m\u001b[0;34m,\u001b[0m \u001b[0mmasks\u001b[0m\u001b[0;34m=\u001b[0m\u001b[0mmasks\u001b[0m\u001b[0;34m,\u001b[0m \u001b[0mtags\u001b[0m\u001b[0;34m=\u001b[0m\u001b[0mtags\u001b[0m\u001b[0;34m,\u001b[0m \u001b[0;34m**\u001b[0m\u001b[0mkwargs\u001b[0m\u001b[0;34m)\u001b[0m\u001b[0;34m\u001b[0m\u001b[0m\n\u001b[0m\u001b[1;32m    249\u001b[0m \u001b[0;34m\u001b[0m\u001b[0m\n\u001b[1;32m    250\u001b[0m \u001b[0;34m\u001b[0m\u001b[0m\n",
      "\u001b[0;32m~/Projects/ssm/ssm/core.py\u001b[0m in \u001b[0;36m_fit_em\u001b[0;34m(self, datas, inputs, masks, tags, num_em_iters, verbose, debug, **kwargs)\u001b[0m\n\u001b[1;32m    211\u001b[0m             \u001b[0;31m# E step: compute expected latent states with current parameters\u001b[0m\u001b[0;34m\u001b[0m\u001b[0;34m\u001b[0m\u001b[0m\n\u001b[1;32m    212\u001b[0m             expectations = [self.expected_states(data, input, mask, tag) \n\u001b[0;32m--> 213\u001b[0;31m                             for data, input, mask, tag in zip(datas, inputs, masks, tags)]\n\u001b[0m\u001b[1;32m    214\u001b[0m \u001b[0;34m\u001b[0m\u001b[0m\n\u001b[1;32m    215\u001b[0m             \u001b[0;32mif\u001b[0m \u001b[0mdebug\u001b[0m\u001b[0;34m:\u001b[0m\u001b[0;34m\u001b[0m\u001b[0m\n",
      "\u001b[0;32m~/Projects/ssm/ssm/core.py\u001b[0m in \u001b[0;36m<listcomp>\u001b[0;34m(.0)\u001b[0m\n\u001b[1;32m    211\u001b[0m             \u001b[0;31m# E step: compute expected latent states with current parameters\u001b[0m\u001b[0;34m\u001b[0m\u001b[0;34m\u001b[0m\u001b[0m\n\u001b[1;32m    212\u001b[0m             expectations = [self.expected_states(data, input, mask, tag) \n\u001b[0;32m--> 213\u001b[0;31m                             for data, input, mask, tag in zip(datas, inputs, masks, tags)]\n\u001b[0m\u001b[1;32m    214\u001b[0m \u001b[0;34m\u001b[0m\u001b[0m\n\u001b[1;32m    215\u001b[0m             \u001b[0;32mif\u001b[0m \u001b[0mdebug\u001b[0m\u001b[0;34m:\u001b[0m\u001b[0;34m\u001b[0m\u001b[0m\n",
      "\u001b[0;32m~/Projects/ssm/ssm/util.py\u001b[0m in \u001b[0;36mwrapper\u001b[0;34m(self, data, input, mask, tag, **kwargs)\u001b[0m\n\u001b[1;32m    136\u001b[0m         \u001b[0minput\u001b[0m \u001b[0;34m=\u001b[0m \u001b[0mnp\u001b[0m\u001b[0;34m.\u001b[0m\u001b[0mzeros\u001b[0m\u001b[0;34m(\u001b[0m\u001b[0;34m(\u001b[0m\u001b[0mdata\u001b[0m\u001b[0;34m.\u001b[0m\u001b[0mshape\u001b[0m\u001b[0;34m[\u001b[0m\u001b[0;36m0\u001b[0m\u001b[0;34m]\u001b[0m\u001b[0;34m,\u001b[0m \u001b[0mself\u001b[0m\u001b[0;34m.\u001b[0m\u001b[0mM\u001b[0m\u001b[0;34m)\u001b[0m\u001b[0;34m)\u001b[0m \u001b[0;32mif\u001b[0m \u001b[0minput\u001b[0m \u001b[0;32mis\u001b[0m \u001b[0;32mNone\u001b[0m \u001b[0;32melse\u001b[0m \u001b[0minput\u001b[0m\u001b[0;34m\u001b[0m\u001b[0m\n\u001b[1;32m    137\u001b[0m         \u001b[0mmask\u001b[0m \u001b[0;34m=\u001b[0m \u001b[0mnp\u001b[0m\u001b[0;34m.\u001b[0m\u001b[0mones_like\u001b[0m\u001b[0;34m(\u001b[0m\u001b[0mdata\u001b[0m\u001b[0;34m,\u001b[0m \u001b[0mdtype\u001b[0m\u001b[0;34m=\u001b[0m\u001b[0mbool\u001b[0m\u001b[0;34m)\u001b[0m \u001b[0;32mif\u001b[0m \u001b[0mmask\u001b[0m \u001b[0;32mis\u001b[0m \u001b[0;32mNone\u001b[0m \u001b[0;32melse\u001b[0m \u001b[0mmask\u001b[0m\u001b[0;34m\u001b[0m\u001b[0m\n\u001b[0;32m--> 138\u001b[0;31m         \u001b[0;32mreturn\u001b[0m \u001b[0mf\u001b[0m\u001b[0;34m(\u001b[0m\u001b[0mself\u001b[0m\u001b[0;34m,\u001b[0m \u001b[0mdata\u001b[0m\u001b[0;34m,\u001b[0m \u001b[0minput\u001b[0m\u001b[0;34m=\u001b[0m\u001b[0minput\u001b[0m\u001b[0;34m,\u001b[0m \u001b[0mmask\u001b[0m\u001b[0;34m=\u001b[0m\u001b[0mmask\u001b[0m\u001b[0;34m,\u001b[0m \u001b[0mtag\u001b[0m\u001b[0;34m=\u001b[0m\u001b[0mtag\u001b[0m\u001b[0;34m,\u001b[0m \u001b[0;34m**\u001b[0m\u001b[0mkwargs\u001b[0m\u001b[0;34m)\u001b[0m\u001b[0;34m\u001b[0m\u001b[0m\n\u001b[0m\u001b[1;32m    139\u001b[0m     \u001b[0;32mreturn\u001b[0m \u001b[0mwrapper\u001b[0m\u001b[0;34m\u001b[0m\u001b[0m\n\u001b[1;32m    140\u001b[0m \u001b[0;34m\u001b[0m\u001b[0m\n",
      "\u001b[0;32m~/Projects/ssm/ssm/core.py\u001b[0m in \u001b[0;36mexpected_states\u001b[0;34m(self, data, input, mask, tag)\u001b[0m\n\u001b[1;32m    114\u001b[0m         \u001b[0mlog_Ps\u001b[0m \u001b[0;34m=\u001b[0m \u001b[0mself\u001b[0m\u001b[0;34m.\u001b[0m\u001b[0mtransitions\u001b[0m\u001b[0;34m.\u001b[0m\u001b[0mlog_transition_matrices\u001b[0m\u001b[0;34m(\u001b[0m\u001b[0mdata\u001b[0m\u001b[0;34m,\u001b[0m \u001b[0minput\u001b[0m\u001b[0;34m,\u001b[0m \u001b[0mmask\u001b[0m\u001b[0;34m,\u001b[0m \u001b[0mtag\u001b[0m\u001b[0;34m)\u001b[0m\u001b[0;34m\u001b[0m\u001b[0m\n\u001b[1;32m    115\u001b[0m         \u001b[0mlog_likes\u001b[0m \u001b[0;34m=\u001b[0m \u001b[0mself\u001b[0m\u001b[0;34m.\u001b[0m\u001b[0mobservations\u001b[0m\u001b[0;34m.\u001b[0m\u001b[0mlog_likelihoods\u001b[0m\u001b[0;34m(\u001b[0m\u001b[0mdata\u001b[0m\u001b[0;34m,\u001b[0m \u001b[0minput\u001b[0m\u001b[0;34m,\u001b[0m \u001b[0mmask\u001b[0m\u001b[0;34m,\u001b[0m \u001b[0mtag\u001b[0m\u001b[0;34m)\u001b[0m\u001b[0;34m\u001b[0m\u001b[0m\n\u001b[0;32m--> 116\u001b[0;31m         \u001b[0;32mreturn\u001b[0m \u001b[0mhmm_expected_states\u001b[0m\u001b[0;34m(\u001b[0m\u001b[0mlog_pi0\u001b[0m\u001b[0;34m,\u001b[0m \u001b[0mlog_Ps\u001b[0m\u001b[0;34m,\u001b[0m \u001b[0mlog_likes\u001b[0m\u001b[0;34m)\u001b[0m\u001b[0;34m\u001b[0m\u001b[0m\n\u001b[0m\u001b[1;32m    117\u001b[0m \u001b[0;34m\u001b[0m\u001b[0m\n\u001b[1;32m    118\u001b[0m     \u001b[0;34m@\u001b[0m\u001b[0mensure_args_not_none\u001b[0m\u001b[0;34m\u001b[0m\u001b[0m\n",
      "\u001b[0;32m~/Projects/ssm/ssm/primitives.py\u001b[0m in \u001b[0;36mhmm_expected_states\u001b[0;34m(log_pi0, log_Ps, ll)\u001b[0m\n\u001b[1;32m     68\u001b[0m \u001b[0;34m\u001b[0m\u001b[0m\n\u001b[1;32m     69\u001b[0m     \u001b[0malphas\u001b[0m \u001b[0;34m=\u001b[0m \u001b[0mnp\u001b[0m\u001b[0;34m.\u001b[0m\u001b[0mzeros\u001b[0m\u001b[0;34m(\u001b[0m\u001b[0;34m(\u001b[0m\u001b[0mT\u001b[0m\u001b[0;34m,\u001b[0m \u001b[0mK\u001b[0m\u001b[0;34m)\u001b[0m\u001b[0;34m)\u001b[0m\u001b[0;34m\u001b[0m\u001b[0m\n\u001b[0;32m---> 70\u001b[0;31m     \u001b[0mforward_pass\u001b[0m\u001b[0;34m(\u001b[0m\u001b[0mlog_pi0\u001b[0m\u001b[0;34m,\u001b[0m \u001b[0mlog_Ps\u001b[0m\u001b[0;34m,\u001b[0m \u001b[0mll\u001b[0m\u001b[0;34m,\u001b[0m \u001b[0malphas\u001b[0m\u001b[0;34m)\u001b[0m\u001b[0;34m\u001b[0m\u001b[0m\n\u001b[0m\u001b[1;32m     71\u001b[0m     \u001b[0mbetas\u001b[0m \u001b[0;34m=\u001b[0m \u001b[0mnp\u001b[0m\u001b[0;34m.\u001b[0m\u001b[0mzeros\u001b[0m\u001b[0;34m(\u001b[0m\u001b[0;34m(\u001b[0m\u001b[0mT\u001b[0m\u001b[0;34m,\u001b[0m \u001b[0mK\u001b[0m\u001b[0;34m)\u001b[0m\u001b[0;34m)\u001b[0m\u001b[0;34m\u001b[0m\u001b[0m\n\u001b[1;32m     72\u001b[0m     \u001b[0mbackward_pass\u001b[0m\u001b[0;34m(\u001b[0m\u001b[0mlog_Ps\u001b[0m\u001b[0;34m,\u001b[0m \u001b[0mll\u001b[0m\u001b[0;34m,\u001b[0m \u001b[0mbetas\u001b[0m\u001b[0;34m)\u001b[0m\u001b[0;34m\u001b[0m\u001b[0m\n",
      "\u001b[0;31mKeyboardInterrupt\u001b[0m: "
     ]
    }
   ],
   "source": [
    "# Fit an HMM with a single set of dynamics\n",
    "standard_hmms = []\n",
    "standard_train_lls = []\n",
    "standard_val_lls = []\n",
    "for K in Ks:\n",
    "    print(\"Fitting model with {} states\".format(K))\n",
    "    standard_hmm = HMM(K, N, M, transitions=\"standard\", observations=\"independent_ar\")\n",
    "    lls = standard_hmm.fit(train_ys, masks=train_ms, method=\"em\", num_em_iters=50)\n",
    "    \n",
    "    standard_hmms.append(standard_hmm)\n",
    "    standard_train_lls.append(lls)\n",
    "    standard_val_lls.append(standard_hmm.log_probability(val_ys, masks=val_ms))"
   ]
  },
  {
   "cell_type": "code",
   "execution_count": null,
   "metadata": {},
   "outputs": [],
   "source": [
    "plt.figure(figsize=(12, 6))\n",
    "plt.subplot(121)\n",
    "for K,lls in zip(Ks, train_lls):\n",
    "    plt.plot(lls, label=\"K={}\".format(K))\n",
    "plt.xlabel(\"Iteration\")\n",
    "plt.ylabel(\"Train LL\")\n",
    "plt.legend(loc=\"lower right\", ncol=4)\n",
    "\n",
    "\n",
    "plt.subplot(122)\n",
    "for K, val_ll in zip(Ks, val_lls):\n",
    "    plt.plot(K, val_ll, 'ko')\n",
    "plt.xticks(Ks)\n",
    "plt.xlabel(\"K\")\n",
    "plt.ylabel(\"Validation LL\")"
   ]
  },
  {
   "cell_type": "markdown",
   "metadata": {},
   "source": [
    "# Fit hierarchical HMMs"
   ]
  },
  {
   "cell_type": "code",
   "execution_count": null,
   "metadata": {
    "collapsed": true
   },
   "outputs": [],
   "source": [
    "def make_hierarchical_hmm(K, standard_hmm):\n",
    "    # Fit a hierarchical hmm\n",
    "    init_state_distn = InitialStateDistribution(K, N, M)\n",
    "    transition_distn = StationaryTransitions(K, N, M)\n",
    "    observation_distn = HierarchicalIndependentAutoRegressiveObservations(K, N, W, M, eta=eta)\n",
    "    hmm = _HMM(K, N, M, init_state_distn, transition_distn, observation_distn)\n",
    "\n",
    "    # Initialize with the standard HMM\n",
    "    hmm.init_state_distn.log_pi0 = standard_hmm.init_state_distn.log_pi0.copy() \n",
    "    hmm.transitions.log_Ps = standard_hmm.transitions.log_Ps.copy()\n",
    "\n",
    "    hmm.observations.shared_As = standard_hmm.observations.As.copy()\n",
    "    hmm.observations.shared_Vs = standard_hmm.observations.Vs.copy()\n",
    "    hmm.observations.shared_bs = standard_hmm.observations.bs.copy()\n",
    "\n",
    "    for w in range(W):\n",
    "        hmm.observations.As[w] = standard_hmm.observations.As.copy()\n",
    "        hmm.observations.Vs[w] = standard_hmm.observations.Vs.copy()\n",
    "        hmm.observations.bs[w] = standard_hmm.observations.bs.copy()\n",
    "        hmm.observations.inv_sigmas[w] = standard_hmm.observations.inv_sigmas.copy()\n",
    "    \n",
    "    assert np.allclose(\n",
    "        standard_hmm.log_probability(train_ys, masks=train_ms),\n",
    "        hmm.log_probability(train_ys, masks=train_ms, tags=train_tags)\n",
    "    )\n",
    "\n",
    "    return hmm"
   ]
  },
  {
   "cell_type": "code",
   "execution_count": null,
   "metadata": {
    "scrolled": true
   },
   "outputs": [],
   "source": [
    "# Fit the hierarchical HMM\n",
    "hmms = []\n",
    "train_lls = []\n",
    "val_lls = []\n",
    "for K, standard_hmm in zip(Ks, standard_hmms):\n",
    "    print(\"Fitting model with {} states\".format(K))\n",
    "    hmm = make_hierarchical_hmm(K, standard_hmm)\n",
    "    lls = hmm.fit(train_ys, masks=train_ms, tags=train_tags, method=\"em\", num_em_iters=50)\n",
    "    \n",
    "    hmms.append(hmm)\n",
    "    train_lls.append(lls)\n",
    "    val_lls.append(hmm.log_probability(val_ys, masks=val_ms, tags=val_tags))"
   ]
  },
  {
   "cell_type": "code",
   "execution_count": null,
   "metadata": {},
   "outputs": [],
   "source": [
    "plt.figure(figsize=(12, 6))\n",
    "plt.subplot(121)\n",
    "for K,lls in zip(Ks, train_lls):\n",
    "    plt.plot(lls, label=\"K={}\".format(K))\n",
    "plt.xlabel(\"Iteration\")\n",
    "plt.ylabel(\"Train LL\")\n",
    "plt.legend(loc=\"lower right\", ncol=4)\n",
    "\n",
    "plt.subplot(122)\n",
    "for K, val_ll in zip(Ks, val_lls):\n",
    "    plt.plot(K, val_ll, 'ko')\n",
    "plt.xticks(Ks)\n",
    "plt.xlabel(\"K\")\n",
    "plt.ylabel(\"Validation LL\")"
   ]
  },
  {
   "cell_type": "markdown",
   "metadata": {},
   "source": [
    "# Fit the model to the entire dataset"
   ]
  },
  {
   "cell_type": "code",
   "execution_count": null,
   "metadata": {
    "collapsed": true
   },
   "outputs": [],
   "source": [
    "# zs = [standard_hmm.most_likely_states(y, mask=m) for y, m in zip(ys, ms)]\n",
    "# standard_hmm.permute(find_permutation(np.concatenate(zs), np.concatenate(z_trues)))\n",
    "# zs = [standard_hmm.most_likely_states(y, mask=m) for y, m in zip(ys, ms)]"
   ]
  },
  {
   "cell_type": "code",
   "execution_count": null,
   "metadata": {
    "collapsed": true
   },
   "outputs": [],
   "source": [
    "zs = [hmm.most_likely_states(y, mask=m, tag=tag) for y, m, tag in zip(ys, ms, range(W))]\n",
    "hmm.permute(find_permutation(np.concatenate(z_trues), np.concatenate(zs)))\n",
    "zs = [hmm.most_likely_states(y, mask=m, tag=tag) for y, m, tag in zip(ys, ms, range(W))]"
   ]
  },
  {
   "cell_type": "code",
   "execution_count": null,
   "metadata": {
    "collapsed": true
   },
   "outputs": [],
   "source": [
    "for w in range(W):\n",
    "    plt.figure(figsize=(12, 2))\n",
    "\n",
    "    plt.subplot(211)\n",
    "    plt.imshow(z_trues[w][None, :], aspect=\"auto\", cmap=zplt.default_cmap, vmin=0, vmax=len(zplt.default_colors) -1)\n",
    "    plt.ylabel(\"$z_{true}$\")\n",
    "\n",
    "    plt.subplot(212)\n",
    "    plt.imshow(zs[w][None, :], aspect=\"auto\", cmap=zplt.default_cmap, vmin=0, vmax=len(zplt.default_colors) -1)\n",
    "    plt.ylabel(\"$z$\")"
   ]
  },
  {
   "cell_type": "code",
   "execution_count": null,
   "metadata": {
    "collapsed": true
   },
   "outputs": [],
   "source": [
    "zplt.plot_state_overlap(zs, z_trues)"
   ]
  },
  {
   "cell_type": "code",
   "execution_count": null,
   "metadata": {
    "collapsed": true
   },
   "outputs": [],
   "source": [
    "# E_z, E_zzp1 = hmm.expected_states(ys[0], mask=ms[0], tag=0)\n",
    "# plt.imshow(E_z.T, aspect=\"auto\", vmin=0, vmax=1)\n",
    "# plt.colorbar()"
   ]
  },
  {
   "cell_type": "code",
   "execution_count": null,
   "metadata": {
    "collapsed": true
   },
   "outputs": [],
   "source": [
    "plt.figure(figsize=(12, 9))\n",
    "\n",
    "for w in range(W):\n",
    "    ax = plt.subplot(3, W, w+1)\n",
    "    zplt.plot_2d_continuous_states(xs[w], zs[w], xlims=(-lim, lim), ylims=(-lim, lim), inds=(0, 1), ax=ax)\n",
    "    plt.ylabel(\"PC 2\" if w == 0 else \"\")\n",
    "    plt.title(\"worm {}\".format(w+1))\n",
    "\n",
    "    ax = plt.subplot(3, W, W+w+1)\n",
    "    zplt.plot_2d_continuous_states(xs[w], zs[w], xlims=(-lim, lim), ylims=(-lim, lim), inds=(0, 2), ax=ax)\n",
    "    plt.ylabel(\"PC 3\" if w == 0 else \"\")\n",
    "    plt.xlabel(\"PC 1\")\n",
    "\n",
    "    ax = plt.subplot(3, W, 2 * W+w+1)\n",
    "    zplt.plot_2d_continuous_states(xs[w], zs[w], xlims=(-lim, lim), ylims=(-lim, lim), inds=(0, 3), ax=ax)\n",
    "    plt.ylabel(\"PC 3\" if w == 0 else \"\")\n",
    "    plt.xlabel(\"PC 1\")\n",
    "\n",
    "    plt.suptitle(\"Continuous Latent States (Inferred Labels)\")"
   ]
  },
  {
   "cell_type": "markdown",
   "metadata": {},
   "source": [
    "# Simulate from the model with the inferred discrete states"
   ]
  },
  {
   "cell_type": "code",
   "execution_count": null,
   "metadata": {
    "collapsed": true
   },
   "outputs": [],
   "source": [
    "# z_smpl = np.array([superhmm.observations.sample_x(st, None) for st in s])  # T x N_valid\n",
    "w = 4\n",
    "z_smpl = zs[w].copy()\n",
    "y_smpl = np.zeros((Ts[w], N))\n",
    "for t in range(Ts[w]):\n",
    "    y_smpl[t] = hmm.observations.sample_x(z_smpl[t], y_smpl[:t], tag=w, with_noise=False)"
   ]
  },
  {
   "cell_type": "code",
   "execution_count": null,
   "metadata": {
    "collapsed": true
   },
   "outputs": [],
   "source": [
    "# Throw out the unstable samples\n",
    "bad = np.where(abs(y_smpl).max(0) > 3)[0]\n",
    "y_good = y_smpl.copy()\n",
    "y_good[:, bad] = np.nan\n",
    "print(\"neurons with bad simulations: \", bad)"
   ]
  },
  {
   "cell_type": "code",
   "execution_count": null,
   "metadata": {
    "collapsed": true
   },
   "outputs": [],
   "source": [
    "# Plot real data for comparison\n",
    "plt.figure(figsize=(12, 10))\n",
    "gs = GridSpec(2, 1, height_ratios=[1, 8])\n",
    "\n",
    "\n",
    "plt.subplot(gs[0])\n",
    "plt.imshow(z_smpl[None, :], aspect=\"auto\", cmap=zplt.default_cmap, vmin=0, vmax=len(zplt.default_colors) -1)\n",
    "plt.ylabel(\"$s$\")\n",
    "\n",
    "plt.subplot(gs[1])\n",
    "plt.plot(np.arange(Ts[w]) / 3.0, ys[w] - np.arange(N), '-k')\n",
    "plt.plot(np.arange(Ts[w]) / 3.0, y_good - np.arange(N), '-', color=zplt.default_colors[3])\n",
    "plt.yticks(-np.arange(N), neuron_names)\n",
    "plt.ylim(-N,1)\n",
    "plt.xlim(0, Ts[w] / 3.0)\n",
    "plt.xlabel(\"time (s)\")"
   ]
  }
 ],
 "metadata": {
  "kernelspec": {
   "display_name": "Python 3",
   "language": "python",
   "name": "python3"
  },
  "language_info": {
   "codemirror_mode": {
    "name": "ipython",
    "version": 3
   },
   "file_extension": ".py",
   "mimetype": "text/x-python",
   "name": "python",
   "nbconvert_exporter": "python",
   "pygments_lexer": "ipython3",
   "version": "3.6.3"
  }
 },
 "nbformat": 4,
 "nbformat_minor": 2
}
