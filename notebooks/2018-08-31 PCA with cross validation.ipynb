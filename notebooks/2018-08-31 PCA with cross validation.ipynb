{
 "cells": [
  {
   "cell_type": "code",
   "execution_count": 1,
   "metadata": {
    "collapsed": true
   },
   "outputs": [],
   "source": [
    "import os\n",
    "os.chdir(os.path.expanduser(\"~/Projects/zimmer\"))\n",
    "import copy\n",
    "import pickle\n",
    "\n",
    "import numpy as np\n",
    "np.random.seed(1234)\n",
    "\n",
    "import matplotlib.pyplot as plt\n",
    "plt.ion()\n",
    "\n",
    "from tqdm import tqdm\n",
    "from functools import partial\n",
    "\n",
    "from zimmer.io import load_kato_data\n",
    "import zimmer.plotting as zplt\n",
    "from zimmer.observations import HierarchicalIndependentAutoRegressiveObservations, HierarchicalAutoRegressiveObservations,  HierarchicalRobustAutoRegressiveObservations\n",
    "from zimmer.transitions import HierarchicalRecurrentTransitions, HierarchicalRecurrentOnlyTransitions\n",
    "from zimmer.util import cached\n",
    "\n",
    "from ssm.models import HMM\n",
    "from ssm.core import _HMM\n",
    "from ssm.init_state_distns import InitialStateDistribution\n",
    "from ssm.transitions import RecurrentTransitions, InputDrivenTransitions, StationaryTransitions, \\\n",
    "    NeuralNetworkRecurrentTransitions, RecurrentOnlyTransitions\n",
    "from ssm.observations import IndependentAutoRegressiveObservations\n",
    "\n",
    "from ssm.util import find_permutation, compute_state_overlap\n",
    "from ssm.preprocessing import pca_with_imputation, trend_filter, standardize"
   ]
  },
  {
   "cell_type": "code",
   "execution_count": 2,
   "metadata": {
    "collapsed": true
   },
   "outputs": [],
   "source": [
    "# Specify outputs\n",
    "results_dir = \"results/kato/2018-08-30\""
   ]
  },
  {
   "cell_type": "code",
   "execution_count": 3,
   "metadata": {},
   "outputs": [
    {
     "name": "stdout",
     "output_type": "stream",
     "text": [
      "Only including named neurons.\n",
      "59 neurons across all 5 worms\n"
     ]
    }
   ],
   "source": [
    "# Load the data\n",
    "ys, ms, z_trues, z_true_key, neuron_names = load_kato_data(include_unnamed=False, signal=\"dff\")\n",
    "ys = [trend_filter(y) for y in ys]\n",
    "\n",
    "\n",
    "K_true = len(z_true_key)\n",
    "N = ys[0].shape[1]\n",
    "W = len(ys)\n",
    "Ts = [y.shape[0] for y in ys]"
   ]
  },
  {
   "cell_type": "code",
   "execution_count": 5,
   "metadata": {
    "collapsed": true
   },
   "outputs": [],
   "source": [
    "chunk = 250\n",
    "train_frac = 0.7\n",
    "val_frac = 0.15\n",
    "all_ys = []\n",
    "all_ms = []\n",
    "all_tags = []\n",
    "all_z_trues = []\n",
    "all_choices = []\n",
    "for tag, (y, m, ztr) in enumerate(zip(ys, ms, z_trues)):\n",
    "    T = y.shape[0]\n",
    "    C = 0\n",
    "    for start in range(0, T, chunk):\n",
    "        stop = min(start+chunk, T)\n",
    "        all_ys.append(y[start:stop])\n",
    "        all_ms.append(m[start:stop])\n",
    "        all_z_trues.append(ztr[start:stop])\n",
    "        all_tags.append(tag)\n",
    "        C += 1\n",
    "        \n",
    "    # assign some of the data to train, val, and test\n",
    "    choices = -1 * np.ones(C)\n",
    "    choices[:int(train_frac * C)] = 0\n",
    "    choices[int(train_frac * C):int((train_frac + val_frac) * C)] = 1\n",
    "    choices[int((train_frac + val_frac) * C):] = 2\n",
    "    choices = choices[np.random.permutation(C)]\n",
    "    all_choices.append(choices)\n",
    "\n",
    "all_choices = np.concatenate(all_choices)\n",
    "get = lambda arr, chc: [x for x, c in zip(arr, all_choices) if c == chc]\n",
    "\n",
    "train_ys = get(all_ys, 0)\n",
    "train_ms = get(all_ms, 0)\n",
    "train_zs = get(all_z_trues, 0)\n",
    "train_tags = get(all_tags, 0)\n",
    "\n",
    "val_ys = get(all_ys, 1)\n",
    "val_ms = get(all_ms, 1)\n",
    "val_zs = get(all_z_trues, 1)\n",
    "val_tags = get(all_tags, 1)\n",
    "\n",
    "test_ys = get(all_ys, 2)\n",
    "test_ms = get(all_ms, 2)\n",
    "test_zs = get(all_z_trues, 2)\n",
    "test_tags = get(all_tags, 2)"
   ]
  },
  {
   "cell_type": "markdown",
   "metadata": {},
   "source": [
    "# Dimensionality reduction on $\\Delta$F/F "
   ]
  },
  {
   "cell_type": "code",
   "execution_count": 19,
   "metadata": {},
   "outputs": [
    {
     "name": "stdout",
     "output_type": "stream",
     "text": [
      "D =  2\n",
      "D =  4\n",
      "D =  6\n",
      "D =  8\n",
      "D =  10\n",
      "D =  12\n",
      "D =  14\n",
      "D =  16\n",
      "D =  18\n",
      "D =  20\n",
      "D =  22\n",
      "D =  24\n",
      "D =  26\n",
      "D =  28\n",
      "D =  30\n"
     ]
    }
   ],
   "source": [
    "# Run PCA to get a 3d projection of the data\n",
    "from ssm.preprocessing import pca_with_imputation\n",
    "pcas = []\n",
    "scores = []\n",
    "for D in range(2, 31, 2):\n",
    "    print(\"D = \", D)\n",
    "    # Fit PCA with missing data imputation on the training data\n",
    "    pca, _ = pca_with_imputation(D, train_ys, train_ms)\n",
    "    pcas.append(pca)\n",
    "    \n",
    "    score = 0\n",
    "    for y, m in zip(val_ys, val_ms):\n",
    "        # Estimate the missing data\n",
    "        yhat = y.copy()\n",
    "        for _ in range(20):\n",
    "            yhat[~m] = pca.inverse_transform(pca.transform(yhat))[~m]\n",
    "        \n",
    "        # Score the reconstruction\n",
    "        yhat = pca.inverse_transform(pca.transform(yhat))\n",
    "        score += -0.5 * np.mean((y[m] - yhat[m])**2)\n",
    "        \n",
    "    scores.append(score)"
   ]
  },
  {
   "cell_type": "code",
   "execution_count": 27,
   "metadata": {},
   "outputs": [
    {
     "data": {
      "text/plain": [
       "[<matplotlib.lines.Line2D at 0x7fa5564dbda0>]"
      ]
     },
     "execution_count": 27,
     "metadata": {},
     "output_type": "execute_result"
    },
    {
     "data": {
      "image/png": "[encoded data removed]",
      "text/plain": [
       "<matplotlib.figure.Figure at 0x7fa55649e080>"
      ]
     },
     "metadata": {},
     "output_type": "display_data"
    }
   ],
   "source": [
    "pca, _ = pca_with_imputation(N, ys, ms)\n",
    "plt.plot(np.arange(N), np.cumsum(pca.explained_variance_ratio_))"
   ]
  },
  {
   "cell_type": "code",
   "execution_count": 30,
   "metadata": {},
   "outputs": [
    {
     "data": {
      "text/plain": [
       "13"
      ]
     },
     "execution_count": 30,
     "metadata": {},
     "output_type": "execute_result"
    }
   ],
   "source": [
    "np.sum(np.cumsum(pca.explained_variance_ratio_) < .9)"
   ]
  },
  {
   "cell_type": "code",
   "execution_count": null,
   "metadata": {
    "collapsed": true
   },
   "outputs": [],
   "source": []
  }
 ],
 "metadata": {
  "kernelspec": {
   "display_name": "Python 3",
   "language": "python",
   "name": "python3"
  },
  "language_info": {
   "codemirror_mode": {
    "name": "ipython",
    "version": 3
   },
   "file_extension": ".py",
   "mimetype": "text/x-python",
   "name": "python",
   "nbconvert_exporter": "python",
   "pygments_lexer": "ipython3",
   "version": "3.6.3"
  }
 },
 "nbformat": 4,
 "nbformat_minor": 2
}
