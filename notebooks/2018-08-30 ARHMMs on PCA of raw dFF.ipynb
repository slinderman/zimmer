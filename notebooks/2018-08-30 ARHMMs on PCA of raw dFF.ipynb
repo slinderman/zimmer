{
 "cells": [
  {
   "cell_type": "code",
   "execution_count": 1,
   "metadata": {
    "collapsed": true
   },
   "outputs": [],
   "source": [
    "import os\n",
    "os.chdir(os.path.expanduser(\"~/Projects/zimmer\"))\n",
    "import copy\n",
    "import pickle\n",
    "\n",
    "import numpy as np\n",
    "np.random.seed(1234)\n",
    "\n",
    "import matplotlib.pyplot as plt\n",
    "plt.ion()\n",
    "\n",
    "from tqdm import tqdm\n",
    "from functools import partial\n",
    "\n",
    "from zimmer.io import load_kato_data\n",
    "import zimmer.plotting as zplt\n",
    "from zimmer.observations import HierarchicalAutoRegressiveObservations,  HierarchicalRobustAutoRegressiveObservations\n",
    "from zimmer.transitions import HierarchicalStationaryTransitions, HierarchicalRecurrentTransitions, HierarchicalRBFRecurrentTransitions, HierarchicalRecurrentOnlyTransitions, HierarchicalNeuralNetworkRecurrentTransitions\n",
    "from zimmer.util import cached\n",
    "\n",
    "from ssm.models import HMM\n",
    "from ssm.core import _HMM\n",
    "from ssm.init_state_distns import InitialStateDistribution\n",
    "from ssm.transitions import RecurrentTransitions, InputDrivenTransitions, StationaryTransitions, \\\n",
    "    NeuralNetworkRecurrentTransitions, RecurrentOnlyTransitions, RBFRecurrentTransitions\n",
    "from ssm.observations import IndependentAutoRegressiveObservations\n",
    "\n",
    "from ssm.util import find_permutation, compute_state_overlap\n",
    "from ssm.preprocessing import pca_with_imputation, trend_filter, standardize\n",
    "\n",
    "from pyhsmm.util.general import relabel_by_permutation"
   ]
  },
  {
   "cell_type": "code",
   "execution_count": 2,
   "metadata": {
    "collapsed": true
   },
   "outputs": [],
   "source": [
    "# Specify hyperparameters\n",
    "D = 10   # dimensionality of continuous latent states\n",
    "M = 0   # dimensionality of input\n",
    "results_dir = \"results/kato/2018-11-28/D{}\".format(D)"
   ]
  },
  {
   "cell_type": "code",
   "execution_count": 3,
   "metadata": {},
   "outputs": [
    {
     "name": "stdout",
     "output_type": "stream",
     "text": [
      "Only including named neurons.\n",
      "59 neurons across all 5 worms\n"
     ]
    }
   ],
   "source": [
    "# Load the data\n",
    "ys, ms, z_trues, z_true_key, neuron_names = load_kato_data(include_unnamed=False, signal=\"dff\")\n",
    "ys = [trend_filter(y) for y in ys]\n",
    "\n",
    "\n",
    "K_true = len(z_true_key)\n",
    "N = ys[0].shape[1]\n",
    "W = len(ys)\n",
    "Ts = [y.shape[0] for y in ys]"
   ]
  },
  {
   "cell_type": "code",
   "execution_count": 4,
   "metadata": {
    "collapsed": true
   },
   "outputs": [],
   "source": [
    "zimmer_perm = np.array([0, 1, 3, 2, 4, 5, 6, 7])\n",
    "z_trues = [relabel_by_permutation(ztr, np.argsort(zimmer_perm)) for ztr in z_trues]\n",
    "z_true_key = np.array(z_true_key)[zimmer_perm]"
   ]
  },
  {
   "cell_type": "markdown",
   "metadata": {},
   "source": [
    "# Dimensionality reduction on $\\Delta$F/F "
   ]
  },
  {
   "cell_type": "code",
   "execution_count": 5,
   "metadata": {
    "collapsed": true
   },
   "outputs": [],
   "source": [
    "# Run PCA to get a 3d projection of the data\n",
    "from ssm.preprocessing import pca_with_imputation\n",
    "_pca = cached(results_dir, \"pca\")(pca_with_imputation)\n",
    "pca, xs = _pca(D, ys, ms)\n",
    "xs = [x.copy('C') for x in xs]\n",
    "\n",
    "lim = 1.1 * abs(np.vstack(xs)).max()"
   ]
  },
  {
   "cell_type": "code",
   "execution_count": 6,
   "metadata": {
    "collapsed": true
   },
   "outputs": [],
   "source": [
    "def split_train_test(seed=0):\n",
    "    np.random.seed(seed)\n",
    "\n",
    "    chunk = 250\n",
    "    train_frac = 0.7\n",
    "    val_frac = 0.15\n",
    "    all_ys = []\n",
    "    all_xs = []\n",
    "    all_ms = []\n",
    "    all_tags = []\n",
    "    all_z_trues = []\n",
    "    all_choices = []\n",
    "    for tag, (y, x, m, ztr) in enumerate(zip(ys, xs, ms, z_trues)):\n",
    "        T = y.shape[0]\n",
    "        C = 0\n",
    "        for start in range(0, T, chunk):\n",
    "            stop = min(start+chunk, T)\n",
    "            all_ys.append(y[start:stop])\n",
    "            all_xs.append(x[start:stop].copy('C'))\n",
    "            all_ms.append(m[start:stop])\n",
    "            all_z_trues.append(ztr[start:stop])\n",
    "            all_tags.append(tag)\n",
    "            C += 1\n",
    "\n",
    "        # assign some of the data to train, val, and test\n",
    "        choices = -1 * np.ones(C)\n",
    "        choices[:int(train_frac * C)] = 0\n",
    "        choices[int(train_frac * C):int((train_frac + val_frac) * C)] = 1\n",
    "        choices[int((train_frac + val_frac) * C):] = 2\n",
    "        choices = choices[np.random.permutation(C)]\n",
    "        all_choices.append(choices)\n",
    "\n",
    "    all_choices = np.concatenate(all_choices)\n",
    "    get = lambda arr, chc: [x for x, c in zip(arr, all_choices) if c == chc]\n",
    "\n",
    "    train_ys = get(all_ys, 0)\n",
    "    train_xs = get(all_xs, 0)\n",
    "    train_ms = get(all_ms, 0)\n",
    "    train_zs = get(all_z_trues, 0)\n",
    "    train_tags = get(all_tags, 0)\n",
    "\n",
    "    val_ys = get(all_ys, 1)\n",
    "    val_xs = get(all_xs, 1)\n",
    "    val_ms = get(all_ms, 1)\n",
    "    val_zs = get(all_z_trues, 1)\n",
    "    val_tags = get(all_tags, 1)\n",
    "\n",
    "    test_ys = get(all_ys, 2)\n",
    "    test_xs = get(all_xs, 2)\n",
    "    test_ms = get(all_ms, 2)\n",
    "    test_zs = get(all_z_trues, 2)\n",
    "    test_tags = get(all_tags, 2)\n",
    "    \n",
    "    return (train_ys, train_xs, train_ms, train_zs, train_tags), \\\n",
    "           (val_ys, val_xs, val_ms, val_zs, val_tags), \\\n",
    "           (test_ys, test_xs, test_ms, test_zs, test_tags)\n",
    "        \n",
    "_split = cached(results_dir, \"split_train_test\")(split_train_test)\n",
    "train, val, test = _split()\n",
    "train_ys, train_xs, train_ms, train_zs, train_tags = train\n",
    "val_ys, val_xs, val_ms, val_zs, val_tags = val\n",
    "test_ys, test_xs, test_ms, test_zs, test_tags = test"
   ]
  },
  {
   "cell_type": "code",
   "execution_count": 7,
   "metadata": {},
   "outputs": [
    {
     "name": "stdout",
     "output_type": "stream",
     "text": [
      "Training chunks per worm:    [9 9 9 9 9]\n",
      "Validation chunks per worm:  [2 2 2 2 2]\n",
      "Testing chunks per worm:     [2 2 2 2 2]\n"
     ]
    }
   ],
   "source": [
    "print(\"Training chunks per worm:   \", np.bincount(train_tags))\n",
    "print(\"Validation chunks per worm: \", np.bincount(val_tags))\n",
    "print(\"Testing chunks per worm:    \", np.bincount(test_tags))"
   ]
  },
  {
   "cell_type": "code",
   "execution_count": 8,
   "metadata": {},
   "outputs": [
    {
     "name": "stdout",
     "output_type": "stream",
     "text": [
      "D_train:  112070\n",
      "D_val:    25000\n",
      "D_test:   24890\n"
     ]
    }
   ],
   "source": [
    "# Compute number of training, validation, and test entries\n",
    "D_train = sum([x.size for x in train_xs])\n",
    "D_val = sum([x.size for x in val_xs])\n",
    "D_test = sum([x.size for x in test_xs])\n",
    "\n",
    "print(\"D_train: \", D_train)\n",
    "print(\"D_val:   \", D_val)\n",
    "print(\"D_test:  \", D_test)"
   ]
  },
  {
   "cell_type": "markdown",
   "metadata": {},
   "source": [
    "# Fit an ARHMM to the continuous latent states, sweeping over number of discrete latent states"
   ]
  },
  {
   "cell_type": "code",
   "execution_count": 13,
   "metadata": {
    "collapsed": true
   },
   "outputs": [],
   "source": [
    "Ks = np.arange(2, 21, step=2)\n",
    "transitionss = [\"standard\", \"recurrent\", \"rbf_recurrent\"]\n",
    "observationss = [\"ar\", \"robust_ar\"]\n",
    "etas = [1e8, 1e0, 1e-1, 1e-2, 1e-3, 1e-4]"
   ]
  },
  {
   "cell_type": "code",
   "execution_count": 14,
   "metadata": {
    "collapsed": true
   },
   "outputs": [],
   "source": [
    "def _fit_hmm(K, transitions, observations):\n",
    "    hmm = HMM(K, D, M, transitions=transitions, observations=observations)\n",
    "    lps = hmm.fit(train_xs, method=\"em\", num_em_iters=250)\n",
    "    val_ll = hmm.log_likelihood(val_xs)\n",
    "    return hmm, lps, val_ll"
   ]
  },
  {
   "cell_type": "code",
   "execution_count": null,
   "metadata": {},
   "outputs": [
    {
     "name": "stdout",
     "output_type": "stream",
     "text": [
      "Fitting  hmm_standard_ar_K2\n",
      "Fitting  hmm_standard_robust_ar_K2\n",
      "Fitting  hmm_recurrent_ar_K2\n",
      "Fitting  hmm_recurrent_robust_ar_K2\n",
      "Fitting  hmm_rbf_recurrent_ar_K2\n"
     ]
    },
    {
     "data": {
      "application/vnd.jupyter.widget-view+json": {
       "model_id": "c2b66bbec9524bff856644e67253f252",
       "version_major": 2,
       "version_minor": 0
      },
      "text/plain": [
       "A Jupyter Widget"
      ]
     },
     "metadata": {},
     "output_type": "display_data"
    },
    {
     "name": "stderr",
     "output_type": "stream",
     "text": [
      "/home/scott/Projects/autograd/autograd/numpy/numpy_vjps.py:448: FutureWarning: Using a non-tuple sequence for multidimensional indexing is deprecated; use `arr[tuple(seq)]` instead of `arr[seq]`. In the future this will be interpreted as an array index, `arr[np.array(seq)]`, which will result either in an error or a different result.\n",
      "  return lambda g: g[idxs]\n"
     ]
    },
    {
     "name": "stdout",
     "output_type": "stream",
     "text": [
      "Fitting  hmm_rbf_recurrent_robust_ar_K2\n"
     ]
    },
    {
     "data": {
      "application/vnd.jupyter.widget-view+json": {
       "model_id": "3f57770d2e054c7585d591e118a67f6d",
       "version_major": 2,
       "version_minor": 0
      },
      "text/plain": [
       "A Jupyter Widget"
      ]
     },
     "metadata": {},
     "output_type": "display_data"
    },
    {
     "name": "stderr",
     "output_type": "stream",
     "text": [
      "/home/scott/Projects/autograd/autograd/numpy/numpy_vjps.py:448: FutureWarning: Using a non-tuple sequence for multidimensional indexing is deprecated; use `arr[tuple(seq)]` instead of `arr[seq]`. In the future this will be interpreted as an array index, `arr[np.array(seq)]`, which will result either in an error or a different result.\n",
      "  return lambda g: g[idxs]\n"
     ]
    },
    {
     "name": "stdout",
     "output_type": "stream",
     "text": [
      "Fitting  hmm_standard_ar_K4\n",
      "Fitting  hmm_standard_robust_ar_K4\n",
      "Fitting  hmm_recurrent_ar_K4\n",
      "Fitting  hmm_recurrent_robust_ar_K4\n",
      "Fitting  hmm_rbf_recurrent_ar_K4\n"
     ]
    },
    {
     "data": {
      "application/vnd.jupyter.widget-view+json": {
       "model_id": "5f2231b6db4241889997e38a452870f1",
       "version_major": 2,
       "version_minor": 0
      },
      "text/plain": [
       "A Jupyter Widget"
      ]
     },
     "metadata": {},
     "output_type": "display_data"
    },
    {
     "name": "stderr",
     "output_type": "stream",
     "text": [
      "/home/scott/Projects/autograd/autograd/numpy/numpy_vjps.py:448: FutureWarning: Using a non-tuple sequence for multidimensional indexing is deprecated; use `arr[tuple(seq)]` instead of `arr[seq]`. In the future this will be interpreted as an array index, `arr[np.array(seq)]`, which will result either in an error or a different result.\n",
      "  return lambda g: g[idxs]\n"
     ]
    },
    {
     "name": "stdout",
     "output_type": "stream",
     "text": [
      "Fitting  hmm_rbf_recurrent_robust_ar_K4\n"
     ]
    },
    {
     "data": {
      "application/vnd.jupyter.widget-view+json": {
       "model_id": "2054e12f25cf4f89bd05bdd74f04b9dc",
       "version_major": 2,
       "version_minor": 0
      },
      "text/plain": [
       "A Jupyter Widget"
      ]
     },
     "metadata": {},
     "output_type": "display_data"
    },
    {
     "name": "stderr",
     "output_type": "stream",
     "text": [
      "/home/scott/Projects/autograd/autograd/numpy/numpy_vjps.py:448: FutureWarning: Using a non-tuple sequence for multidimensional indexing is deprecated; use `arr[tuple(seq)]` instead of `arr[seq]`. In the future this will be interpreted as an array index, `arr[np.array(seq)]`, which will result either in an error or a different result.\n",
      "  return lambda g: g[idxs]\n"
     ]
    },
    {
     "name": "stdout",
     "output_type": "stream",
     "text": [
      "Fitting  hmm_standard_ar_K6\n",
      "Fitting  hmm_standard_robust_ar_K6\n",
      "Fitting  hmm_recurrent_ar_K6\n",
      "Fitting  hmm_recurrent_robust_ar_K6\n",
      "Fitting  hmm_rbf_recurrent_ar_K6\n"
     ]
    },
    {
     "data": {
      "application/vnd.jupyter.widget-view+json": {
       "model_id": "d45710877fda476098e9844e52a4c6a0",
       "version_major": 2,
       "version_minor": 0
      },
      "text/plain": [
       "A Jupyter Widget"
      ]
     },
     "metadata": {},
     "output_type": "display_data"
    },
    {
     "name": "stderr",
     "output_type": "stream",
     "text": [
      "/home/scott/Projects/autograd/autograd/numpy/numpy_vjps.py:448: FutureWarning: Using a non-tuple sequence for multidimensional indexing is deprecated; use `arr[tuple(seq)]` instead of `arr[seq]`. In the future this will be interpreted as an array index, `arr[np.array(seq)]`, which will result either in an error or a different result.\n",
      "  return lambda g: g[idxs]\n"
     ]
    },
    {
     "name": "stdout",
     "output_type": "stream",
     "text": [
      "Fitting  hmm_rbf_recurrent_robust_ar_K6\n"
     ]
    },
    {
     "data": {
      "application/vnd.jupyter.widget-view+json": {
       "model_id": "c1282a8e35484dcf97987d168fc83fea",
       "version_major": 2,
       "version_minor": 0
      },
      "text/plain": [
       "A Jupyter Widget"
      ]
     },
     "metadata": {},
     "output_type": "display_data"
    },
    {
     "name": "stderr",
     "output_type": "stream",
     "text": [
      "/home/scott/Projects/autograd/autograd/numpy/numpy_vjps.py:448: FutureWarning: Using a non-tuple sequence for multidimensional indexing is deprecated; use `arr[tuple(seq)]` instead of `arr[seq]`. In the future this will be interpreted as an array index, `arr[np.array(seq)]`, which will result either in an error or a different result.\n",
      "  return lambda g: g[idxs]\n",
      "/home/scott/Projects/ssm/ssm/util.py:189: UserWarning: generalized_newton_studentst_dof fixed point grew beyond bounds [0.001,20].\n",
      "  \"bounds [{},{}].\".format(nu_min, nu_max))\n"
     ]
    },
    {
     "name": "stdout",
     "output_type": "stream",
     "text": [
      "Fitting  hmm_standard_ar_K8\n",
      "Fitting  hmm_standard_robust_ar_K8\n",
      "Fitting  hmm_recurrent_ar_K8\n",
      "Fitting  hmm_recurrent_robust_ar_K8\n",
      "Fitting  hmm_rbf_recurrent_ar_K8\n"
     ]
    },
    {
     "data": {
      "application/vnd.jupyter.widget-view+json": {
       "model_id": "7079fec3e85b41e19b88522c3e2597e0",
       "version_major": 2,
       "version_minor": 0
      },
      "text/plain": [
       "A Jupyter Widget"
      ]
     },
     "metadata": {},
     "output_type": "display_data"
    },
    {
     "name": "stderr",
     "output_type": "stream",
     "text": [
      "/home/scott/Projects/autograd/autograd/numpy/numpy_vjps.py:448: FutureWarning: Using a non-tuple sequence for multidimensional indexing is deprecated; use `arr[tuple(seq)]` instead of `arr[seq]`. In the future this will be interpreted as an array index, `arr[np.array(seq)]`, which will result either in an error or a different result.\n",
      "  return lambda g: g[idxs]\n"
     ]
    },
    {
     "name": "stdout",
     "output_type": "stream",
     "text": [
      "Fitting  hmm_rbf_recurrent_robust_ar_K8\n"
     ]
    },
    {
     "data": {
      "application/vnd.jupyter.widget-view+json": {
       "model_id": "3cd27b06967a40669e1378e693f44a59",
       "version_major": 2,
       "version_minor": 0
      },
      "text/plain": [
       "A Jupyter Widget"
      ]
     },
     "metadata": {},
     "output_type": "display_data"
    },
    {
     "name": "stderr",
     "output_type": "stream",
     "text": [
      "/home/scott/Projects/autograd/autograd/numpy/numpy_vjps.py:448: FutureWarning: Using a non-tuple sequence for multidimensional indexing is deprecated; use `arr[tuple(seq)]` instead of `arr[seq]`. In the future this will be interpreted as an array index, `arr[np.array(seq)]`, which will result either in an error or a different result.\n",
      "  return lambda g: g[idxs]\n",
      "/home/scott/Projects/ssm/ssm/util.py:189: UserWarning: generalized_newton_studentst_dof fixed point grew beyond bounds [0.001,20].\n",
      "  \"bounds [{},{}].\".format(nu_min, nu_max))\n"
     ]
    },
    {
     "name": "stdout",
     "output_type": "stream",
     "text": [
      "Fitting  hmm_standard_ar_K10\n",
      "Fitting  hmm_standard_robust_ar_K10\n",
      "Fitting  hmm_recurrent_ar_K10\n",
      "Fitting  hmm_recurrent_robust_ar_K10\n",
      "Fitting  hmm_rbf_recurrent_ar_K10\n"
     ]
    },
    {
     "data": {
      "application/vnd.jupyter.widget-view+json": {
       "model_id": "50200600ec7a488881c773e826bd9981",
       "version_major": 2,
       "version_minor": 0
      },
      "text/plain": [
       "A Jupyter Widget"
      ]
     },
     "metadata": {},
     "output_type": "display_data"
    },
    {
     "name": "stderr",
     "output_type": "stream",
     "text": [
      "/home/scott/Projects/autograd/autograd/numpy/numpy_vjps.py:448: FutureWarning: Using a non-tuple sequence for multidimensional indexing is deprecated; use `arr[tuple(seq)]` instead of `arr[seq]`. In the future this will be interpreted as an array index, `arr[np.array(seq)]`, which will result either in an error or a different result.\n",
      "  return lambda g: g[idxs]\n"
     ]
    },
    {
     "name": "stdout",
     "output_type": "stream",
     "text": [
      "Fitting  hmm_rbf_recurrent_robust_ar_K10\n"
     ]
    },
    {
     "data": {
      "application/vnd.jupyter.widget-view+json": {
       "model_id": "f0c6e27d0993438f8ccbe813b8fd6bde",
       "version_major": 2,
       "version_minor": 0
      },
      "text/plain": [
       "A Jupyter Widget"
      ]
     },
     "metadata": {},
     "output_type": "display_data"
    },
    {
     "name": "stderr",
     "output_type": "stream",
     "text": [
      "/home/scott/Projects/autograd/autograd/numpy/numpy_vjps.py:448: FutureWarning: Using a non-tuple sequence for multidimensional indexing is deprecated; use `arr[tuple(seq)]` instead of `arr[seq]`. In the future this will be interpreted as an array index, `arr[np.array(seq)]`, which will result either in an error or a different result.\n",
      "  return lambda g: g[idxs]\n",
      "/home/scott/Projects/ssm/ssm/util.py:189: UserWarning: generalized_newton_studentst_dof fixed point grew beyond bounds [0.001,20].\n",
      "  \"bounds [{},{}].\".format(nu_min, nu_max))\n"
     ]
    },
    {
     "name": "stdout",
     "output_type": "stream",
     "text": [
      "Fitting  hmm_standard_ar_K12\n",
      "Fitting  hmm_standard_robust_ar_K12\n",
      "Fitting  hmm_recurrent_ar_K12\n",
      "Fitting  hmm_recurrent_robust_ar_K12\n",
      "Fitting  hmm_rbf_recurrent_ar_K12\n"
     ]
    },
    {
     "data": {
      "application/vnd.jupyter.widget-view+json": {
       "model_id": "6296d95e8f7b4744a560cdb0983650a2",
       "version_major": 2,
       "version_minor": 0
      },
      "text/plain": [
       "A Jupyter Widget"
      ]
     },
     "metadata": {},
     "output_type": "display_data"
    },
    {
     "name": "stderr",
     "output_type": "stream",
     "text": [
      "/home/scott/Projects/autograd/autograd/numpy/numpy_vjps.py:448: FutureWarning: Using a non-tuple sequence for multidimensional indexing is deprecated; use `arr[tuple(seq)]` instead of `arr[seq]`. In the future this will be interpreted as an array index, `arr[np.array(seq)]`, which will result either in an error or a different result.\n",
      "  return lambda g: g[idxs]\n"
     ]
    },
    {
     "name": "stdout",
     "output_type": "stream",
     "text": [
      "Fitting  hmm_rbf_recurrent_robust_ar_K12\n"
     ]
    },
    {
     "data": {
      "application/vnd.jupyter.widget-view+json": {
       "model_id": "4823e0f2507d48c7a750e93887a5d005",
       "version_major": 2,
       "version_minor": 0
      },
      "text/plain": [
       "A Jupyter Widget"
      ]
     },
     "metadata": {},
     "output_type": "display_data"
    },
    {
     "name": "stderr",
     "output_type": "stream",
     "text": [
      "/home/scott/Projects/autograd/autograd/numpy/numpy_vjps.py:448: FutureWarning: Using a non-tuple sequence for multidimensional indexing is deprecated; use `arr[tuple(seq)]` instead of `arr[seq]`. In the future this will be interpreted as an array index, `arr[np.array(seq)]`, which will result either in an error or a different result.\n",
      "  return lambda g: g[idxs]\n",
      "/home/scott/Projects/ssm/ssm/util.py:189: UserWarning: generalized_newton_studentst_dof fixed point grew beyond bounds [0.001,20].\n",
      "  \"bounds [{},{}].\".format(nu_min, nu_max))\n"
     ]
    },
    {
     "name": "stdout",
     "output_type": "stream",
     "text": [
      "Fitting  hmm_standard_ar_K14\n",
      "Fitting  hmm_standard_robust_ar_K14\n",
      "Fitting  hmm_recurrent_ar_K14\n",
      "Fitting  hmm_recurrent_robust_ar_K14\n",
      "Fitting  hmm_rbf_recurrent_ar_K14\n"
     ]
    },
    {
     "data": {
      "application/vnd.jupyter.widget-view+json": {
       "model_id": "71241fb5e747459a90b8cddf4e06ba12",
       "version_major": 2,
       "version_minor": 0
      },
      "text/plain": [
       "A Jupyter Widget"
      ]
     },
     "metadata": {},
     "output_type": "display_data"
    },
    {
     "name": "stderr",
     "output_type": "stream",
     "text": [
      "/home/scott/Projects/autograd/autograd/numpy/numpy_vjps.py:448: FutureWarning: Using a non-tuple sequence for multidimensional indexing is deprecated; use `arr[tuple(seq)]` instead of `arr[seq]`. In the future this will be interpreted as an array index, `arr[np.array(seq)]`, which will result either in an error or a different result.\n",
      "  return lambda g: g[idxs]\n"
     ]
    },
    {
     "name": "stdout",
     "output_type": "stream",
     "text": [
      "Fitting  hmm_rbf_recurrent_robust_ar_K14\n"
     ]
    },
    {
     "data": {
      "application/vnd.jupyter.widget-view+json": {
       "model_id": "a7fb078e54094b20a1d1d4c5734644f6",
       "version_major": 2,
       "version_minor": 0
      },
      "text/plain": [
       "A Jupyter Widget"
      ]
     },
     "metadata": {},
     "output_type": "display_data"
    },
    {
     "name": "stderr",
     "output_type": "stream",
     "text": [
      "/home/scott/Projects/autograd/autograd/numpy/numpy_vjps.py:448: FutureWarning: Using a non-tuple sequence for multidimensional indexing is deprecated; use `arr[tuple(seq)]` instead of `arr[seq]`. In the future this will be interpreted as an array index, `arr[np.array(seq)]`, which will result either in an error or a different result.\n",
      "  return lambda g: g[idxs]\n",
      "/home/scott/Projects/ssm/ssm/util.py:189: UserWarning: generalized_newton_studentst_dof fixed point grew beyond bounds [0.001,20].\n",
      "  \"bounds [{},{}].\".format(nu_min, nu_max))\n"
     ]
    }
   ],
   "source": [
    "hmm_results = {}\n",
    "for K in Ks:\n",
    "    for transitions in transitionss:\n",
    "        for observations in observationss:\n",
    "            hmm_results_name = \"hmm_{}_{}_K{}\".format(transitions, observations, K)\n",
    "            fit = cached(results_dir, hmm_results_name)(_fit_hmm)\n",
    "            \n",
    "            print(\"Fitting \", hmm_results_name)\n",
    "            hmm_results[hmm_results_name] = fit(K, transitions, observations)\n",
    "            \n",
    "with open(os.path.join(results_dir, \"hmm_results.pkl\"), \"wb\") as f:\n",
    "    pickle.dump(hmm_results, f)"
   ]
  },
  {
   "cell_type": "markdown",
   "metadata": {},
   "source": [
    "# Fit hierarchical HMMs"
   ]
  },
  {
   "cell_type": "code",
   "execution_count": 12,
   "metadata": {
    "collapsed": true
   },
   "outputs": [],
   "source": [
    "def _fit_hierarchical_hmm(K, transitions, observations, hmm, eta):\n",
    "    # Construct the HMM components\n",
    "    init_state_distn = InitialStateDistribution(K, D, M)\n",
    "\n",
    "    transition_classes = dict(standard=HierarchicalStationaryTransitions,\n",
    "                              recurrent=HierarchicalRecurrentTransitions,\n",
    "                              rbf_recurrent=HierarchicalRBFRecurrentTransitions)\n",
    "    transition_distn = transition_classes[transitions](K, D, M=M, tags=tuple(range(W)), eta=eta)\n",
    "    \n",
    "    observation_classes = dict(ar=HierarchicalAutoRegressiveObservations, \n",
    "                               robust_ar=HierarchicalRobustAutoRegressiveObservations)\n",
    "    observation_distn = observation_classes[observations](K, D, M=M, tags=tuple(range(W)), eta=eta)\n",
    "    \n",
    "    # Construct the HMM\n",
    "    hhmm = _HMM(K, D, M, init_state_distn, transition_distn, observation_distn)\n",
    "\n",
    "    # Initialize with the standard HMM\n",
    "    hhmm.init_state_distn.params = copy.deepcopy(hmm.init_state_distn.params)\n",
    "    hhmm.transitions.initialize_from_standard(hmm.transitions)\n",
    "    hhmm.observations.initialize_from_standard(hmm.observations)\n",
    "\n",
    "    # Fit\n",
    "    lps = hhmm.fit(train_xs, tags=train_tags, method=\"em\", num_em_iters=100, initialize=False)\n",
    "    \n",
    "    # Validate\n",
    "    val_ll = hhmm.log_likelihood(val_xs, tags=val_tags)\n",
    "    return hhmm, lps, val_ll"
   ]
  },
  {
   "cell_type": "code",
   "execution_count": 13,
   "metadata": {
    "scrolled": false
   },
   "outputs": [
    {
     "name": "stdout",
     "output_type": "stream",
     "text": [
      "Fitting  hhmm_standard_ar_K2_eta1e+08\n",
      "Fitting  hhmm_standard_robust_ar_K2_eta1e+08\n",
      "Fitting  hhmm_recurrent_ar_K2_eta1e+08\n",
      "Fitting  hhmm_recurrent_robust_ar_K2_eta1e+08\n",
      "Fitting  hhmm_standard_ar_K2_eta1e+00\n",
      "Fitting  hhmm_standard_robust_ar_K2_eta1e+00\n",
      "Fitting  hhmm_recurrent_ar_K2_eta1e+00\n",
      "Fitting  hhmm_recurrent_robust_ar_K2_eta1e+00\n",
      "Fitting  hhmm_standard_ar_K2_eta1e-01\n",
      "Fitting  hhmm_standard_robust_ar_K2_eta1e-01\n",
      "Fitting  hhmm_recurrent_ar_K2_eta1e-01\n",
      "Fitting  hhmm_recurrent_robust_ar_K2_eta1e-01\n",
      "Fitting  hhmm_standard_ar_K2_eta1e-02\n",
      "Fitting  hhmm_standard_robust_ar_K2_eta1e-02\n",
      "Fitting  hhmm_recurrent_ar_K2_eta1e-02\n",
      "Fitting  hhmm_recurrent_robust_ar_K2_eta1e-02\n",
      "Fitting  hhmm_standard_ar_K2_eta1e-03\n",
      "Fitting  hhmm_standard_robust_ar_K2_eta1e-03\n",
      "Fitting  hhmm_recurrent_ar_K2_eta1e-03\n",
      "Fitting  hhmm_recurrent_robust_ar_K2_eta1e-03\n",
      "Fitting  hhmm_standard_ar_K2_eta1e-04\n",
      "Fitting  hhmm_standard_robust_ar_K2_eta1e-04\n",
      "Fitting  hhmm_recurrent_ar_K2_eta1e-04\n",
      "Fitting  hhmm_recurrent_robust_ar_K2_eta1e-04\n",
      "Fitting  hhmm_standard_ar_K4_eta1e+08\n",
      "Fitting  hhmm_standard_robust_ar_K4_eta1e+08\n",
      "Fitting  hhmm_recurrent_ar_K4_eta1e+08\n",
      "Fitting  hhmm_recurrent_robust_ar_K4_eta1e+08\n",
      "Fitting  hhmm_standard_ar_K4_eta1e+00\n",
      "Fitting  hhmm_standard_robust_ar_K4_eta1e+00\n",
      "Fitting  hhmm_recurrent_ar_K4_eta1e+00\n",
      "Fitting  hhmm_recurrent_robust_ar_K4_eta1e+00\n",
      "Fitting  hhmm_standard_ar_K4_eta1e-01\n",
      "Fitting  hhmm_standard_robust_ar_K4_eta1e-01\n",
      "Fitting  hhmm_recurrent_ar_K4_eta1e-01\n",
      "Fitting  hhmm_recurrent_robust_ar_K4_eta1e-01\n",
      "Fitting  hhmm_standard_ar_K4_eta1e-02\n",
      "Fitting  hhmm_standard_robust_ar_K4_eta1e-02\n",
      "Fitting  hhmm_recurrent_ar_K4_eta1e-02\n",
      "Fitting  hhmm_recurrent_robust_ar_K4_eta1e-02\n",
      "Fitting  hhmm_standard_ar_K4_eta1e-03\n",
      "Fitting  hhmm_standard_robust_ar_K4_eta1e-03\n",
      "Fitting  hhmm_recurrent_ar_K4_eta1e-03\n",
      "Fitting  hhmm_recurrent_robust_ar_K4_eta1e-03\n",
      "Fitting  hhmm_standard_ar_K4_eta1e-04\n",
      "Fitting  hhmm_standard_robust_ar_K4_eta1e-04\n",
      "Fitting  hhmm_recurrent_ar_K4_eta1e-04\n",
      "Fitting  hhmm_recurrent_robust_ar_K4_eta1e-04\n",
      "Fitting  hhmm_standard_ar_K6_eta1e+08\n",
      "Fitting  hhmm_standard_robust_ar_K6_eta1e+08\n",
      "Fitting  hhmm_recurrent_ar_K6_eta1e+08\n",
      "Fitting  hhmm_recurrent_robust_ar_K6_eta1e+08\n",
      "Fitting  hhmm_standard_ar_K6_eta1e+00\n",
      "Fitting  hhmm_standard_robust_ar_K6_eta1e+00\n",
      "Fitting  hhmm_recurrent_ar_K6_eta1e+00\n",
      "Fitting  hhmm_recurrent_robust_ar_K6_eta1e+00\n",
      "Fitting  hhmm_standard_ar_K6_eta1e-01\n",
      "Fitting  hhmm_standard_robust_ar_K6_eta1e-01\n",
      "Fitting  hhmm_recurrent_ar_K6_eta1e-01\n",
      "Fitting  hhmm_recurrent_robust_ar_K6_eta1e-01\n",
      "Fitting  hhmm_standard_ar_K6_eta1e-02\n",
      "Fitting  hhmm_standard_robust_ar_K6_eta1e-02\n",
      "Fitting  hhmm_recurrent_ar_K6_eta1e-02\n",
      "Fitting  hhmm_recurrent_robust_ar_K6_eta1e-02\n",
      "Fitting  hhmm_standard_ar_K6_eta1e-03\n",
      "Fitting  hhmm_standard_robust_ar_K6_eta1e-03\n",
      "Fitting  hhmm_recurrent_ar_K6_eta1e-03\n",
      "Fitting  hhmm_recurrent_robust_ar_K6_eta1e-03\n",
      "Fitting  hhmm_standard_ar_K6_eta1e-04\n",
      "Fitting  hhmm_standard_robust_ar_K6_eta1e-04\n",
      "Fitting  hhmm_recurrent_ar_K6_eta1e-04\n",
      "Fitting  hhmm_recurrent_robust_ar_K6_eta1e-04\n",
      "Fitting  hhmm_standard_ar_K8_eta1e+08\n",
      "Fitting  hhmm_standard_robust_ar_K8_eta1e+08\n",
      "Fitting  hhmm_recurrent_ar_K8_eta1e+08\n",
      "Fitting  hhmm_recurrent_robust_ar_K8_eta1e+08\n",
      "Fitting  hhmm_standard_ar_K8_eta1e+00\n",
      "Fitting  hhmm_standard_robust_ar_K8_eta1e+00\n",
      "Fitting  hhmm_recurrent_ar_K8_eta1e+00\n",
      "Fitting  hhmm_recurrent_robust_ar_K8_eta1e+00\n",
      "Fitting  hhmm_standard_ar_K8_eta1e-01\n",
      "Fitting  hhmm_standard_robust_ar_K8_eta1e-01\n",
      "Fitting  hhmm_recurrent_ar_K8_eta1e-01\n",
      "Fitting  hhmm_recurrent_robust_ar_K8_eta1e-01\n",
      "Fitting  hhmm_standard_ar_K8_eta1e-02\n",
      "Fitting  hhmm_standard_robust_ar_K8_eta1e-02\n",
      "Fitting  hhmm_recurrent_ar_K8_eta1e-02\n",
      "Fitting  hhmm_recurrent_robust_ar_K8_eta1e-02\n",
      "Fitting  hhmm_standard_ar_K8_eta1e-03\n",
      "Fitting  hhmm_standard_robust_ar_K8_eta1e-03\n",
      "Fitting  hhmm_recurrent_ar_K8_eta1e-03\n",
      "Fitting  hhmm_recurrent_robust_ar_K8_eta1e-03\n",
      "Fitting  hhmm_standard_ar_K8_eta1e-04\n",
      "Fitting  hhmm_standard_robust_ar_K8_eta1e-04\n",
      "Fitting  hhmm_recurrent_ar_K8_eta1e-04\n",
      "Fitting  hhmm_recurrent_robust_ar_K8_eta1e-04\n",
      "Fitting  hhmm_standard_ar_K10_eta1e+08\n",
      "Fitting  hhmm_standard_robust_ar_K10_eta1e+08\n",
      "Fitting  hhmm_recurrent_ar_K10_eta1e+08\n",
      "Fitting  hhmm_recurrent_robust_ar_K10_eta1e+08\n",
      "Fitting  hhmm_standard_ar_K10_eta1e+00\n",
      "Fitting  hhmm_standard_robust_ar_K10_eta1e+00\n",
      "Fitting  hhmm_recurrent_ar_K10_eta1e+00\n",
      "Fitting  hhmm_recurrent_robust_ar_K10_eta1e+00\n",
      "Fitting  hhmm_standard_ar_K10_eta1e-01\n",
      "Fitting  hhmm_standard_robust_ar_K10_eta1e-01\n",
      "Fitting  hhmm_recurrent_ar_K10_eta1e-01\n",
      "Fitting  hhmm_recurrent_robust_ar_K10_eta1e-01\n",
      "Fitting  hhmm_standard_ar_K10_eta1e-02\n",
      "Fitting  hhmm_standard_robust_ar_K10_eta1e-02\n",
      "Fitting  hhmm_recurrent_ar_K10_eta1e-02\n",
      "Fitting  hhmm_recurrent_robust_ar_K10_eta1e-02\n",
      "Fitting  hhmm_standard_ar_K10_eta1e-03\n",
      "Fitting  hhmm_standard_robust_ar_K10_eta1e-03\n",
      "Fitting  hhmm_recurrent_ar_K10_eta1e-03\n",
      "Fitting  hhmm_recurrent_robust_ar_K10_eta1e-03\n",
      "Fitting  hhmm_standard_ar_K10_eta1e-04\n",
      "Fitting  hhmm_standard_robust_ar_K10_eta1e-04\n",
      "Fitting  hhmm_recurrent_ar_K10_eta1e-04\n",
      "Fitting  hhmm_recurrent_robust_ar_K10_eta1e-04\n",
      "Fitting  hhmm_standard_ar_K12_eta1e+08\n",
      "Fitting  hhmm_standard_robust_ar_K12_eta1e+08\n",
      "Fitting  hhmm_recurrent_ar_K12_eta1e+08\n",
      "Fitting  hhmm_recurrent_robust_ar_K12_eta1e+08\n",
      "Fitting  hhmm_standard_ar_K12_eta1e+00\n",
      "Fitting  hhmm_standard_robust_ar_K12_eta1e+00\n",
      "Fitting  hhmm_recurrent_ar_K12_eta1e+00\n",
      "Fitting  hhmm_recurrent_robust_ar_K12_eta1e+00\n",
      "Fitting  hhmm_standard_ar_K12_eta1e-01\n",
      "Fitting  hhmm_standard_robust_ar_K12_eta1e-01\n",
      "Fitting  hhmm_recurrent_ar_K12_eta1e-01\n",
      "Fitting  hhmm_recurrent_robust_ar_K12_eta1e-01\n",
      "Fitting  hhmm_standard_ar_K12_eta1e-02\n",
      "Fitting  hhmm_standard_robust_ar_K12_eta1e-02\n",
      "Fitting  hhmm_recurrent_ar_K12_eta1e-02\n",
      "Fitting  hhmm_recurrent_robust_ar_K12_eta1e-02\n",
      "Fitting  hhmm_standard_ar_K12_eta1e-03\n",
      "Fitting  hhmm_standard_robust_ar_K12_eta1e-03\n",
      "Fitting  hhmm_recurrent_ar_K12_eta1e-03\n",
      "Fitting  hhmm_recurrent_robust_ar_K12_eta1e-03\n",
      "Fitting  hhmm_standard_ar_K12_eta1e-04\n",
      "Fitting  hhmm_standard_robust_ar_K12_eta1e-04\n",
      "Fitting  hhmm_recurrent_ar_K12_eta1e-04\n",
      "Fitting  hhmm_recurrent_robust_ar_K12_eta1e-04\n",
      "Fitting  hhmm_standard_ar_K14_eta1e+08\n",
      "Fitting  hhmm_standard_robust_ar_K14_eta1e+08\n",
      "Fitting  hhmm_recurrent_ar_K14_eta1e+08\n",
      "Fitting  hhmm_recurrent_robust_ar_K14_eta1e+08\n",
      "Fitting  hhmm_standard_ar_K14_eta1e+00\n",
      "Fitting  hhmm_standard_robust_ar_K14_eta1e+00\n",
      "Fitting  hhmm_recurrent_ar_K14_eta1e+00\n",
      "Fitting  hhmm_recurrent_robust_ar_K14_eta1e+00\n",
      "Fitting  hhmm_standard_ar_K14_eta1e-01\n",
      "Fitting  hhmm_standard_robust_ar_K14_eta1e-01\n",
      "Fitting  hhmm_recurrent_ar_K14_eta1e-01\n",
      "Fitting  hhmm_recurrent_robust_ar_K14_eta1e-01\n",
      "Fitting  hhmm_standard_ar_K14_eta1e-02\n",
      "Fitting  hhmm_standard_robust_ar_K14_eta1e-02\n",
      "Fitting  hhmm_recurrent_ar_K14_eta1e-02\n",
      "Fitting  hhmm_recurrent_robust_ar_K14_eta1e-02\n",
      "Fitting  hhmm_standard_ar_K14_eta1e-03\n",
      "Fitting  hhmm_standard_robust_ar_K14_eta1e-03\n",
      "Fitting  hhmm_recurrent_ar_K14_eta1e-03\n",
      "Fitting  hhmm_recurrent_robust_ar_K14_eta1e-03\n",
      "Fitting  hhmm_standard_ar_K14_eta1e-04\n",
      "Fitting  hhmm_standard_robust_ar_K14_eta1e-04\n",
      "Fitting  hhmm_recurrent_ar_K14_eta1e-04\n",
      "Fitting  hhmm_recurrent_robust_ar_K14_eta1e-04\n",
      "Fitting  hhmm_standard_ar_K16_eta1e+08\n",
      "Fitting  hhmm_standard_robust_ar_K16_eta1e+08\n",
      "Fitting  hhmm_recurrent_ar_K16_eta1e+08\n",
      "Fitting  hhmm_recurrent_robust_ar_K16_eta1e+08\n",
      "Fitting  hhmm_standard_ar_K16_eta1e+00\n",
      "Fitting  hhmm_standard_robust_ar_K16_eta1e+00\n",
      "Fitting  hhmm_recurrent_ar_K16_eta1e+00\n",
      "Fitting  hhmm_recurrent_robust_ar_K16_eta1e+00\n",
      "Fitting  hhmm_standard_ar_K16_eta1e-01\n",
      "Fitting  hhmm_standard_robust_ar_K16_eta1e-01\n",
      "Fitting  hhmm_recurrent_ar_K16_eta1e-01\n",
      "Fitting  hhmm_recurrent_robust_ar_K16_eta1e-01\n",
      "Fitting  hhmm_standard_ar_K16_eta1e-02\n",
      "Fitting  hhmm_standard_robust_ar_K16_eta1e-02\n",
      "Fitting  hhmm_recurrent_ar_K16_eta1e-02\n",
      "Fitting  hhmm_recurrent_robust_ar_K16_eta1e-02\n",
      "Fitting  hhmm_standard_ar_K16_eta1e-03\n",
      "Fitting  hhmm_standard_robust_ar_K16_eta1e-03\n",
      "Fitting  hhmm_recurrent_ar_K16_eta1e-03\n",
      "Fitting  hhmm_recurrent_robust_ar_K16_eta1e-03\n",
      "Fitting  hhmm_standard_ar_K16_eta1e-04\n",
      "Fitting  hhmm_standard_robust_ar_K16_eta1e-04\n",
      "Fitting  hhmm_recurrent_ar_K16_eta1e-04\n",
      "Fitting  hhmm_recurrent_robust_ar_K16_eta1e-04\n",
      "Fitting  hhmm_standard_ar_K18_eta1e+08\n",
      "Fitting  hhmm_standard_robust_ar_K18_eta1e+08\n",
      "Fitting  hhmm_recurrent_ar_K18_eta1e+08\n",
      "Fitting  hhmm_recurrent_robust_ar_K18_eta1e+08\n",
      "Fitting  hhmm_standard_ar_K18_eta1e+00\n",
      "Fitting  hhmm_standard_robust_ar_K18_eta1e+00\n",
      "Fitting  hhmm_recurrent_ar_K18_eta1e+00\n",
      "Fitting  hhmm_recurrent_robust_ar_K18_eta1e+00\n",
      "Fitting  hhmm_standard_ar_K18_eta1e-01\n",
      "Fitting  hhmm_standard_robust_ar_K18_eta1e-01\n",
      "Fitting  hhmm_recurrent_ar_K18_eta1e-01\n",
      "Fitting  hhmm_recurrent_robust_ar_K18_eta1e-01\n",
      "Fitting  hhmm_standard_ar_K18_eta1e-02\n",
      "Fitting  hhmm_standard_robust_ar_K18_eta1e-02\n",
      "Fitting  hhmm_recurrent_ar_K18_eta1e-02\n",
      "Fitting  hhmm_recurrent_robust_ar_K18_eta1e-02\n",
      "Fitting  hhmm_standard_ar_K18_eta1e-03\n",
      "Fitting  hhmm_standard_robust_ar_K18_eta1e-03\n",
      "Fitting  hhmm_recurrent_ar_K18_eta1e-03\n",
      "Fitting  hhmm_recurrent_robust_ar_K18_eta1e-03\n",
      "Fitting  hhmm_standard_ar_K18_eta1e-04\n",
      "Fitting  hhmm_standard_robust_ar_K18_eta1e-04\n",
      "Fitting  hhmm_recurrent_ar_K18_eta1e-04\n",
      "Fitting  hhmm_recurrent_robust_ar_K18_eta1e-04\n",
      "Fitting  hhmm_standard_ar_K20_eta1e+08\n",
      "Fitting  hhmm_standard_robust_ar_K20_eta1e+08\n",
      "Fitting  hhmm_recurrent_ar_K20_eta1e+08\n",
      "Fitting  hhmm_recurrent_robust_ar_K20_eta1e+08\n",
      "Fitting  hhmm_standard_ar_K20_eta1e+00\n",
      "Fitting  hhmm_standard_robust_ar_K20_eta1e+00\n",
      "Fitting  hhmm_recurrent_ar_K20_eta1e+00\n",
      "Fitting  hhmm_recurrent_robust_ar_K20_eta1e+00\n",
      "Fitting  hhmm_standard_ar_K20_eta1e-01\n",
      "Fitting  hhmm_standard_robust_ar_K20_eta1e-01\n",
      "Fitting  hhmm_recurrent_ar_K20_eta1e-01\n",
      "Fitting  hhmm_recurrent_robust_ar_K20_eta1e-01\n",
      "Fitting  hhmm_standard_ar_K20_eta1e-02\n",
      "Fitting  hhmm_standard_robust_ar_K20_eta1e-02\n",
      "Fitting  hhmm_recurrent_ar_K20_eta1e-02\n",
      "Fitting  hhmm_recurrent_robust_ar_K20_eta1e-02\n",
      "Fitting  hhmm_standard_ar_K20_eta1e-03\n",
      "Fitting  hhmm_standard_robust_ar_K20_eta1e-03\n",
      "Fitting  hhmm_recurrent_ar_K20_eta1e-03\n",
      "Fitting  hhmm_recurrent_robust_ar_K20_eta1e-03\n",
      "Fitting  hhmm_standard_ar_K20_eta1e-04\n",
      "Fitting  hhmm_standard_robust_ar_K20_eta1e-04\n",
      "Fitting  hhmm_recurrent_ar_K20_eta1e-04\n",
      "Fitting  hhmm_recurrent_robust_ar_K20_eta1e-04\n"
     ]
    }
   ],
   "source": [
    "hhmm_results = {}\n",
    "for K in Ks:\n",
    "    for eta in etas:\n",
    "        for transitions in transitionss:\n",
    "            for observations in observationss:\n",
    "                # Get the HMM results\n",
    "                hmm_results_name = \"hmm_{}_{}_K{}\".format(transitions, observations, K)\n",
    "                hmm, _, _ = hmm_results[hmm_results_name]\n",
    "\n",
    "                # Fit the Hierarchical HMM\n",
    "                hhmm_results_name = \"hhmm_{}_{}_K{}_eta{:1.0e}\".format(transitions, observations, K, eta)\n",
    "                fit = cached(results_dir, hhmm_results_name)(_fit_hierarchical_hmm)\n",
    "                print(\"Fitting \", hhmm_results_name)\n",
    "                hhmm_results[hhmm_results_name] = fit(K, transitions, observations, hmm, eta)\n",
    "            \n",
    "with open(os.path.join(results_dir, \"hhmm_results.pkl\"), \"wb\") as f:\n",
    "    pickle.dump(hhmm_results, f)"
   ]
  },
  {
   "cell_type": "code",
   "execution_count": 14,
   "metadata": {},
   "outputs": [
    {
     "data": {
      "text/plain": [
       "<matplotlib.legend.Legend at 0x7f46a4f353c8>"
      ]
     },
     "execution_count": 14,
     "metadata": {},
     "output_type": "execute_result"
    },
    {
     "data": {
      "image/png": "[encoded data removed]",
      "text/plain": [
       "<matplotlib.figure.Figure at 0x7f46a506ba20>"
      ]
     },
     "metadata": {},
     "output_type": "display_data"
    }
   ],
   "source": [
    "# Plot train and validation likelihoods\n",
    "plt.figure(figsize=(6, 3))\n",
    "for transitions in transitionss:\n",
    "    for observations in observationss:\n",
    "        hmm_results_prefix = \"hmm_{}_{}_\".format(transitions, observations)\n",
    "        hmm_train_lls = [hmm_results[hmm_results_prefix + \"K{}\".format(K)][1][-1] for K in Ks]\n",
    "        plt.plot(Ks, hmm_train_lls, '-o', label=hmm_results_prefix)\n",
    "        \n",
    "        for eta in etas:\n",
    "            hhmm_results_prefix = \"hhmm_{}_{}_\".format(transitions, observations)\n",
    "            hhmm_train_lls = [hhmm_results[hhmm_results_prefix + \"K{}_eta{:1.0e}\".format(K, eta)][1][-1] for K in Ks]\n",
    "            plt.plot(Ks, hhmm_train_lls, '-o', label=hhmm_results_prefix)\n",
    "        \n",
    "plt.xlabel(\"K\")\n",
    "plt.xticks(Ks)\n",
    "plt.ylabel(\"Training Log Prob (with prior) \")\n",
    "plt.legend()"
   ]
  },
  {
   "cell_type": "code",
   "execution_count": 15,
   "metadata": {},
   "outputs": [
    {
     "name": "stderr",
     "output_type": "stream",
     "text": [
      "/home/scott/anaconda3/lib/python3.6/site-packages/matplotlib/cbook/deprecation.py:106: MatplotlibDeprecationWarning: Adding an axes using the same arguments as a previous axes currently reuses the earlier instance.  In a future version, a new instance will always be created and returned.  Meanwhile, this warning can be suppressed, and the future behavior ensured, by passing a unique label to each axes instance.\n",
      "  warnings.warn(message, mplDeprecation, stacklevel=1)\n"
     ]
    },
    {
     "data": {
      "image/png": "[encoded data removed]",
      "text/plain": [
       "<matplotlib.figure.Figure at 0x7f46a5365860>"
      ]
     },
     "metadata": {},
     "output_type": "display_data"
    }
   ],
   "source": [
    "# Plot train and validation likelihoods\n",
    "\n",
    "# num_bars = len(transitions) * len(observations)\n",
    "\n",
    "plt.figure(figsize=(12, 4))\n",
    "for transitions in transitionss:\n",
    "    for observations in observationss:\n",
    "        for i, eta in enumerate(etas):\n",
    "            plt.subplot(1, 1 + len(etas), 1 + i)\n",
    "            hhmm_results_prefix = \"hhmm_{}_{}_\".format(transitions, observations)\n",
    "            hhmm_val_lls = [hhmm_results[hhmm_results_prefix + \"K{}_eta{:1.0e}\".format(K, eta)][2] for K in Ks]\n",
    "            plt.plot(Ks, hhmm_val_lls, '-o', label=transitions + \" \" + observations)\n",
    "            plt.title(\"eta = {:1.0e}\".format(eta))\n",
    "\n",
    "        plt.subplot(1, 1 + len(etas), len(etas) + 1)\n",
    "        hmm_results_prefix = \"hmm_{}_{}_\".format(transitions, observations)\n",
    "        hmm_val_lls = [hmm_results[hmm_results_prefix + \"K{}\".format(K)][2] for K in Ks]\n",
    "        plt.plot(Ks, hmm_val_lls, '-o', label=transitions + \" \" + observations)\n",
    "        plt.title(\"eta = 0\")\n",
    "\n",
    "for i in range(1 + len(etas)):\n",
    "    plt.subplot(1, 1+len(etas), i+1)\n",
    "    plt.xlabel(\"K\")\n",
    "    plt.xticks(Ks)\n",
    "    plt.ylim(43000, 49000)\n",
    "    if i == 0:\n",
    "        plt.ylabel(\"Validation LL\")\n",
    "        plt.legend()\n",
    "    else:\n",
    "        plt.yticks([])\n",
    "            "
   ]
  },
  {
   "cell_type": "markdown",
   "metadata": {},
   "source": [
    "# Fit the HHMM to the full train and validation data"
   ]
  },
  {
   "cell_type": "code",
   "execution_count": 16,
   "metadata": {
    "collapsed": true
   },
   "outputs": [],
   "source": [
    "def _fit_to_all_data(model):\n",
    "    lps = model.fit(train_xs + val_xs, tags=train_tags + val_tags, method=\"em\", num_em_iters=100, initialize=False)\n",
    "    return model, lps"
   ]
  },
  {
   "cell_type": "code",
   "execution_count": 17,
   "metadata": {},
   "outputs": [
    {
     "name": "stdout",
     "output_type": "stream",
     "text": [
      "Fitting  best_hmm_standard_ar  with K =  18\n",
      "Fitting  best_hmm_standard_robust_ar  with K =  18\n",
      "Fitting  best_hmm_recurrent_ar  with K =  18\n",
      "Fitting  best_hmm_recurrent_robust_ar  with K =  14\n",
      "Fitting  best_hhmm_standard_ar  with K =  8  and eta = 1e-04\n",
      "Fitting  best_hhmm_standard_robust_ar  with K =  8  and eta = 1e-01\n",
      "Fitting  best_hhmm_recurrent_ar  with K =  8  and eta = 1e-04\n",
      "Fitting  best_hhmm_recurrent_robust_ar  with K =  8  and eta = 1e-01\n"
     ]
    }
   ],
   "source": [
    "# Fit the HMMs\n",
    "best_results = {}\n",
    "\n",
    "best_etas = {(\"standard\", \"ar\") : 1e-4,\n",
    "             (\"standard\", \"robust_ar\") : 1e-1,\n",
    "             (\"recurrent\", \"ar\") : 1e-4,\n",
    "             (\"recurrent\", \"robust_ar\") : 1e-1,}\n",
    "\n",
    "for transitions in transitionss:\n",
    "    for observations in observationss:\n",
    "        hmm_results_prefix = \"hmm_{}_{}\".format(transitions, observations)\n",
    "        hmm_val_lls = [hmm_results[hmm_results_prefix + \"_K{}\".format(K)][2] for K in Ks]\n",
    "        best_K = Ks[np.argmax(hmm_val_lls)]\n",
    "        \n",
    "        # Fit the best model    \n",
    "        results_name = \"best_\" + hmm_results_prefix\n",
    "        print(\"Fitting \", results_name, \" with K = \", best_K)\n",
    "        fit = cached(results_dir, results_name)(_fit_to_all_data)\n",
    "        hmm, _ = fit(hmm_results[hmm_results_prefix + \"_K{}\".format(best_K)][0])\n",
    "        \n",
    "        # Compute the log likelihood of the test data\n",
    "        test_ll = hmm.log_likelihood(test_xs, tags=test_tags)\n",
    "        best_results[results_name] = (hmm, test_ll)\n",
    "        \n",
    "# Fit the HHMMs\n",
    "for transitions in transitionss:\n",
    "    for observations in observationss:\n",
    "        # Fit only with the best eta\n",
    "        eta = best_etas[(transitions, observations)]\n",
    "        \n",
    "        hhmm_results_prefix = \"hhmm_{}_{}\".format(transitions, observations)\n",
    "        hhmm_val_lls = [hhmm_results[hhmm_results_prefix + \"_K{}_eta{:1.0e}\".format(K, eta)][2] for K in Ks]\n",
    "        best_K = Ks[np.argmax(hhmm_val_lls)]\n",
    "\n",
    "        # Fit the best model    \n",
    "        results_name = \"best_\" + hhmm_results_prefix\n",
    "        print(\"Fitting \", results_name, \" with K = \", best_K, \" and eta = {:1.0e}\".format(eta))\n",
    "        fit = cached(results_dir, results_name)(_fit_to_all_data)\n",
    "        hhmm, _ = fit(hhmm_results[hhmm_results_prefix + \"_K{}_eta{:1.0e}\".format(best_K, eta)][0])\n",
    "\n",
    "        # Compute the log likelihood of the test data\n",
    "        test_ll = hhmm.log_likelihood(test_xs, tags=test_tags)\n",
    "        best_results[results_name] = (hhmm, test_ll)\n",
    "\n",
    "with open(os.path.join(results_dir, \"best_results.pkl\"), \"wb\") as f:\n",
    "    pickle.dump(best_results, f)"
   ]
  },
  {
   "cell_type": "code",
   "execution_count": 18,
   "metadata": {},
   "outputs": [
    {
     "name": "stderr",
     "output_type": "stream",
     "text": [
      "/home/scott/anaconda3/lib/python3.6/site-packages/matplotlib/cbook/deprecation.py:106: MatplotlibDeprecationWarning: Adding an axes using the same arguments as a previous axes currently reuses the earlier instance.  In a future version, a new instance will always be created and returned.  Meanwhile, this warning can be suppressed, and the future behavior ensured, by passing a unique label to each axes instance.\n",
      "  warnings.warn(message, mplDeprecation, stacklevel=1)\n"
     ]
    },
    {
     "data": {
      "text/plain": [
       "<matplotlib.legend.Legend at 0x7f46a3c78a90>"
      ]
     },
     "execution_count": 18,
     "metadata": {},
     "output_type": "execute_result"
    },
    {
     "data": {
      "image/png": "[encoded data removed]",
      "text/plain": [
       "<matplotlib.figure.Figure at 0x7f46a3c1e2b0>"
      ]
     },
     "metadata": {},
     "output_type": "display_data"
    }
   ],
   "source": [
    "# Plot test likelihoods\n",
    "\n",
    "plt.figure(figsize=(12, 6))\n",
    "i = 0\n",
    "for transitions in transitionss:\n",
    "    for observations in observationss:\n",
    "        plt.subplot(1, 2, 1)\n",
    "        hhmm_results_prefix = \"best_hhmm_{}_{}\".format(transitions, observations)\n",
    "        plt.bar(i, best_results[hhmm_results_prefix][1], label=hhmm_results_prefix)\n",
    "        plt.ylim(45000, 47000)\n",
    "        plt.ylabel(\"Test LL\")\n",
    "        \n",
    "        plt.subplot(1, 2, 2)\n",
    "        hmm_results_prefix = \"best_hmm_{}_{}\".format(transitions, observations)\n",
    "        plt.bar(i, best_results[hmm_results_prefix][1], label=hmm_results_prefix)\n",
    "        plt.ylim(45000, 47000)\n",
    "        plt.yticks([])\n",
    "        \n",
    "        i += 1\n",
    "\n",
    "plt.subplot(1, 2, 1)\n",
    "plt.legend()"
   ]
  },
  {
   "cell_type": "markdown",
   "metadata": {},
   "source": [
    "# Simulate from the model"
   ]
  },
  {
   "cell_type": "code",
   "execution_count": 19,
   "metadata": {
    "collapsed": true
   },
   "outputs": [],
   "source": [
    "def simulate_model(name, model, pad=3, N_smpls=20):\n",
    "    # Get the inferred states\n",
    "    z_infs = [model.most_likely_states(x, tag=tag) for tag, x in enumerate(xs)]\n",
    "    model.permute(find_permutation(np.concatenate(z_trues), np.concatenate(z_infs)))\n",
    "    z_infs = [model.most_likely_states(x, tag=tag) for tag, x in enumerate(xs)]\n",
    "    \n",
    "    # Lower the noise\n",
    "    model_low_noise = copy.deepcopy(model)\n",
    "    model_low_noise.observations.inv_sigmas -= 4\n",
    "    \n",
    "    simulations = []\n",
    "\n",
    "    for w in range(W):\n",
    "        # Simulate N_smpls for this worm\n",
    "        model_simulations_w = []\n",
    "        for s in range(N_smpls):\n",
    "            print(\"Model \", name, \" Worm \", w, \" sample \", s)\n",
    "            # Sample data\n",
    "            Tsmpl = Ts[w]\n",
    "            zpre, xpre = z_infs[w][-pad:], xs[w][-pad:]\n",
    "            zsmpl, xsmpl = model_low_noise.sample(Tsmpl, prefix=(zpre, xpre), tag=w, with_noise=True)\n",
    "\n",
    "            zsmpl = np.concatenate((zpre, zsmpl))\n",
    "            xsmpl = np.concatenate((xpre, xsmpl))\n",
    "\n",
    "            # Truncate to stable region\n",
    "            unstable = np.arange(Tsmpl+pad)[np.any(abs(xsmpl) > 5, axis=1)]\n",
    "            T_stable = np.min(np.concatenate(([Tsmpl+pad], unstable)))\n",
    "            zsmpl = zsmpl[:T_stable]\n",
    "            xsmpl = xsmpl[:T_stable]\n",
    "\n",
    "            # Project into neural space\n",
    "            ysmpl = xsmpl.dot(pca.components_) + pca.mean_\n",
    "\n",
    "            # Append\n",
    "            model_simulations_w.append((zsmpl, xsmpl, ysmpl))\n",
    "            \n",
    "        # Append this worm\n",
    "        simulations.append(model_simulations_w)\n",
    "        \n",
    "    return simulations"
   ]
  },
  {
   "cell_type": "code",
   "execution_count": 20,
   "metadata": {
    "scrolled": false
   },
   "outputs": [
    {
     "name": "stdout",
     "output_type": "stream",
     "text": [
      "Simulating  best_hmm_standard_ar\n",
      "Model  best_hmm_standard_ar  Worm  0  sample  0\n",
      "Model  best_hmm_standard_ar  Worm  0  sample  1\n",
      "Model  best_hmm_standard_ar  Worm  0  sample  2\n",
      "Model  best_hmm_standard_ar  Worm  0  sample  3\n",
      "Model  best_hmm_standard_ar  Worm  0  sample  4\n",
      "Model  best_hmm_standard_ar  Worm  0  sample  5\n",
      "Model  best_hmm_standard_ar  Worm  0  sample  6\n",
      "Model  best_hmm_standard_ar  Worm  0  sample  7\n",
      "Model  best_hmm_standard_ar  Worm  0  sample  8\n",
      "Model  best_hmm_standard_ar  Worm  0  sample  9\n",
      "Model  best_hmm_standard_ar  Worm  0  sample  10\n",
      "Model  best_hmm_standard_ar  Worm  0  sample  11\n",
      "Model  best_hmm_standard_ar  Worm  0  sample  12\n",
      "Model  best_hmm_standard_ar  Worm  0  sample  13\n",
      "Model  best_hmm_standard_ar  Worm  0  sample  14\n",
      "Model  best_hmm_standard_ar  Worm  0  sample  15\n",
      "Model  best_hmm_standard_ar  Worm  0  sample  16\n",
      "Model  best_hmm_standard_ar  Worm  0  sample  17\n",
      "Model  best_hmm_standard_ar  Worm  0  sample  18\n",
      "Model  best_hmm_standard_ar  Worm  0  sample  19\n",
      "Model  best_hmm_standard_ar  Worm  1  sample  0\n",
      "Model  best_hmm_standard_ar  Worm  1  sample  1\n",
      "Model  best_hmm_standard_ar  Worm  1  sample  2\n",
      "Model  best_hmm_standard_ar  Worm  1  sample  3\n",
      "Model  best_hmm_standard_ar  Worm  1  sample  4\n",
      "Model  best_hmm_standard_ar  Worm  1  sample  5\n",
      "Model  best_hmm_standard_ar  Worm  1  sample  6\n",
      "Model  best_hmm_standard_ar  Worm  1  sample  7\n",
      "Model  best_hmm_standard_ar  Worm  1  sample  8\n",
      "Model  best_hmm_standard_ar  Worm  1  sample  9\n",
      "Model  best_hmm_standard_ar  Worm  1  sample  10\n",
      "Model  best_hmm_standard_ar  Worm  1  sample  11\n",
      "Model  best_hmm_standard_ar  Worm  1  sample  12\n",
      "Model  best_hmm_standard_ar  Worm  1  sample  13\n",
      "Model  best_hmm_standard_ar  Worm  1  sample  14\n",
      "Model  best_hmm_standard_ar  Worm  1  sample  15\n",
      "Model  best_hmm_standard_ar  Worm  1  sample  16\n",
      "Model  best_hmm_standard_ar  Worm  1  sample  17\n",
      "Model  best_hmm_standard_ar  Worm  1  sample  18\n",
      "Model  best_hmm_standard_ar  Worm  1  sample  19\n",
      "Model  best_hmm_standard_ar  Worm  2  sample  0\n",
      "Model  best_hmm_standard_ar  Worm  2  sample  1\n",
      "Model  best_hmm_standard_ar  Worm  2  sample  2\n",
      "Model  best_hmm_standard_ar  Worm  2  sample  3\n",
      "Model  best_hmm_standard_ar  Worm  2  sample  4\n",
      "Model  best_hmm_standard_ar  Worm  2  sample  5\n",
      "Model  best_hmm_standard_ar  Worm  2  sample  6\n",
      "Model  best_hmm_standard_ar  Worm  2  sample  7\n",
      "Model  best_hmm_standard_ar  Worm  2  sample  8\n",
      "Model  best_hmm_standard_ar  Worm  2  sample  9\n",
      "Model  best_hmm_standard_ar  Worm  2  sample  10\n",
      "Model  best_hmm_standard_ar  Worm  2  sample  11\n",
      "Model  best_hmm_standard_ar  Worm  2  sample  12\n",
      "Model  best_hmm_standard_ar  Worm  2  sample  13\n",
      "Model  best_hmm_standard_ar  Worm  2  sample  14\n",
      "Model  best_hmm_standard_ar  Worm  2  sample  15\n",
      "Model  best_hmm_standard_ar  Worm  2  sample  16\n",
      "Model  best_hmm_standard_ar  Worm  2  sample  17\n",
      "Model  best_hmm_standard_ar  Worm  2  sample  18\n",
      "Model  best_hmm_standard_ar  Worm  2  sample  19\n",
      "Model  best_hmm_standard_ar  Worm  3  sample  0\n",
      "Model  best_hmm_standard_ar  Worm  3  sample  1\n",
      "Model  best_hmm_standard_ar  Worm  3  sample  2\n",
      "Model  best_hmm_standard_ar  Worm  3  sample  3\n",
      "Model  best_hmm_standard_ar  Worm  3  sample  4\n",
      "Model  best_hmm_standard_ar  Worm  3  sample  5\n",
      "Model  best_hmm_standard_ar  Worm  3  sample  6\n",
      "Model  best_hmm_standard_ar  Worm  3  sample  7\n",
      "Model  best_hmm_standard_ar  Worm  3  sample  8\n",
      "Model  best_hmm_standard_ar  Worm  3  sample  9\n",
      "Model  best_hmm_standard_ar  Worm  3  sample  10\n",
      "Model  best_hmm_standard_ar  Worm  3  sample  11\n",
      "Model  best_hmm_standard_ar  Worm  3  sample  12\n",
      "Model  best_hmm_standard_ar  Worm  3  sample  13\n",
      "Model  best_hmm_standard_ar  Worm  3  sample  14\n",
      "Model  best_hmm_standard_ar  Worm  3  sample  15\n",
      "Model  best_hmm_standard_ar  Worm  3  sample  16\n",
      "Model  best_hmm_standard_ar  Worm  3  sample  17\n",
      "Model  best_hmm_standard_ar  Worm  3  sample  18\n",
      "Model  best_hmm_standard_ar  Worm  3  sample  19\n",
      "Model  best_hmm_standard_ar  Worm  4  sample  0\n",
      "Model  best_hmm_standard_ar  Worm  4  sample  1\n",
      "Model  best_hmm_standard_ar  Worm  4  sample  2\n",
      "Model  best_hmm_standard_ar  Worm  4  sample  3\n",
      "Model  best_hmm_standard_ar  Worm  4  sample  4\n",
      "Model  best_hmm_standard_ar  Worm  4  sample  5\n",
      "Model  best_hmm_standard_ar  Worm  4  sample  6\n",
      "Model  best_hmm_standard_ar  Worm  4  sample  7\n",
      "Model  best_hmm_standard_ar  Worm  4  sample  8\n",
      "Model  best_hmm_standard_ar  Worm  4  sample  9\n",
      "Model  best_hmm_standard_ar  Worm  4  sample  10\n",
      "Model  best_hmm_standard_ar  Worm  4  sample  11\n",
      "Model  best_hmm_standard_ar  Worm  4  sample  12\n",
      "Model  best_hmm_standard_ar  Worm  4  sample  13\n",
      "Model  best_hmm_standard_ar  Worm  4  sample  14\n",
      "Model  best_hmm_standard_ar  Worm  4  sample  15\n",
      "Model  best_hmm_standard_ar  Worm  4  sample  16\n",
      "Model  best_hmm_standard_ar  Worm  4  sample  17\n",
      "Model  best_hmm_standard_ar  Worm  4  sample  18\n",
      "Model  best_hmm_standard_ar  Worm  4  sample  19\n",
      "Simulating  best_hmm_standard_robust_ar\n",
      "Model  best_hmm_standard_robust_ar  Worm  0  sample  0\n",
      "Model  best_hmm_standard_robust_ar  Worm  0  sample  1\n",
      "Model  best_hmm_standard_robust_ar  Worm  0  sample  2\n",
      "Model  best_hmm_standard_robust_ar  Worm  0  sample  3\n",
      "Model  best_hmm_standard_robust_ar  Worm  0  sample  4\n",
      "Model  best_hmm_standard_robust_ar  Worm  0  sample  5\n",
      "Model  best_hmm_standard_robust_ar  Worm  0  sample  6\n",
      "Model  best_hmm_standard_robust_ar  Worm  0  sample  7\n",
      "Model  best_hmm_standard_robust_ar  Worm  0  sample  8\n",
      "Model  best_hmm_standard_robust_ar  Worm  0  sample  9\n",
      "Model  best_hmm_standard_robust_ar  Worm  0  sample  10\n",
      "Model  best_hmm_standard_robust_ar  Worm  0  sample  11\n",
      "Model  best_hmm_standard_robust_ar  Worm  0  sample  12\n",
      "Model  best_hmm_standard_robust_ar  Worm  0  sample  13\n",
      "Model  best_hmm_standard_robust_ar  Worm  0  sample  14\n",
      "Model  best_hmm_standard_robust_ar  Worm  0  sample  15\n",
      "Model  best_hmm_standard_robust_ar  Worm  0  sample  16\n",
      "Model  best_hmm_standard_robust_ar  Worm  0  sample  17\n",
      "Model  best_hmm_standard_robust_ar  Worm  0  sample  18\n",
      "Model  best_hmm_standard_robust_ar  Worm  0  sample  19\n",
      "Model  best_hmm_standard_robust_ar  Worm  1  sample  0\n",
      "Model  best_hmm_standard_robust_ar  Worm  1  sample  1\n",
      "Model  best_hmm_standard_robust_ar  Worm  1  sample  2\n",
      "Model  best_hmm_standard_robust_ar  Worm  1  sample  3\n",
      "Model  best_hmm_standard_robust_ar  Worm  1  sample  4\n",
      "Model  best_hmm_standard_robust_ar  Worm  1  sample  5\n",
      "Model  best_hmm_standard_robust_ar  Worm  1  sample  6\n",
      "Model  best_hmm_standard_robust_ar  Worm  1  sample  7\n",
      "Model  best_hmm_standard_robust_ar  Worm  1  sample  8\n",
      "Model  best_hmm_standard_robust_ar  Worm  1  sample  9\n",
      "Model  best_hmm_standard_robust_ar  Worm  1  sample  10\n",
      "Model  best_hmm_standard_robust_ar  Worm  1  sample  11\n",
      "Model  best_hmm_standard_robust_ar  Worm  1  sample  12\n",
      "Model  best_hmm_standard_robust_ar  Worm  1  sample  13\n",
      "Model  best_hmm_standard_robust_ar  Worm  1  sample  14\n",
      "Model  best_hmm_standard_robust_ar  Worm  1  sample  15\n",
      "Model  best_hmm_standard_robust_ar  Worm  1  sample  16\n",
      "Model  best_hmm_standard_robust_ar  Worm  1  sample  17\n",
      "Model  best_hmm_standard_robust_ar  Worm  1  sample  18\n",
      "Model  best_hmm_standard_robust_ar  Worm  1  sample  19\n",
      "Model  best_hmm_standard_robust_ar  Worm  2  sample  0\n",
      "Model  best_hmm_standard_robust_ar  Worm  2  sample  1\n",
      "Model  best_hmm_standard_robust_ar  Worm  2  sample  2\n",
      "Model  best_hmm_standard_robust_ar  Worm  2  sample  3\n",
      "Model  best_hmm_standard_robust_ar  Worm  2  sample  4\n",
      "Model  best_hmm_standard_robust_ar  Worm  2  sample  5\n",
      "Model  best_hmm_standard_robust_ar  Worm  2  sample  6\n",
      "Model  best_hmm_standard_robust_ar  Worm  2  sample  7\n",
      "Model  best_hmm_standard_robust_ar  Worm  2  sample  8\n",
      "Model  best_hmm_standard_robust_ar  Worm  2  sample  9\n",
      "Model  best_hmm_standard_robust_ar  Worm  2  sample  10\n",
      "Model  best_hmm_standard_robust_ar  Worm  2  sample  11\n",
      "Model  best_hmm_standard_robust_ar  Worm  2  sample  12\n",
      "Model  best_hmm_standard_robust_ar  Worm  2  sample  13\n",
      "Model  best_hmm_standard_robust_ar  Worm  2  sample  14\n",
      "Model  best_hmm_standard_robust_ar  Worm  2  sample  15\n",
      "Model  best_hmm_standard_robust_ar  Worm  2  sample  16\n",
      "Model  best_hmm_standard_robust_ar  Worm  2  sample  17\n",
      "Model  best_hmm_standard_robust_ar  Worm  2  sample  18\n"
     ]
    },
    {
     "name": "stdout",
     "output_type": "stream",
     "text": [
      "Model  best_hmm_standard_robust_ar  Worm  2  sample  19\n",
      "Model  best_hmm_standard_robust_ar  Worm  3  sample  0\n",
      "Model  best_hmm_standard_robust_ar  Worm  3  sample  1\n",
      "Model  best_hmm_standard_robust_ar  Worm  3  sample  2\n",
      "Model  best_hmm_standard_robust_ar  Worm  3  sample  3\n",
      "Model  best_hmm_standard_robust_ar  Worm  3  sample  4\n",
      "Model  best_hmm_standard_robust_ar  Worm  3  sample  5\n",
      "Model  best_hmm_standard_robust_ar  Worm  3  sample  6\n",
      "Model  best_hmm_standard_robust_ar  Worm  3  sample  7\n",
      "Model  best_hmm_standard_robust_ar  Worm  3  sample  8\n",
      "Model  best_hmm_standard_robust_ar  Worm  3  sample  9\n",
      "Model  best_hmm_standard_robust_ar  Worm  3  sample  10\n",
      "Model  best_hmm_standard_robust_ar  Worm  3  sample  11\n",
      "Model  best_hmm_standard_robust_ar  Worm  3  sample  12\n",
      "Model  best_hmm_standard_robust_ar  Worm  3  sample  13\n",
      "Model  best_hmm_standard_robust_ar  Worm  3  sample  14\n",
      "Model  best_hmm_standard_robust_ar  Worm  3  sample  15\n",
      "Model  best_hmm_standard_robust_ar  Worm  3  sample  16\n",
      "Model  best_hmm_standard_robust_ar  Worm  3  sample  17\n",
      "Model  best_hmm_standard_robust_ar  Worm  3  sample  18\n",
      "Model  best_hmm_standard_robust_ar  Worm  3  sample  19\n",
      "Model  best_hmm_standard_robust_ar  Worm  4  sample  0\n",
      "Model  best_hmm_standard_robust_ar  Worm  4  sample  1\n",
      "Model  best_hmm_standard_robust_ar  Worm  4  sample  2\n",
      "Model  best_hmm_standard_robust_ar  Worm  4  sample  3\n",
      "Model  best_hmm_standard_robust_ar  Worm  4  sample  4\n",
      "Model  best_hmm_standard_robust_ar  Worm  4  sample  5\n",
      "Model  best_hmm_standard_robust_ar  Worm  4  sample  6\n",
      "Model  best_hmm_standard_robust_ar  Worm  4  sample  7\n",
      "Model  best_hmm_standard_robust_ar  Worm  4  sample  8\n",
      "Model  best_hmm_standard_robust_ar  Worm  4  sample  9\n",
      "Model  best_hmm_standard_robust_ar  Worm  4  sample  10\n",
      "Model  best_hmm_standard_robust_ar  Worm  4  sample  11\n",
      "Model  best_hmm_standard_robust_ar  Worm  4  sample  12\n",
      "Model  best_hmm_standard_robust_ar  Worm  4  sample  13\n",
      "Model  best_hmm_standard_robust_ar  Worm  4  sample  14\n",
      "Model  best_hmm_standard_robust_ar  Worm  4  sample  15\n",
      "Model  best_hmm_standard_robust_ar  Worm  4  sample  16\n",
      "Model  best_hmm_standard_robust_ar  Worm  4  sample  17\n",
      "Model  best_hmm_standard_robust_ar  Worm  4  sample  18\n",
      "Model  best_hmm_standard_robust_ar  Worm  4  sample  19\n",
      "Simulating  best_hmm_recurrent_ar\n",
      "Model  best_hmm_recurrent_ar  Worm  0  sample  0\n",
      "Model  best_hmm_recurrent_ar  Worm  0  sample  1\n",
      "Model  best_hmm_recurrent_ar  Worm  0  sample  2\n",
      "Model  best_hmm_recurrent_ar  Worm  0  sample  3\n",
      "Model  best_hmm_recurrent_ar  Worm  0  sample  4\n",
      "Model  best_hmm_recurrent_ar  Worm  0  sample  5\n",
      "Model  best_hmm_recurrent_ar  Worm  0  sample  6\n",
      "Model  best_hmm_recurrent_ar  Worm  0  sample  7\n",
      "Model  best_hmm_recurrent_ar  Worm  0  sample  8\n",
      "Model  best_hmm_recurrent_ar  Worm  0  sample  9\n",
      "Model  best_hmm_recurrent_ar  Worm  0  sample  10\n",
      "Model  best_hmm_recurrent_ar  Worm  0  sample  11\n",
      "Model  best_hmm_recurrent_ar  Worm  0  sample  12\n",
      "Model  best_hmm_recurrent_ar  Worm  0  sample  13\n",
      "Model  best_hmm_recurrent_ar  Worm  0  sample  14\n",
      "Model  best_hmm_recurrent_ar  Worm  0  sample  15\n",
      "Model  best_hmm_recurrent_ar  Worm  0  sample  16\n",
      "Model  best_hmm_recurrent_ar  Worm  0  sample  17\n",
      "Model  best_hmm_recurrent_ar  Worm  0  sample  18\n",
      "Model  best_hmm_recurrent_ar  Worm  0  sample  19\n",
      "Model  best_hmm_recurrent_ar  Worm  1  sample  0\n",
      "Model  best_hmm_recurrent_ar  Worm  1  sample  1\n",
      "Model  best_hmm_recurrent_ar  Worm  1  sample  2\n",
      "Model  best_hmm_recurrent_ar  Worm  1  sample  3\n",
      "Model  best_hmm_recurrent_ar  Worm  1  sample  4\n",
      "Model  best_hmm_recurrent_ar  Worm  1  sample  5\n",
      "Model  best_hmm_recurrent_ar  Worm  1  sample  6\n",
      "Model  best_hmm_recurrent_ar  Worm  1  sample  7\n",
      "Model  best_hmm_recurrent_ar  Worm  1  sample  8\n",
      "Model  best_hmm_recurrent_ar  Worm  1  sample  9\n",
      "Model  best_hmm_recurrent_ar  Worm  1  sample  10\n",
      "Model  best_hmm_recurrent_ar  Worm  1  sample  11\n",
      "Model  best_hmm_recurrent_ar  Worm  1  sample  12\n",
      "Model  best_hmm_recurrent_ar  Worm  1  sample  13\n",
      "Model  best_hmm_recurrent_ar  Worm  1  sample  14\n",
      "Model  best_hmm_recurrent_ar  Worm  1  sample  15\n",
      "Model  best_hmm_recurrent_ar  Worm  1  sample  16\n",
      "Model  best_hmm_recurrent_ar  Worm  1  sample  17\n",
      "Model  best_hmm_recurrent_ar  Worm  1  sample  18\n",
      "Model  best_hmm_recurrent_ar  Worm  1  sample  19\n",
      "Model  best_hmm_recurrent_ar  Worm  2  sample  0\n",
      "Model  best_hmm_recurrent_ar  Worm  2  sample  1\n",
      "Model  best_hmm_recurrent_ar  Worm  2  sample  2\n",
      "Model  best_hmm_recurrent_ar  Worm  2  sample  3\n",
      "Model  best_hmm_recurrent_ar  Worm  2  sample  4\n",
      "Model  best_hmm_recurrent_ar  Worm  2  sample  5\n",
      "Model  best_hmm_recurrent_ar  Worm  2  sample  6\n",
      "Model  best_hmm_recurrent_ar  Worm  2  sample  7\n",
      "Model  best_hmm_recurrent_ar  Worm  2  sample  8\n",
      "Model  best_hmm_recurrent_ar  Worm  2  sample  9\n",
      "Model  best_hmm_recurrent_ar  Worm  2  sample  10\n",
      "Model  best_hmm_recurrent_ar  Worm  2  sample  11\n",
      "Model  best_hmm_recurrent_ar  Worm  2  sample  12\n",
      "Model  best_hmm_recurrent_ar  Worm  2  sample  13\n",
      "Model  best_hmm_recurrent_ar  Worm  2  sample  14\n",
      "Model  best_hmm_recurrent_ar  Worm  2  sample  15\n",
      "Model  best_hmm_recurrent_ar  Worm  2  sample  16\n",
      "Model  best_hmm_recurrent_ar  Worm  2  sample  17\n",
      "Model  best_hmm_recurrent_ar  Worm  2  sample  18\n",
      "Model  best_hmm_recurrent_ar  Worm  2  sample  19\n",
      "Model  best_hmm_recurrent_ar  Worm  3  sample  0\n",
      "Model  best_hmm_recurrent_ar  Worm  3  sample  1\n",
      "Model  best_hmm_recurrent_ar  Worm  3  sample  2\n",
      "Model  best_hmm_recurrent_ar  Worm  3  sample  3\n",
      "Model  best_hmm_recurrent_ar  Worm  3  sample  4\n",
      "Model  best_hmm_recurrent_ar  Worm  3  sample  5\n",
      "Model  best_hmm_recurrent_ar  Worm  3  sample  6\n",
      "Model  best_hmm_recurrent_ar  Worm  3  sample  7\n",
      "Model  best_hmm_recurrent_ar  Worm  3  sample  8\n",
      "Model  best_hmm_recurrent_ar  Worm  3  sample  9\n",
      "Model  best_hmm_recurrent_ar  Worm  3  sample  10\n",
      "Model  best_hmm_recurrent_ar  Worm  3  sample  11\n",
      "Model  best_hmm_recurrent_ar  Worm  3  sample  12\n",
      "Model  best_hmm_recurrent_ar  Worm  3  sample  13\n",
      "Model  best_hmm_recurrent_ar  Worm  3  sample  14\n",
      "Model  best_hmm_recurrent_ar  Worm  3  sample  15\n",
      "Model  best_hmm_recurrent_ar  Worm  3  sample  16\n",
      "Model  best_hmm_recurrent_ar  Worm  3  sample  17\n",
      "Model  best_hmm_recurrent_ar  Worm  3  sample  18\n",
      "Model  best_hmm_recurrent_ar  Worm  3  sample  19\n",
      "Model  best_hmm_recurrent_ar  Worm  4  sample  0\n",
      "Model  best_hmm_recurrent_ar  Worm  4  sample  1\n",
      "Model  best_hmm_recurrent_ar  Worm  4  sample  2\n",
      "Model  best_hmm_recurrent_ar  Worm  4  sample  3\n",
      "Model  best_hmm_recurrent_ar  Worm  4  sample  4\n",
      "Model  best_hmm_recurrent_ar  Worm  4  sample  5\n",
      "Model  best_hmm_recurrent_ar  Worm  4  sample  6\n",
      "Model  best_hmm_recurrent_ar  Worm  4  sample  7\n",
      "Model  best_hmm_recurrent_ar  Worm  4  sample  8\n",
      "Model  best_hmm_recurrent_ar  Worm  4  sample  9\n",
      "Model  best_hmm_recurrent_ar  Worm  4  sample  10\n",
      "Model  best_hmm_recurrent_ar  Worm  4  sample  11\n",
      "Model  best_hmm_recurrent_ar  Worm  4  sample  12\n",
      "Model  best_hmm_recurrent_ar  Worm  4  sample  13\n",
      "Model  best_hmm_recurrent_ar  Worm  4  sample  14\n",
      "Model  best_hmm_recurrent_ar  Worm  4  sample  15\n",
      "Model  best_hmm_recurrent_ar  Worm  4  sample  16\n",
      "Model  best_hmm_recurrent_ar  Worm  4  sample  17\n",
      "Model  best_hmm_recurrent_ar  Worm  4  sample  18\n",
      "Model  best_hmm_recurrent_ar  Worm  4  sample  19\n",
      "Simulating  best_hmm_recurrent_robust_ar\n",
      "Model  best_hmm_recurrent_robust_ar  Worm  0  sample  0\n",
      "Model  best_hmm_recurrent_robust_ar  Worm  0  sample  1\n",
      "Model  best_hmm_recurrent_robust_ar  Worm  0  sample  2\n",
      "Model  best_hmm_recurrent_robust_ar  Worm  0  sample  3\n",
      "Model  best_hmm_recurrent_robust_ar  Worm  0  sample  4\n",
      "Model  best_hmm_recurrent_robust_ar  Worm  0  sample  5\n",
      "Model  best_hmm_recurrent_robust_ar  Worm  0  sample  6\n",
      "Model  best_hmm_recurrent_robust_ar  Worm  0  sample  7\n",
      "Model  best_hmm_recurrent_robust_ar  Worm  0  sample  8\n",
      "Model  best_hmm_recurrent_robust_ar  Worm  0  sample  9\n",
      "Model  best_hmm_recurrent_robust_ar  Worm  0  sample  10\n",
      "Model  best_hmm_recurrent_robust_ar  Worm  0  sample  11\n",
      "Model  best_hmm_recurrent_robust_ar  Worm  0  sample  12\n",
      "Model  best_hmm_recurrent_robust_ar  Worm  0  sample  13\n",
      "Model  best_hmm_recurrent_robust_ar  Worm  0  sample  14\n",
      "Model  best_hmm_recurrent_robust_ar  Worm  0  sample  15\n"
     ]
    },
    {
     "name": "stdout",
     "output_type": "stream",
     "text": [
      "Model  best_hmm_recurrent_robust_ar  Worm  0  sample  16\n",
      "Model  best_hmm_recurrent_robust_ar  Worm  0  sample  17\n",
      "Model  best_hmm_recurrent_robust_ar  Worm  0  sample  18\n",
      "Model  best_hmm_recurrent_robust_ar  Worm  0  sample  19\n",
      "Model  best_hmm_recurrent_robust_ar  Worm  1  sample  0\n",
      "Model  best_hmm_recurrent_robust_ar  Worm  1  sample  1\n",
      "Model  best_hmm_recurrent_robust_ar  Worm  1  sample  2\n",
      "Model  best_hmm_recurrent_robust_ar  Worm  1  sample  3\n",
      "Model  best_hmm_recurrent_robust_ar  Worm  1  sample  4\n",
      "Model  best_hmm_recurrent_robust_ar  Worm  1  sample  5\n",
      "Model  best_hmm_recurrent_robust_ar  Worm  1  sample  6\n",
      "Model  best_hmm_recurrent_robust_ar  Worm  1  sample  7\n",
      "Model  best_hmm_recurrent_robust_ar  Worm  1  sample  8\n",
      "Model  best_hmm_recurrent_robust_ar  Worm  1  sample  9\n",
      "Model  best_hmm_recurrent_robust_ar  Worm  1  sample  10\n",
      "Model  best_hmm_recurrent_robust_ar  Worm  1  sample  11\n",
      "Model  best_hmm_recurrent_robust_ar  Worm  1  sample  12\n",
      "Model  best_hmm_recurrent_robust_ar  Worm  1  sample  13\n",
      "Model  best_hmm_recurrent_robust_ar  Worm  1  sample  14\n",
      "Model  best_hmm_recurrent_robust_ar  Worm  1  sample  15\n",
      "Model  best_hmm_recurrent_robust_ar  Worm  1  sample  16\n",
      "Model  best_hmm_recurrent_robust_ar  Worm  1  sample  17\n",
      "Model  best_hmm_recurrent_robust_ar  Worm  1  sample  18\n",
      "Model  best_hmm_recurrent_robust_ar  Worm  1  sample  19\n",
      "Model  best_hmm_recurrent_robust_ar  Worm  2  sample  0\n",
      "Model  best_hmm_recurrent_robust_ar  Worm  2  sample  1\n",
      "Model  best_hmm_recurrent_robust_ar  Worm  2  sample  2\n",
      "Model  best_hmm_recurrent_robust_ar  Worm  2  sample  3\n",
      "Model  best_hmm_recurrent_robust_ar  Worm  2  sample  4\n",
      "Model  best_hmm_recurrent_robust_ar  Worm  2  sample  5\n",
      "Model  best_hmm_recurrent_robust_ar  Worm  2  sample  6\n",
      "Model  best_hmm_recurrent_robust_ar  Worm  2  sample  7\n",
      "Model  best_hmm_recurrent_robust_ar  Worm  2  sample  8\n",
      "Model  best_hmm_recurrent_robust_ar  Worm  2  sample  9\n",
      "Model  best_hmm_recurrent_robust_ar  Worm  2  sample  10\n",
      "Model  best_hmm_recurrent_robust_ar  Worm  2  sample  11\n",
      "Model  best_hmm_recurrent_robust_ar  Worm  2  sample  12\n",
      "Model  best_hmm_recurrent_robust_ar  Worm  2  sample  13\n",
      "Model  best_hmm_recurrent_robust_ar  Worm  2  sample  14\n",
      "Model  best_hmm_recurrent_robust_ar  Worm  2  sample  15\n",
      "Model  best_hmm_recurrent_robust_ar  Worm  2  sample  16\n",
      "Model  best_hmm_recurrent_robust_ar  Worm  2  sample  17\n",
      "Model  best_hmm_recurrent_robust_ar  Worm  2  sample  18\n",
      "Model  best_hmm_recurrent_robust_ar  Worm  2  sample  19\n",
      "Model  best_hmm_recurrent_robust_ar  Worm  3  sample  0\n",
      "Model  best_hmm_recurrent_robust_ar  Worm  3  sample  1\n",
      "Model  best_hmm_recurrent_robust_ar  Worm  3  sample  2\n",
      "Model  best_hmm_recurrent_robust_ar  Worm  3  sample  3\n",
      "Model  best_hmm_recurrent_robust_ar  Worm  3  sample  4\n",
      "Model  best_hmm_recurrent_robust_ar  Worm  3  sample  5\n",
      "Model  best_hmm_recurrent_robust_ar  Worm  3  sample  6\n",
      "Model  best_hmm_recurrent_robust_ar  Worm  3  sample  7\n",
      "Model  best_hmm_recurrent_robust_ar  Worm  3  sample  8\n",
      "Model  best_hmm_recurrent_robust_ar  Worm  3  sample  9\n",
      "Model  best_hmm_recurrent_robust_ar  Worm  3  sample  10\n",
      "Model  best_hmm_recurrent_robust_ar  Worm  3  sample  11\n",
      "Model  best_hmm_recurrent_robust_ar  Worm  3  sample  12\n",
      "Model  best_hmm_recurrent_robust_ar  Worm  3  sample  13\n",
      "Model  best_hmm_recurrent_robust_ar  Worm  3  sample  14\n",
      "Model  best_hmm_recurrent_robust_ar  Worm  3  sample  15\n",
      "Model  best_hmm_recurrent_robust_ar  Worm  3  sample  16\n",
      "Model  best_hmm_recurrent_robust_ar  Worm  3  sample  17\n",
      "Model  best_hmm_recurrent_robust_ar  Worm  3  sample  18\n",
      "Model  best_hmm_recurrent_robust_ar  Worm  3  sample  19\n",
      "Model  best_hmm_recurrent_robust_ar  Worm  4  sample  0\n",
      "Model  best_hmm_recurrent_robust_ar  Worm  4  sample  1\n",
      "Model  best_hmm_recurrent_robust_ar  Worm  4  sample  2\n",
      "Model  best_hmm_recurrent_robust_ar  Worm  4  sample  3\n",
      "Model  best_hmm_recurrent_robust_ar  Worm  4  sample  4\n",
      "Model  best_hmm_recurrent_robust_ar  Worm  4  sample  5\n",
      "Model  best_hmm_recurrent_robust_ar  Worm  4  sample  6\n",
      "Model  best_hmm_recurrent_robust_ar  Worm  4  sample  7\n",
      "Model  best_hmm_recurrent_robust_ar  Worm  4  sample  8\n",
      "Model  best_hmm_recurrent_robust_ar  Worm  4  sample  9\n",
      "Model  best_hmm_recurrent_robust_ar  Worm  4  sample  10\n",
      "Model  best_hmm_recurrent_robust_ar  Worm  4  sample  11\n",
      "Model  best_hmm_recurrent_robust_ar  Worm  4  sample  12\n",
      "Model  best_hmm_recurrent_robust_ar  Worm  4  sample  13\n",
      "Model  best_hmm_recurrent_robust_ar  Worm  4  sample  14\n",
      "Model  best_hmm_recurrent_robust_ar  Worm  4  sample  15\n",
      "Model  best_hmm_recurrent_robust_ar  Worm  4  sample  16\n",
      "Model  best_hmm_recurrent_robust_ar  Worm  4  sample  17\n",
      "Model  best_hmm_recurrent_robust_ar  Worm  4  sample  18\n",
      "Model  best_hmm_recurrent_robust_ar  Worm  4  sample  19\n",
      "Simulating  best_hhmm_standard_ar\n",
      "Model  best_hhmm_standard_ar  Worm  0  sample  0\n",
      "Model  best_hhmm_standard_ar  Worm  0  sample  1\n",
      "Model  best_hhmm_standard_ar  Worm  0  sample  2\n",
      "Model  best_hhmm_standard_ar  Worm  0  sample  3\n",
      "Model  best_hhmm_standard_ar  Worm  0  sample  4\n",
      "Model  best_hhmm_standard_ar  Worm  0  sample  5\n",
      "Model  best_hhmm_standard_ar  Worm  0  sample  6\n",
      "Model  best_hhmm_standard_ar  Worm  0  sample  7\n",
      "Model  best_hhmm_standard_ar  Worm  0  sample  8\n",
      "Model  best_hhmm_standard_ar  Worm  0  sample  9\n",
      "Model  best_hhmm_standard_ar  Worm  0  sample  10\n",
      "Model  best_hhmm_standard_ar  Worm  0  sample  11\n",
      "Model  best_hhmm_standard_ar  Worm  0  sample  12\n",
      "Model  best_hhmm_standard_ar  Worm  0  sample  13\n",
      "Model  best_hhmm_standard_ar  Worm  0  sample  14\n",
      "Model  best_hhmm_standard_ar  Worm  0  sample  15\n",
      "Model  best_hhmm_standard_ar  Worm  0  sample  16\n",
      "Model  best_hhmm_standard_ar  Worm  0  sample  17\n",
      "Model  best_hhmm_standard_ar  Worm  0  sample  18\n",
      "Model  best_hhmm_standard_ar  Worm  0  sample  19\n",
      "Model  best_hhmm_standard_ar  Worm  1  sample  0\n",
      "Model  best_hhmm_standard_ar  Worm  1  sample  1\n",
      "Model  best_hhmm_standard_ar  Worm  1  sample  2\n",
      "Model  best_hhmm_standard_ar  Worm  1  sample  3\n",
      "Model  best_hhmm_standard_ar  Worm  1  sample  4\n",
      "Model  best_hhmm_standard_ar  Worm  1  sample  5\n",
      "Model  best_hhmm_standard_ar  Worm  1  sample  6\n",
      "Model  best_hhmm_standard_ar  Worm  1  sample  7\n",
      "Model  best_hhmm_standard_ar  Worm  1  sample  8\n",
      "Model  best_hhmm_standard_ar  Worm  1  sample  9\n",
      "Model  best_hhmm_standard_ar  Worm  1  sample  10\n",
      "Model  best_hhmm_standard_ar  Worm  1  sample  11\n",
      "Model  best_hhmm_standard_ar  Worm  1  sample  12\n",
      "Model  best_hhmm_standard_ar  Worm  1  sample  13\n",
      "Model  best_hhmm_standard_ar  Worm  1  sample  14\n",
      "Model  best_hhmm_standard_ar  Worm  1  sample  15\n",
      "Model  best_hhmm_standard_ar  Worm  1  sample  16\n",
      "Model  best_hhmm_standard_ar  Worm  1  sample  17\n",
      "Model  best_hhmm_standard_ar  Worm  1  sample  18\n",
      "Model  best_hhmm_standard_ar  Worm  1  sample  19\n",
      "Model  best_hhmm_standard_ar  Worm  2  sample  0\n",
      "Model  best_hhmm_standard_ar  Worm  2  sample  1\n",
      "Model  best_hhmm_standard_ar  Worm  2  sample  2\n",
      "Model  best_hhmm_standard_ar  Worm  2  sample  3\n",
      "Model  best_hhmm_standard_ar  Worm  2  sample  4\n",
      "Model  best_hhmm_standard_ar  Worm  2  sample  5\n",
      "Model  best_hhmm_standard_ar  Worm  2  sample  6\n",
      "Model  best_hhmm_standard_ar  Worm  2  sample  7\n",
      "Model  best_hhmm_standard_ar  Worm  2  sample  8\n",
      "Model  best_hhmm_standard_ar  Worm  2  sample  9\n",
      "Model  best_hhmm_standard_ar  Worm  2  sample  10\n",
      "Model  best_hhmm_standard_ar  Worm  2  sample  11\n",
      "Model  best_hhmm_standard_ar  Worm  2  sample  12\n",
      "Model  best_hhmm_standard_ar  Worm  2  sample  13\n",
      "Model  best_hhmm_standard_ar  Worm  2  sample  14\n",
      "Model  best_hhmm_standard_ar  Worm  2  sample  15\n",
      "Model  best_hhmm_standard_ar  Worm  2  sample  16\n",
      "Model  best_hhmm_standard_ar  Worm  2  sample  17\n",
      "Model  best_hhmm_standard_ar  Worm  2  sample  18\n",
      "Model  best_hhmm_standard_ar  Worm  2  sample  19\n",
      "Model  best_hhmm_standard_ar  Worm  3  sample  0\n",
      "Model  best_hhmm_standard_ar  Worm  3  sample  1\n",
      "Model  best_hhmm_standard_ar  Worm  3  sample  2\n",
      "Model  best_hhmm_standard_ar  Worm  3  sample  3\n",
      "Model  best_hhmm_standard_ar  Worm  3  sample  4\n",
      "Model  best_hhmm_standard_ar  Worm  3  sample  5\n",
      "Model  best_hhmm_standard_ar  Worm  3  sample  6\n",
      "Model  best_hhmm_standard_ar  Worm  3  sample  7\n",
      "Model  best_hhmm_standard_ar  Worm  3  sample  8\n"
     ]
    },
    {
     "name": "stdout",
     "output_type": "stream",
     "text": [
      "Model  best_hhmm_standard_ar  Worm  3  sample  9\n",
      "Model  best_hhmm_standard_ar  Worm  3  sample  10\n",
      "Model  best_hhmm_standard_ar  Worm  3  sample  11\n",
      "Model  best_hhmm_standard_ar  Worm  3  sample  12\n",
      "Model  best_hhmm_standard_ar  Worm  3  sample  13\n",
      "Model  best_hhmm_standard_ar  Worm  3  sample  14\n",
      "Model  best_hhmm_standard_ar  Worm  3  sample  15\n",
      "Model  best_hhmm_standard_ar  Worm  3  sample  16\n",
      "Model  best_hhmm_standard_ar  Worm  3  sample  17\n",
      "Model  best_hhmm_standard_ar  Worm  3  sample  18\n",
      "Model  best_hhmm_standard_ar  Worm  3  sample  19\n",
      "Model  best_hhmm_standard_ar  Worm  4  sample  0\n",
      "Model  best_hhmm_standard_ar  Worm  4  sample  1\n",
      "Model  best_hhmm_standard_ar  Worm  4  sample  2\n",
      "Model  best_hhmm_standard_ar  Worm  4  sample  3\n",
      "Model  best_hhmm_standard_ar  Worm  4  sample  4\n",
      "Model  best_hhmm_standard_ar  Worm  4  sample  5\n",
      "Model  best_hhmm_standard_ar  Worm  4  sample  6\n",
      "Model  best_hhmm_standard_ar  Worm  4  sample  7\n",
      "Model  best_hhmm_standard_ar  Worm  4  sample  8\n",
      "Model  best_hhmm_standard_ar  Worm  4  sample  9\n",
      "Model  best_hhmm_standard_ar  Worm  4  sample  10\n",
      "Model  best_hhmm_standard_ar  Worm  4  sample  11\n",
      "Model  best_hhmm_standard_ar  Worm  4  sample  12\n",
      "Model  best_hhmm_standard_ar  Worm  4  sample  13\n",
      "Model  best_hhmm_standard_ar  Worm  4  sample  14\n",
      "Model  best_hhmm_standard_ar  Worm  4  sample  15\n",
      "Model  best_hhmm_standard_ar  Worm  4  sample  16\n",
      "Model  best_hhmm_standard_ar  Worm  4  sample  17\n",
      "Model  best_hhmm_standard_ar  Worm  4  sample  18\n",
      "Model  best_hhmm_standard_ar  Worm  4  sample  19\n",
      "Simulating  best_hhmm_standard_robust_ar\n",
      "Model  best_hhmm_standard_robust_ar  Worm  0  sample  0\n",
      "Model  best_hhmm_standard_robust_ar  Worm  0  sample  1\n",
      "Model  best_hhmm_standard_robust_ar  Worm  0  sample  2\n",
      "Model  best_hhmm_standard_robust_ar  Worm  0  sample  3\n",
      "Model  best_hhmm_standard_robust_ar  Worm  0  sample  4\n",
      "Model  best_hhmm_standard_robust_ar  Worm  0  sample  5\n",
      "Model  best_hhmm_standard_robust_ar  Worm  0  sample  6\n",
      "Model  best_hhmm_standard_robust_ar  Worm  0  sample  7\n",
      "Model  best_hhmm_standard_robust_ar  Worm  0  sample  8\n",
      "Model  best_hhmm_standard_robust_ar  Worm  0  sample  9\n",
      "Model  best_hhmm_standard_robust_ar  Worm  0  sample  10\n",
      "Model  best_hhmm_standard_robust_ar  Worm  0  sample  11\n",
      "Model  best_hhmm_standard_robust_ar  Worm  0  sample  12\n",
      "Model  best_hhmm_standard_robust_ar  Worm  0  sample  13\n",
      "Model  best_hhmm_standard_robust_ar  Worm  0  sample  14\n",
      "Model  best_hhmm_standard_robust_ar  Worm  0  sample  15\n",
      "Model  best_hhmm_standard_robust_ar  Worm  0  sample  16\n",
      "Model  best_hhmm_standard_robust_ar  Worm  0  sample  17\n",
      "Model  best_hhmm_standard_robust_ar  Worm  0  sample  18\n",
      "Model  best_hhmm_standard_robust_ar  Worm  0  sample  19\n",
      "Model  best_hhmm_standard_robust_ar  Worm  1  sample  0\n",
      "Model  best_hhmm_standard_robust_ar  Worm  1  sample  1\n",
      "Model  best_hhmm_standard_robust_ar  Worm  1  sample  2\n",
      "Model  best_hhmm_standard_robust_ar  Worm  1  sample  3\n",
      "Model  best_hhmm_standard_robust_ar  Worm  1  sample  4\n",
      "Model  best_hhmm_standard_robust_ar  Worm  1  sample  5\n",
      "Model  best_hhmm_standard_robust_ar  Worm  1  sample  6\n",
      "Model  best_hhmm_standard_robust_ar  Worm  1  sample  7\n",
      "Model  best_hhmm_standard_robust_ar  Worm  1  sample  8\n",
      "Model  best_hhmm_standard_robust_ar  Worm  1  sample  9\n",
      "Model  best_hhmm_standard_robust_ar  Worm  1  sample  10\n",
      "Model  best_hhmm_standard_robust_ar  Worm  1  sample  11\n",
      "Model  best_hhmm_standard_robust_ar  Worm  1  sample  12\n",
      "Model  best_hhmm_standard_robust_ar  Worm  1  sample  13\n",
      "Model  best_hhmm_standard_robust_ar  Worm  1  sample  14\n",
      "Model  best_hhmm_standard_robust_ar  Worm  1  sample  15\n",
      "Model  best_hhmm_standard_robust_ar  Worm  1  sample  16\n",
      "Model  best_hhmm_standard_robust_ar  Worm  1  sample  17\n",
      "Model  best_hhmm_standard_robust_ar  Worm  1  sample  18\n",
      "Model  best_hhmm_standard_robust_ar  Worm  1  sample  19\n",
      "Model  best_hhmm_standard_robust_ar  Worm  2  sample  0\n",
      "Model  best_hhmm_standard_robust_ar  Worm  2  sample  1\n",
      "Model  best_hhmm_standard_robust_ar  Worm  2  sample  2\n",
      "Model  best_hhmm_standard_robust_ar  Worm  2  sample  3\n",
      "Model  best_hhmm_standard_robust_ar  Worm  2  sample  4\n",
      "Model  best_hhmm_standard_robust_ar  Worm  2  sample  5\n",
      "Model  best_hhmm_standard_robust_ar  Worm  2  sample  6\n",
      "Model  best_hhmm_standard_robust_ar  Worm  2  sample  7\n",
      "Model  best_hhmm_standard_robust_ar  Worm  2  sample  8\n",
      "Model  best_hhmm_standard_robust_ar  Worm  2  sample  9\n",
      "Model  best_hhmm_standard_robust_ar  Worm  2  sample  10\n",
      "Model  best_hhmm_standard_robust_ar  Worm  2  sample  11\n",
      "Model  best_hhmm_standard_robust_ar  Worm  2  sample  12\n",
      "Model  best_hhmm_standard_robust_ar  Worm  2  sample  13\n",
      "Model  best_hhmm_standard_robust_ar  Worm  2  sample  14\n",
      "Model  best_hhmm_standard_robust_ar  Worm  2  sample  15\n",
      "Model  best_hhmm_standard_robust_ar  Worm  2  sample  16\n",
      "Model  best_hhmm_standard_robust_ar  Worm  2  sample  17\n",
      "Model  best_hhmm_standard_robust_ar  Worm  2  sample  18\n",
      "Model  best_hhmm_standard_robust_ar  Worm  2  sample  19\n",
      "Model  best_hhmm_standard_robust_ar  Worm  3  sample  0\n",
      "Model  best_hhmm_standard_robust_ar  Worm  3  sample  1\n",
      "Model  best_hhmm_standard_robust_ar  Worm  3  sample  2\n",
      "Model  best_hhmm_standard_robust_ar  Worm  3  sample  3\n",
      "Model  best_hhmm_standard_robust_ar  Worm  3  sample  4\n",
      "Model  best_hhmm_standard_robust_ar  Worm  3  sample  5\n",
      "Model  best_hhmm_standard_robust_ar  Worm  3  sample  6\n",
      "Model  best_hhmm_standard_robust_ar  Worm  3  sample  7\n",
      "Model  best_hhmm_standard_robust_ar  Worm  3  sample  8\n",
      "Model  best_hhmm_standard_robust_ar  Worm  3  sample  9\n",
      "Model  best_hhmm_standard_robust_ar  Worm  3  sample  10\n",
      "Model  best_hhmm_standard_robust_ar  Worm  3  sample  11\n",
      "Model  best_hhmm_standard_robust_ar  Worm  3  sample  12\n",
      "Model  best_hhmm_standard_robust_ar  Worm  3  sample  13\n",
      "Model  best_hhmm_standard_robust_ar  Worm  3  sample  14\n",
      "Model  best_hhmm_standard_robust_ar  Worm  3  sample  15\n",
      "Model  best_hhmm_standard_robust_ar  Worm  3  sample  16\n",
      "Model  best_hhmm_standard_robust_ar  Worm  3  sample  17\n",
      "Model  best_hhmm_standard_robust_ar  Worm  3  sample  18\n",
      "Model  best_hhmm_standard_robust_ar  Worm  3  sample  19\n",
      "Model  best_hhmm_standard_robust_ar  Worm  4  sample  0\n",
      "Model  best_hhmm_standard_robust_ar  Worm  4  sample  1\n",
      "Model  best_hhmm_standard_robust_ar  Worm  4  sample  2\n",
      "Model  best_hhmm_standard_robust_ar  Worm  4  sample  3\n",
      "Model  best_hhmm_standard_robust_ar  Worm  4  sample  4\n",
      "Model  best_hhmm_standard_robust_ar  Worm  4  sample  5\n",
      "Model  best_hhmm_standard_robust_ar  Worm  4  sample  6\n",
      "Model  best_hhmm_standard_robust_ar  Worm  4  sample  7\n",
      "Model  best_hhmm_standard_robust_ar  Worm  4  sample  8\n",
      "Model  best_hhmm_standard_robust_ar  Worm  4  sample  9\n",
      "Model  best_hhmm_standard_robust_ar  Worm  4  sample  10\n",
      "Model  best_hhmm_standard_robust_ar  Worm  4  sample  11\n",
      "Model  best_hhmm_standard_robust_ar  Worm  4  sample  12\n",
      "Model  best_hhmm_standard_robust_ar  Worm  4  sample  13\n",
      "Model  best_hhmm_standard_robust_ar  Worm  4  sample  14\n",
      "Model  best_hhmm_standard_robust_ar  Worm  4  sample  15\n",
      "Model  best_hhmm_standard_robust_ar  Worm  4  sample  16\n",
      "Model  best_hhmm_standard_robust_ar  Worm  4  sample  17\n",
      "Model  best_hhmm_standard_robust_ar  Worm  4  sample  18\n",
      "Model  best_hhmm_standard_robust_ar  Worm  4  sample  19\n",
      "Simulating  best_hhmm_recurrent_ar\n",
      "Model  best_hhmm_recurrent_ar  Worm  0  sample  0\n",
      "Model  best_hhmm_recurrent_ar  Worm  0  sample  1\n",
      "Model  best_hhmm_recurrent_ar  Worm  0  sample  2\n",
      "Model  best_hhmm_recurrent_ar  Worm  0  sample  3\n",
      "Model  best_hhmm_recurrent_ar  Worm  0  sample  4\n",
      "Model  best_hhmm_recurrent_ar  Worm  0  sample  5\n",
      "Model  best_hhmm_recurrent_ar  Worm  0  sample  6\n",
      "Model  best_hhmm_recurrent_ar  Worm  0  sample  7\n",
      "Model  best_hhmm_recurrent_ar  Worm  0  sample  8\n",
      "Model  best_hhmm_recurrent_ar  Worm  0  sample  9\n",
      "Model  best_hhmm_recurrent_ar  Worm  0  sample  10\n",
      "Model  best_hhmm_recurrent_ar  Worm  0  sample  11\n",
      "Model  best_hhmm_recurrent_ar  Worm  0  sample  12\n",
      "Model  best_hhmm_recurrent_ar  Worm  0  sample  13\n",
      "Model  best_hhmm_recurrent_ar  Worm  0  sample  14\n",
      "Model  best_hhmm_recurrent_ar  Worm  0  sample  15\n",
      "Model  best_hhmm_recurrent_ar  Worm  0  sample  16\n",
      "Model  best_hhmm_recurrent_ar  Worm  0  sample  17\n",
      "Model  best_hhmm_recurrent_ar  Worm  0  sample  18\n"
     ]
    },
    {
     "name": "stdout",
     "output_type": "stream",
     "text": [
      "Model  best_hhmm_recurrent_ar  Worm  0  sample  19\n",
      "Model  best_hhmm_recurrent_ar  Worm  1  sample  0\n",
      "Model  best_hhmm_recurrent_ar  Worm  1  sample  1\n",
      "Model  best_hhmm_recurrent_ar  Worm  1  sample  2\n",
      "Model  best_hhmm_recurrent_ar  Worm  1  sample  3\n",
      "Model  best_hhmm_recurrent_ar  Worm  1  sample  4\n",
      "Model  best_hhmm_recurrent_ar  Worm  1  sample  5\n",
      "Model  best_hhmm_recurrent_ar  Worm  1  sample  6\n",
      "Model  best_hhmm_recurrent_ar  Worm  1  sample  7\n",
      "Model  best_hhmm_recurrent_ar  Worm  1  sample  8\n",
      "Model  best_hhmm_recurrent_ar  Worm  1  sample  9\n",
      "Model  best_hhmm_recurrent_ar  Worm  1  sample  10\n",
      "Model  best_hhmm_recurrent_ar  Worm  1  sample  11\n",
      "Model  best_hhmm_recurrent_ar  Worm  1  sample  12\n",
      "Model  best_hhmm_recurrent_ar  Worm  1  sample  13\n",
      "Model  best_hhmm_recurrent_ar  Worm  1  sample  14\n",
      "Model  best_hhmm_recurrent_ar  Worm  1  sample  15\n",
      "Model  best_hhmm_recurrent_ar  Worm  1  sample  16\n",
      "Model  best_hhmm_recurrent_ar  Worm  1  sample  17\n",
      "Model  best_hhmm_recurrent_ar  Worm  1  sample  18\n",
      "Model  best_hhmm_recurrent_ar  Worm  1  sample  19\n",
      "Model  best_hhmm_recurrent_ar  Worm  2  sample  0\n",
      "Model  best_hhmm_recurrent_ar  Worm  2  sample  1\n",
      "Model  best_hhmm_recurrent_ar  Worm  2  sample  2\n",
      "Model  best_hhmm_recurrent_ar  Worm  2  sample  3\n",
      "Model  best_hhmm_recurrent_ar  Worm  2  sample  4\n",
      "Model  best_hhmm_recurrent_ar  Worm  2  sample  5\n",
      "Model  best_hhmm_recurrent_ar  Worm  2  sample  6\n",
      "Model  best_hhmm_recurrent_ar  Worm  2  sample  7\n",
      "Model  best_hhmm_recurrent_ar  Worm  2  sample  8\n",
      "Model  best_hhmm_recurrent_ar  Worm  2  sample  9\n",
      "Model  best_hhmm_recurrent_ar  Worm  2  sample  10\n",
      "Model  best_hhmm_recurrent_ar  Worm  2  sample  11\n",
      "Model  best_hhmm_recurrent_ar  Worm  2  sample  12\n",
      "Model  best_hhmm_recurrent_ar  Worm  2  sample  13\n",
      "Model  best_hhmm_recurrent_ar  Worm  2  sample  14\n",
      "Model  best_hhmm_recurrent_ar  Worm  2  sample  15\n",
      "Model  best_hhmm_recurrent_ar  Worm  2  sample  16\n",
      "Model  best_hhmm_recurrent_ar  Worm  2  sample  17\n",
      "Model  best_hhmm_recurrent_ar  Worm  2  sample  18\n",
      "Model  best_hhmm_recurrent_ar  Worm  2  sample  19\n",
      "Model  best_hhmm_recurrent_ar  Worm  3  sample  0\n",
      "Model  best_hhmm_recurrent_ar  Worm  3  sample  1\n",
      "Model  best_hhmm_recurrent_ar  Worm  3  sample  2\n",
      "Model  best_hhmm_recurrent_ar  Worm  3  sample  3\n",
      "Model  best_hhmm_recurrent_ar  Worm  3  sample  4\n",
      "Model  best_hhmm_recurrent_ar  Worm  3  sample  5\n",
      "Model  best_hhmm_recurrent_ar  Worm  3  sample  6\n",
      "Model  best_hhmm_recurrent_ar  Worm  3  sample  7\n",
      "Model  best_hhmm_recurrent_ar  Worm  3  sample  8\n",
      "Model  best_hhmm_recurrent_ar  Worm  3  sample  9\n",
      "Model  best_hhmm_recurrent_ar  Worm  3  sample  10\n",
      "Model  best_hhmm_recurrent_ar  Worm  3  sample  11\n",
      "Model  best_hhmm_recurrent_ar  Worm  3  sample  12\n",
      "Model  best_hhmm_recurrent_ar  Worm  3  sample  13\n",
      "Model  best_hhmm_recurrent_ar  Worm  3  sample  14\n",
      "Model  best_hhmm_recurrent_ar  Worm  3  sample  15\n",
      "Model  best_hhmm_recurrent_ar  Worm  3  sample  16\n",
      "Model  best_hhmm_recurrent_ar  Worm  3  sample  17\n",
      "Model  best_hhmm_recurrent_ar  Worm  3  sample  18\n",
      "Model  best_hhmm_recurrent_ar  Worm  3  sample  19\n",
      "Model  best_hhmm_recurrent_ar  Worm  4  sample  0\n",
      "Model  best_hhmm_recurrent_ar  Worm  4  sample  1\n",
      "Model  best_hhmm_recurrent_ar  Worm  4  sample  2\n",
      "Model  best_hhmm_recurrent_ar  Worm  4  sample  3\n",
      "Model  best_hhmm_recurrent_ar  Worm  4  sample  4\n",
      "Model  best_hhmm_recurrent_ar  Worm  4  sample  5\n",
      "Model  best_hhmm_recurrent_ar  Worm  4  sample  6\n",
      "Model  best_hhmm_recurrent_ar  Worm  4  sample  7\n",
      "Model  best_hhmm_recurrent_ar  Worm  4  sample  8\n",
      "Model  best_hhmm_recurrent_ar  Worm  4  sample  9\n",
      "Model  best_hhmm_recurrent_ar  Worm  4  sample  10\n",
      "Model  best_hhmm_recurrent_ar  Worm  4  sample  11\n",
      "Model  best_hhmm_recurrent_ar  Worm  4  sample  12\n",
      "Model  best_hhmm_recurrent_ar  Worm  4  sample  13\n",
      "Model  best_hhmm_recurrent_ar  Worm  4  sample  14\n",
      "Model  best_hhmm_recurrent_ar  Worm  4  sample  15\n",
      "Model  best_hhmm_recurrent_ar  Worm  4  sample  16\n",
      "Model  best_hhmm_recurrent_ar  Worm  4  sample  17\n",
      "Model  best_hhmm_recurrent_ar  Worm  4  sample  18\n",
      "Model  best_hhmm_recurrent_ar  Worm  4  sample  19\n",
      "Simulating  best_hhmm_recurrent_robust_ar\n",
      "Model  best_hhmm_recurrent_robust_ar  Worm  0  sample  0\n",
      "Model  best_hhmm_recurrent_robust_ar  Worm  0  sample  1\n",
      "Model  best_hhmm_recurrent_robust_ar  Worm  0  sample  2\n",
      "Model  best_hhmm_recurrent_robust_ar  Worm  0  sample  3\n",
      "Model  best_hhmm_recurrent_robust_ar  Worm  0  sample  4\n",
      "Model  best_hhmm_recurrent_robust_ar  Worm  0  sample  5\n",
      "Model  best_hhmm_recurrent_robust_ar  Worm  0  sample  6\n",
      "Model  best_hhmm_recurrent_robust_ar  Worm  0  sample  7\n",
      "Model  best_hhmm_recurrent_robust_ar  Worm  0  sample  8\n",
      "Model  best_hhmm_recurrent_robust_ar  Worm  0  sample  9\n",
      "Model  best_hhmm_recurrent_robust_ar  Worm  0  sample  10\n",
      "Model  best_hhmm_recurrent_robust_ar  Worm  0  sample  11\n",
      "Model  best_hhmm_recurrent_robust_ar  Worm  0  sample  12\n",
      "Model  best_hhmm_recurrent_robust_ar  Worm  0  sample  13\n",
      "Model  best_hhmm_recurrent_robust_ar  Worm  0  sample  14\n",
      "Model  best_hhmm_recurrent_robust_ar  Worm  0  sample  15\n",
      "Model  best_hhmm_recurrent_robust_ar  Worm  0  sample  16\n",
      "Model  best_hhmm_recurrent_robust_ar  Worm  0  sample  17\n",
      "Model  best_hhmm_recurrent_robust_ar  Worm  0  sample  18\n",
      "Model  best_hhmm_recurrent_robust_ar  Worm  0  sample  19\n",
      "Model  best_hhmm_recurrent_robust_ar  Worm  1  sample  0\n",
      "Model  best_hhmm_recurrent_robust_ar  Worm  1  sample  1\n",
      "Model  best_hhmm_recurrent_robust_ar  Worm  1  sample  2\n",
      "Model  best_hhmm_recurrent_robust_ar  Worm  1  sample  3\n",
      "Model  best_hhmm_recurrent_robust_ar  Worm  1  sample  4\n",
      "Model  best_hhmm_recurrent_robust_ar  Worm  1  sample  5\n",
      "Model  best_hhmm_recurrent_robust_ar  Worm  1  sample  6\n",
      "Model  best_hhmm_recurrent_robust_ar  Worm  1  sample  7\n",
      "Model  best_hhmm_recurrent_robust_ar  Worm  1  sample  8\n",
      "Model  best_hhmm_recurrent_robust_ar  Worm  1  sample  9\n",
      "Model  best_hhmm_recurrent_robust_ar  Worm  1  sample  10\n",
      "Model  best_hhmm_recurrent_robust_ar  Worm  1  sample  11\n",
      "Model  best_hhmm_recurrent_robust_ar  Worm  1  sample  12\n",
      "Model  best_hhmm_recurrent_robust_ar  Worm  1  sample  13\n",
      "Model  best_hhmm_recurrent_robust_ar  Worm  1  sample  14\n",
      "Model  best_hhmm_recurrent_robust_ar  Worm  1  sample  15\n",
      "Model  best_hhmm_recurrent_robust_ar  Worm  1  sample  16\n",
      "Model  best_hhmm_recurrent_robust_ar  Worm  1  sample  17\n",
      "Model  best_hhmm_recurrent_robust_ar  Worm  1  sample  18\n",
      "Model  best_hhmm_recurrent_robust_ar  Worm  1  sample  19\n",
      "Model  best_hhmm_recurrent_robust_ar  Worm  2  sample  0\n",
      "Model  best_hhmm_recurrent_robust_ar  Worm  2  sample  1\n",
      "Model  best_hhmm_recurrent_robust_ar  Worm  2  sample  2\n",
      "Model  best_hhmm_recurrent_robust_ar  Worm  2  sample  3\n",
      "Model  best_hhmm_recurrent_robust_ar  Worm  2  sample  4\n",
      "Model  best_hhmm_recurrent_robust_ar  Worm  2  sample  5\n",
      "Model  best_hhmm_recurrent_robust_ar  Worm  2  sample  6\n",
      "Model  best_hhmm_recurrent_robust_ar  Worm  2  sample  7\n",
      "Model  best_hhmm_recurrent_robust_ar  Worm  2  sample  8\n",
      "Model  best_hhmm_recurrent_robust_ar  Worm  2  sample  9\n",
      "Model  best_hhmm_recurrent_robust_ar  Worm  2  sample  10\n",
      "Model  best_hhmm_recurrent_robust_ar  Worm  2  sample  11\n",
      "Model  best_hhmm_recurrent_robust_ar  Worm  2  sample  12\n",
      "Model  best_hhmm_recurrent_robust_ar  Worm  2  sample  13\n",
      "Model  best_hhmm_recurrent_robust_ar  Worm  2  sample  14\n",
      "Model  best_hhmm_recurrent_robust_ar  Worm  2  sample  15\n",
      "Model  best_hhmm_recurrent_robust_ar  Worm  2  sample  16\n",
      "Model  best_hhmm_recurrent_robust_ar  Worm  2  sample  17\n",
      "Model  best_hhmm_recurrent_robust_ar  Worm  2  sample  18\n",
      "Model  best_hhmm_recurrent_robust_ar  Worm  2  sample  19\n",
      "Model  best_hhmm_recurrent_robust_ar  Worm  3  sample  0\n",
      "Model  best_hhmm_recurrent_robust_ar  Worm  3  sample  1\n",
      "Model  best_hhmm_recurrent_robust_ar  Worm  3  sample  2\n",
      "Model  best_hhmm_recurrent_robust_ar  Worm  3  sample  3\n",
      "Model  best_hhmm_recurrent_robust_ar  Worm  3  sample  4\n",
      "Model  best_hhmm_recurrent_robust_ar  Worm  3  sample  5\n",
      "Model  best_hhmm_recurrent_robust_ar  Worm  3  sample  6\n",
      "Model  best_hhmm_recurrent_robust_ar  Worm  3  sample  7\n",
      "Model  best_hhmm_recurrent_robust_ar  Worm  3  sample  8\n",
      "Model  best_hhmm_recurrent_robust_ar  Worm  3  sample  9\n",
      "Model  best_hhmm_recurrent_robust_ar  Worm  3  sample  10\n"
     ]
    },
    {
     "name": "stdout",
     "output_type": "stream",
     "text": [
      "Model  best_hhmm_recurrent_robust_ar  Worm  3  sample  11\n",
      "Model  best_hhmm_recurrent_robust_ar  Worm  3  sample  12\n",
      "Model  best_hhmm_recurrent_robust_ar  Worm  3  sample  13\n",
      "Model  best_hhmm_recurrent_robust_ar  Worm  3  sample  14\n",
      "Model  best_hhmm_recurrent_robust_ar  Worm  3  sample  15\n",
      "Model  best_hhmm_recurrent_robust_ar  Worm  3  sample  16\n",
      "Model  best_hhmm_recurrent_robust_ar  Worm  3  sample  17\n",
      "Model  best_hhmm_recurrent_robust_ar  Worm  3  sample  18\n",
      "Model  best_hhmm_recurrent_robust_ar  Worm  3  sample  19\n",
      "Model  best_hhmm_recurrent_robust_ar  Worm  4  sample  0\n",
      "Model  best_hhmm_recurrent_robust_ar  Worm  4  sample  1\n",
      "Model  best_hhmm_recurrent_robust_ar  Worm  4  sample  2\n",
      "Model  best_hhmm_recurrent_robust_ar  Worm  4  sample  3\n",
      "Model  best_hhmm_recurrent_robust_ar  Worm  4  sample  4\n",
      "Model  best_hhmm_recurrent_robust_ar  Worm  4  sample  5\n",
      "Model  best_hhmm_recurrent_robust_ar  Worm  4  sample  6\n",
      "Model  best_hhmm_recurrent_robust_ar  Worm  4  sample  7\n",
      "Model  best_hhmm_recurrent_robust_ar  Worm  4  sample  8\n",
      "Model  best_hhmm_recurrent_robust_ar  Worm  4  sample  9\n",
      "Model  best_hhmm_recurrent_robust_ar  Worm  4  sample  10\n",
      "Model  best_hhmm_recurrent_robust_ar  Worm  4  sample  11\n",
      "Model  best_hhmm_recurrent_robust_ar  Worm  4  sample  12\n",
      "Model  best_hhmm_recurrent_robust_ar  Worm  4  sample  13\n",
      "Model  best_hhmm_recurrent_robust_ar  Worm  4  sample  14\n",
      "Model  best_hhmm_recurrent_robust_ar  Worm  4  sample  15\n",
      "Model  best_hhmm_recurrent_robust_ar  Worm  4  sample  16\n",
      "Model  best_hhmm_recurrent_robust_ar  Worm  4  sample  17\n",
      "Model  best_hhmm_recurrent_robust_ar  Worm  4  sample  18\n",
      "Model  best_hhmm_recurrent_robust_ar  Worm  4  sample  19\n"
     ]
    }
   ],
   "source": [
    "simulations = {}\n",
    "for name, (model, _) in best_results.items(): \n",
    "    print(\"Simulating \", name)\n",
    "    _sim = cached(results_dir, name + \"_sim\")(simulate_model)\n",
    "    simulations[name] = _sim(name, model)"
   ]
  },
  {
   "cell_type": "code",
   "execution_count": null,
   "metadata": {
    "collapsed": true
   },
   "outputs": [],
   "source": []
  }
 ],
 "metadata": {
  "kernelspec": {
   "display_name": "Python 3",
   "language": "python",
   "name": "python3"
  },
  "language_info": {
   "codemirror_mode": {
    "name": "ipython",
    "version": 3
   },
   "file_extension": ".py",
   "mimetype": "text/x-python",
   "name": "python",
   "nbconvert_exporter": "python",
   "pygments_lexer": "ipython3",
   "version": "3.6.3"
  }
 },
 "nbformat": 4,
 "nbformat_minor": 2
}
